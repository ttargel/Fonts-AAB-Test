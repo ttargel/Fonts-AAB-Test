{
 "cells": [
  {
   "cell_type": "markdown",
   "metadata": {},
   "source": [
    "# Do Users Even Give a F...ont?\n",
    "We've been hired by a startup company that sells food products, and we were tasked with studying user behaviour in the company's app. The company is interested in trying to boost its revenue by changing the app's fonts, but is concerned this might be an intimidating change that would actually cause the opposite effect. \n",
    "\n",
    "That's why an A/A/B test was called in. A certain amount of users has been picked, and users were split into three groups - two control groups, users of which were monitored while using the app having its current font set, and one test group, users of which were shown the new fonts. The test has been going on for some time, and now the company wants to know whether the new fonts were beneficial or did they have adverse effects. Or, maybe, neither?\n",
    "\n",
    "Do users even \"give a Font\"?"
   ]
  },
  {
   "cell_type": "markdown",
   "metadata": {},
   "source": [
    "# Outline of Analysis\n",
    "The first thing we have done was to prepare the data for analysis. This included adding a few additional columns, changing data types, checking for duplicates, as well as trying to figure out what's the source of those duplicates, before deciding how to handle them.\n",
    "\n",
    "Once this was done, we also checked whether all entries in the data are relevant. This was done by checking the dates from and until which the entries span, and, judging by the amount of entries in each date, we have determined the relevant time period to be analyzed, while discarding irrelevant entries from other periods. We also checked whether some of the users in the dataset belonged to more than group.\n",
    "\n",
    "While this wasn't requested explicitly, we also checked for outliers in the data. We're dealing with users who perform actions on an app, which means some of them make a small amount of actions and some make a large amount of them. We checked for the distribution of number of actions per user, and tried to determine what could be considered a typical behaviour. However, at the initial stage of the analysis, we did not drop any users from the data, unless they didn't have any registered action during the relevant period, discussed above.\n",
    "\n",
    "Once everything was ready, we proceeded to study the event funnel of the app. We did this two different ways - one, by studying the user behaviour of the entire population of the test, regardless of group. Two, we did the same for each of the groups individually, to enable us to compare the groups, at least on a basic level. Our event funnels showed two types of information - one type was focused on the number of occurences of each type of event of the app, and the other focused on the number and the percentage of *users* who went from one stage to the next, thus enabling us to determine retention rates, and see which step was the most problematic - the step in which we lose most users.\n",
    "\n",
    "After all of that, we aggregated the data and performed a series of Z-tests - tests of proportion comparison - in order to see if there is any statistically significant difference between the groups. This included an A/A test, in which the two control groups were compared, in order to make sure the recruitment phase of the test went properly, so we could be sure our A/B test results were genuine, and not skewed by some error. We have compared all groups between themselves for every step of the action sequence in the app, and came to our final conclusion.\n",
    "\n",
    "In order to further verify our results and conclusions, we have prepared a **filtered** dataset, excluding all the users deemed outliers in terms of number of actions. We re-made all the appropriate tables, and re-ran all of the Z-tests, to see if excluding the outliers made any difference at all.\n",
    "\n",
    "Once we had all the test results, both with and without the outliers, we made our final conclusions, written at the very bottom of this report."
   ]
  },
  {
   "cell_type": "markdown",
   "metadata": {},
   "source": [
    "# Table of Contents\n",
    "1. [Initialization](#Initialization)\n",
    "2. [Preparing the Data for Analysis](#Preparing-the-Data-for-Analysis)\n",
    "3. [Studying and Checking the Data](#Studying-and-Checking-the-Data)\n",
    "4. [Studying the Event Funnel](#Studying-the-Event-Funnel)\n",
    "5. [Interim Conclusions](#Interim-Conclusions)\n",
    "6. [Checking User Sequences](#Checking-User-Sequences)\n",
    "7. [Experiment Results](#Experiment-Results)\n",
    "8. [Interim Conclusions (2)](#Interim-Conclusions-(2))\n",
    "9. [Studying the Filtered Data, and Re-running the Tests](#Studying-the-Filtered-Data,-and-Re-running-the-Tests)\n",
    "10. [Final Conclusions](#Final-Conclusions)"
   ]
  },
  {
   "cell_type": "markdown",
   "metadata": {},
   "source": [
    "# Initialization"
   ]
  },
  {
   "cell_type": "code",
   "execution_count": 1,
   "metadata": {},
   "outputs": [],
   "source": [
    "import pandas as pd\n",
    "import numpy as np\n",
    "\n",
    "import plotly.express as px\n",
    "import plotly.graph_objects as go\n",
    "import plotly.io as pio\n",
    "\n",
    "from datetime import datetime\n",
    "from statsmodels.stats.proportion import proportions_ztest\n",
    "\n",
    "pd.set_option('display.max_colwidth', None)"
   ]
  },
  {
   "cell_type": "code",
   "execution_count": 2,
   "metadata": {},
   "outputs": [],
   "source": [
    "# loading the data\n",
    "\n",
    "# note: we wanted to change the datatype of the `EventName` column to `category`, \n",
    "# since it can only take 5 values, but it actually caused some issues later.\n",
    "logs_raw = pd.read_csv('logs_exp_us.csv', sep = '\\t')\n",
    "\n",
    "# renaming the columns to more friendly names.\n",
    "logs_raw.columns = ['event_name', 'user_id', 'event_timestamp', 'group_id'] "
   ]
  },
  {
   "cell_type": "code",
   "execution_count": 3,
   "metadata": {},
   "outputs": [
    {
     "name": "stdout",
     "output_type": "stream",
     "text": [
      "<class 'pandas.core.frame.DataFrame'>\n",
      "RangeIndex: 244126 entries, 0 to 244125\n",
      "Data columns (total 4 columns):\n",
      " #   Column           Non-Null Count   Dtype \n",
      "---  ------           --------------   ----- \n",
      " 0   event_name       244126 non-null  object\n",
      " 1   user_id          244126 non-null  int64 \n",
      " 2   event_timestamp  244126 non-null  int64 \n",
      " 3   group_id         244126 non-null  int64 \n",
      "dtypes: int64(3), object(1)\n",
      "memory usage: 22.9 MB\n"
     ]
    }
   ],
   "source": [
    "# checking basic info and datatypes\n",
    "logs_raw.info(memory_usage = 'deep')"
   ]
  },
  {
   "cell_type": "code",
   "execution_count": 4,
   "metadata": {},
   "outputs": [
    {
     "data": {
      "text/html": [
       "<div>\n",
       "<style scoped>\n",
       "    .dataframe tbody tr th:only-of-type {\n",
       "        vertical-align: middle;\n",
       "    }\n",
       "\n",
       "    .dataframe tbody tr th {\n",
       "        vertical-align: top;\n",
       "    }\n",
       "\n",
       "    .dataframe thead th {\n",
       "        text-align: right;\n",
       "    }\n",
       "</style>\n",
       "<table border=\"1\" class=\"dataframe\">\n",
       "  <thead>\n",
       "    <tr style=\"text-align: right;\">\n",
       "      <th></th>\n",
       "      <th>event_name</th>\n",
       "      <th>user_id</th>\n",
       "      <th>event_timestamp</th>\n",
       "      <th>group_id</th>\n",
       "    </tr>\n",
       "  </thead>\n",
       "  <tbody>\n",
       "    <tr>\n",
       "      <th>139373</th>\n",
       "      <td>OffersScreenAppear</td>\n",
       "      <td>8016534965909266602</td>\n",
       "      <td>1564950333</td>\n",
       "      <td>247</td>\n",
       "    </tr>\n",
       "    <tr>\n",
       "      <th>191193</th>\n",
       "      <td>MainScreenAppear</td>\n",
       "      <td>3909945206876963575</td>\n",
       "      <td>1565090044</td>\n",
       "      <td>247</td>\n",
       "    </tr>\n",
       "    <tr>\n",
       "      <th>165705</th>\n",
       "      <td>OffersScreenAppear</td>\n",
       "      <td>3059176892016404589</td>\n",
       "      <td>1565019924</td>\n",
       "      <td>246</td>\n",
       "    </tr>\n",
       "    <tr>\n",
       "      <th>53433</th>\n",
       "      <td>CartScreenAppear</td>\n",
       "      <td>7543879591140518446</td>\n",
       "      <td>1564744256</td>\n",
       "      <td>246</td>\n",
       "    </tr>\n",
       "    <tr>\n",
       "      <th>236001</th>\n",
       "      <td>CartScreenAppear</td>\n",
       "      <td>8644931766545549368</td>\n",
       "      <td>1565194100</td>\n",
       "      <td>246</td>\n",
       "    </tr>\n",
       "  </tbody>\n",
       "</table>\n",
       "</div>"
      ],
      "text/plain": [
       "                event_name              user_id  event_timestamp  group_id\n",
       "139373  OffersScreenAppear  8016534965909266602       1564950333       247\n",
       "191193    MainScreenAppear  3909945206876963575       1565090044       247\n",
       "165705  OffersScreenAppear  3059176892016404589       1565019924       246\n",
       "53433     CartScreenAppear  7543879591140518446       1564744256       246\n",
       "236001    CartScreenAppear  8644931766545549368       1565194100       246"
      ]
     },
     "execution_count": 4,
     "metadata": {},
     "output_type": "execute_result"
    }
   ],
   "source": [
    "# first look at the data\n",
    "logs_raw.sample(5)"
   ]
  },
  {
   "cell_type": "markdown",
   "metadata": {},
   "source": [
    "# Preparing the Data for Analysis\n",
    "The data is loaded, column names are better now (originally they had no spaces and a mixture of upper and lowercase letters).\n",
    "\n",
    "According to the `.info` output, there are no missing values. However, we still need to:\n",
    "\n",
    "1) Verify that there are only three possible values for `group_id`, as sometimes mistakes can happen and other, irrelevant values may be recorded.\n",
    "\n",
    "2) Verify that there are no users belonging to more than one group. If any such users are found, they ought to be removed completely.\n",
    "\n",
    "3) Change the `event_timestamp` to a more informative-looking type, which includes date and exact time.\n",
    "\n",
    "4) Check for duplicates, and if any are found - decide how to handle them.\n",
    "\n",
    "5) Add an `event_date` column. It willshow only the date of the event, without the exact time.\n",
    "\n",
    "Once we've done all of these, we will be ready to move on."
   ]
  },
  {
   "cell_type": "code",
   "execution_count": 5,
   "metadata": {},
   "outputs": [
    {
     "data": {
      "text/plain": [
       "array([246, 248, 247], dtype=int64)"
      ]
     },
     "execution_count": 5,
     "metadata": {},
     "output_type": "execute_result"
    }
   ],
   "source": [
    "# verifying that `group_id` only takes the three possible values - 246, 247, and 248:\n",
    "logs_raw['group_id'].unique()"
   ]
  },
  {
   "cell_type": "markdown",
   "metadata": {},
   "source": [
    "Looks fine. No other kinds of \"groups\" have been recorded."
   ]
  },
  {
   "cell_type": "code",
   "execution_count": 6,
   "metadata": {},
   "outputs": [
    {
     "data": {
      "text/html": [
       "<div>\n",
       "<style scoped>\n",
       "    .dataframe tbody tr th:only-of-type {\n",
       "        vertical-align: middle;\n",
       "    }\n",
       "\n",
       "    .dataframe tbody tr th {\n",
       "        vertical-align: top;\n",
       "    }\n",
       "\n",
       "    .dataframe thead th {\n",
       "        text-align: right;\n",
       "    }\n",
       "</style>\n",
       "<table border=\"1\" class=\"dataframe\">\n",
       "  <thead>\n",
       "    <tr style=\"text-align: right;\">\n",
       "      <th></th>\n",
       "      <th>user_id</th>\n",
       "      <th>group_id</th>\n",
       "    </tr>\n",
       "  </thead>\n",
       "  <tbody>\n",
       "  </tbody>\n",
       "</table>\n",
       "</div>"
      ],
      "text/plain": [
       "Empty DataFrame\n",
       "Columns: [user_id, group_id]\n",
       "Index: []"
      ]
     },
     "execution_count": 6,
     "metadata": {},
     "output_type": "execute_result"
    }
   ],
   "source": [
    "# verifying that no user belongs to more than one `group_id`:\n",
    "logs_raw.groupby('user_id')['group_id'].nunique().reset_index().query('group_id > 1')"
   ]
  },
  {
   "cell_type": "markdown",
   "metadata": {},
   "source": [
    "So far, so good. The above query returned an empty dataframe, which means that not a single user has been mistakenly assigned to more than one group."
   ]
  },
  {
   "cell_type": "markdown",
   "metadata": {},
   "source": [
    "(This markdown cell and the next code-cell is for **practice only**. You can skip them!)\n",
    "\n",
    "The above method will give us a dataframe with all users who belong in ANY two groups, in any combination, or all three groups.\n",
    "This is useful, neat and easy to use, if this is our goal (and it is, in our case).\n",
    "\n",
    "However, if we wanted to make a list of all the user id's in every group, and then look for users who belong in:\n",
    "\n",
    "1) All three groups, or\n",
    "\n",
    "2) A combination of two *specific* groups\n",
    "\n",
    "Then we could do the following:"
   ]
  },
  {
   "cell_type": "code",
   "execution_count": 7,
   "metadata": {},
   "outputs": [
    {
     "name": "stdout",
     "output_type": "stream",
     "text": [
      "Number of members in group 246: 2489\n",
      "Number of members in group 247: 2520\n",
      "Number of members in group 248: 2542\n",
      "Number of shared members in all groups: 0\n",
      "Number of shared members in control groups: 0\n"
     ]
    }
   ],
   "source": [
    "members_246 = logs_raw.query('group_id == 246')['user_id'].unique() # list of all user id's in group 246\n",
    "members_247 = logs_raw.query('group_id == 247')['user_id'].unique() # list of all user id's in group 247\n",
    "members_248 = logs_raw.query('group_id == 248')['user_id'].unique() # list of all user id's in group 248\n",
    "\n",
    "# list of all user id's present in ALL THREE GROUPS\n",
    "shared_all = list(set(members_246).intersection(members_247).intersection(members_248)) \n",
    "\n",
    "# list of all user id's present in both control groups, whether or not they also present in the test group\n",
    "shared_control = list(set(members_246).intersection(members_247))                                                                \n",
    "\n",
    "print ('Number of members in group 246:', len(members_246))\n",
    "print ('Number of members in group 247:', len(members_247))\n",
    "print ('Number of members in group 248:', len(members_248))\n",
    "print ('Number of shared members in all groups:', len(shared_all))\n",
    "print ('Number of shared members in control groups:', len(shared_control))"
   ]
  },
  {
   "cell_type": "code",
   "execution_count": 8,
   "metadata": {},
   "outputs": [
    {
     "data": {
      "text/html": [
       "<div>\n",
       "<style scoped>\n",
       "    .dataframe tbody tr th:only-of-type {\n",
       "        vertical-align: middle;\n",
       "    }\n",
       "\n",
       "    .dataframe tbody tr th {\n",
       "        vertical-align: top;\n",
       "    }\n",
       "\n",
       "    .dataframe thead th {\n",
       "        text-align: right;\n",
       "    }\n",
       "</style>\n",
       "<table border=\"1\" class=\"dataframe\">\n",
       "  <thead>\n",
       "    <tr style=\"text-align: right;\">\n",
       "      <th></th>\n",
       "      <th>event_name</th>\n",
       "      <th>user_id</th>\n",
       "      <th>event_timestamp</th>\n",
       "      <th>group_id</th>\n",
       "    </tr>\n",
       "  </thead>\n",
       "  <tbody>\n",
       "    <tr>\n",
       "      <th>0</th>\n",
       "      <td>MainScreenAppear</td>\n",
       "      <td>4575588528974610257</td>\n",
       "      <td>2019-07-25 07:43:36</td>\n",
       "      <td>246</td>\n",
       "    </tr>\n",
       "    <tr>\n",
       "      <th>1</th>\n",
       "      <td>MainScreenAppear</td>\n",
       "      <td>7416695313311560658</td>\n",
       "      <td>2019-07-25 14:11:42</td>\n",
       "      <td>246</td>\n",
       "    </tr>\n",
       "    <tr>\n",
       "      <th>2</th>\n",
       "      <td>PaymentScreenSuccessful</td>\n",
       "      <td>3518123091307005509</td>\n",
       "      <td>2019-07-25 14:28:47</td>\n",
       "      <td>248</td>\n",
       "    </tr>\n",
       "    <tr>\n",
       "      <th>3</th>\n",
       "      <td>CartScreenAppear</td>\n",
       "      <td>3518123091307005509</td>\n",
       "      <td>2019-07-25 14:28:47</td>\n",
       "      <td>248</td>\n",
       "    </tr>\n",
       "    <tr>\n",
       "      <th>4</th>\n",
       "      <td>PaymentScreenSuccessful</td>\n",
       "      <td>6217807653094995999</td>\n",
       "      <td>2019-07-25 14:48:42</td>\n",
       "      <td>248</td>\n",
       "    </tr>\n",
       "  </tbody>\n",
       "</table>\n",
       "</div>"
      ],
      "text/plain": [
       "                event_name              user_id     event_timestamp  group_id\n",
       "0         MainScreenAppear  4575588528974610257 2019-07-25 07:43:36       246\n",
       "1         MainScreenAppear  7416695313311560658 2019-07-25 14:11:42       246\n",
       "2  PaymentScreenSuccessful  3518123091307005509 2019-07-25 14:28:47       248\n",
       "3         CartScreenAppear  3518123091307005509 2019-07-25 14:28:47       248\n",
       "4  PaymentScreenSuccessful  6217807653094995999 2019-07-25 14:48:42       248"
      ]
     },
     "execution_count": 8,
     "metadata": {},
     "output_type": "execute_result"
    }
   ],
   "source": [
    "# fixing the `event_timestamp` column to show real dates and times:\n",
    "logs_raw['event_timestamp'] = logs_raw['event_timestamp'].apply(lambda x:datetime.fromtimestamp(x))\n",
    "\n",
    "# an alternative method to achieve the same result, not requiring `datetime` or the lambda function:\n",
    "# logs_raw['event_timestamp'] = pd.to_datetime(logs_raw['event_timestamp'], unit='s')\n",
    "\n",
    "logs_raw.head()"
   ]
  },
  {
   "cell_type": "code",
   "execution_count": 9,
   "metadata": {},
   "outputs": [
    {
     "data": {
      "text/plain": [
       "413"
      ]
     },
     "execution_count": 9,
     "metadata": {},
     "output_type": "execute_result"
    }
   ],
   "source": [
    "# checking for number of duplicated rows\n",
    "logs_raw.duplicated().sum()"
   ]
  },
  {
   "cell_type": "markdown",
   "metadata": {},
   "source": [
    "Out of 244126 entries, we have 413 duplicated ones. This is actually a very low amount (0.17% of all entries), thus removing them seems to make sense. However, before we do that, we should do something we don't usually do (and that's not a good thing) - we should investigate what \"kind\" of duplicates are these, and perhaps try to understand where they came from. Although right now there isn't anything we can do to actually \"repair\" the data (only remove the duplicated rows), these might be an information worth knowing, in order to prevent such cases from occuring again.\n",
    "\n",
    "This is what we will do:\n",
    "We will iterate through all the columns in the duplicated data (there are only four columns, thankfully), and will calculate in how many *unique values* we have duplicates. This is best explained by two examples: \n",
    "\n",
    "1) We know we have three `group id`'s - 246, 247, and 248. Do we have duplicates only for ONE group? two groups? all three groups? maybe we will find out that only one group had duplicates for some reason. \n",
    "\n",
    "2) We know we have 5 different kinds of `event_name`s. Does our duplicated data involve *all five* events, or just one? we could find, for instance, that all 413 duplicated entries take just one value in the `event_name` column - for example, `MainScreenAppear`? If so, this would mean that there are no duplicates whatsoever for any of the other four events types. That could give us some hint what the problem is, even if we can't solve it right now.\n",
    "\n",
    "As for WHY do we have duplicates - there could be many reasons, and it's possible that we, specifically, don't / won't have the tools to pinpoint the exact reasons."
   ]
  },
  {
   "cell_type": "code",
   "execution_count": 10,
   "metadata": {},
   "outputs": [
    {
     "data": {
      "text/html": [
       "<div>\n",
       "<style scoped>\n",
       "    .dataframe tbody tr th:only-of-type {\n",
       "        vertical-align: middle;\n",
       "    }\n",
       "\n",
       "    .dataframe tbody tr th {\n",
       "        vertical-align: top;\n",
       "    }\n",
       "\n",
       "    .dataframe thead th {\n",
       "        text-align: right;\n",
       "    }\n",
       "</style>\n",
       "<table border=\"1\" class=\"dataframe\">\n",
       "  <thead>\n",
       "    <tr style=\"text-align: right;\">\n",
       "      <th></th>\n",
       "      <th>event_name</th>\n",
       "      <th>user_id</th>\n",
       "      <th>event_timestamp</th>\n",
       "      <th>group_id</th>\n",
       "    </tr>\n",
       "  </thead>\n",
       "  <tbody>\n",
       "    <tr>\n",
       "      <th>97586</th>\n",
       "      <td>PaymentScreenSuccessful</td>\n",
       "      <td>3610536745613892312</td>\n",
       "      <td>2019-08-03 18:21:06</td>\n",
       "      <td>248</td>\n",
       "    </tr>\n",
       "    <tr>\n",
       "      <th>58579</th>\n",
       "      <td>MainScreenAppear</td>\n",
       "      <td>5613730186262378552</td>\n",
       "      <td>2019-08-02 16:33:53</td>\n",
       "      <td>248</td>\n",
       "    </tr>\n",
       "    <tr>\n",
       "      <th>100730</th>\n",
       "      <td>PaymentScreenSuccessful</td>\n",
       "      <td>2570971451355530886</td>\n",
       "      <td>2019-08-03 19:49:05</td>\n",
       "      <td>248</td>\n",
       "    </tr>\n",
       "    <tr>\n",
       "      <th>23040</th>\n",
       "      <td>CartScreenAppear</td>\n",
       "      <td>6175409940769721675</td>\n",
       "      <td>2019-08-01 17:09:06</td>\n",
       "      <td>246</td>\n",
       "    </tr>\n",
       "    <tr>\n",
       "      <th>235825</th>\n",
       "      <td>PaymentScreenSuccessful</td>\n",
       "      <td>877451560995731305</td>\n",
       "      <td>2019-08-07 19:04:47</td>\n",
       "      <td>247</td>\n",
       "    </tr>\n",
       "  </tbody>\n",
       "</table>\n",
       "</div>"
      ],
      "text/plain": [
       "                     event_name              user_id     event_timestamp  \\\n",
       "97586   PaymentScreenSuccessful  3610536745613892312 2019-08-03 18:21:06   \n",
       "58579          MainScreenAppear  5613730186262378552 2019-08-02 16:33:53   \n",
       "100730  PaymentScreenSuccessful  2570971451355530886 2019-08-03 19:49:05   \n",
       "23040          CartScreenAppear  6175409940769721675 2019-08-01 17:09:06   \n",
       "235825  PaymentScreenSuccessful   877451560995731305 2019-08-07 19:04:47   \n",
       "\n",
       "        group_id  \n",
       "97586        248  \n",
       "58579        248  \n",
       "100730       248  \n",
       "23040        246  \n",
       "235825       247  "
      ]
     },
     "execution_count": 10,
     "metadata": {},
     "output_type": "execute_result"
    }
   ],
   "source": [
    "# creating a dataframe consisting of only the duplicated entries:\n",
    "duplicated_data = logs_raw[logs_raw.duplicated()]\n",
    "duplicated_data.sample(5)"
   ]
  },
  {
   "cell_type": "code",
   "execution_count": 11,
   "metadata": {},
   "outputs": [
    {
     "name": "stdout",
     "output_type": "stream",
     "text": [
      "Amount of unique values in the event_name column: 5\n",
      "Amount of unique values in the user_id column: 237\n",
      "Amount of unique values in the event_timestamp column: 352\n",
      "Amount of unique values in the group_id column: 3\n"
     ]
    }
   ],
   "source": [
    "# checking the amount of unique values which had duplicates, in each column:\n",
    "for column in duplicated_data.columns:\n",
    "    print('Amount of unique values in the', column,'column:', duplicated_data[column].nunique())"
   ]
  },
  {
   "cell_type": "markdown",
   "metadata": {},
   "source": [
    "This is what we understand:\n",
    "\n",
    "1) The duplicated entries happen with all 5 types of events. It isn't unique to any one kind of event.\n",
    "\n",
    "2) We have 237 different users with at least one duplicated values (we could have a maximum of 413 users, in which case each one would only have 1 duplicated entry).\n",
    "\n",
    "3) We have 352 different timestamps in which duplicates have occured. This doesn't tell us too much, but it's quite extraordinary (or ominous?) that we don't have 413 unique timestamps here. What are the odds of two different duplicate entries having the EXACT same timestamp? not very high, **UNLESS** some duplicated entries are completely identical to each other, meaning a certain event, of a certain user, was recorded not just one extra time, but more. We will try find an example for that in a bit.\n",
    "\n",
    "4) We have duplicated across all three groups. It's not just a problem of any one or two specific groups."
   ]
  },
  {
   "cell_type": "code",
   "execution_count": 12,
   "metadata": {},
   "outputs": [
    {
     "data": {
      "text/plain": [
       "2019-08-02 09:10:06    4\n",
       "2019-08-01 16:20:40    4\n",
       "2019-08-02 01:11:49    4\n",
       "2019-08-02 01:11:53    4\n",
       "2019-08-05 20:00:03    3\n",
       "Name: event_timestamp, dtype: int64"
      ]
     },
     "execution_count": 12,
     "metadata": {},
     "output_type": "execute_result"
    }
   ],
   "source": [
    "# finding the most prevalent timestamps in the duplicated data:\n",
    "duplicated_data['event_timestamp'].value_counts().head(5)"
   ]
  },
  {
   "cell_type": "code",
   "execution_count": 13,
   "metadata": {},
   "outputs": [
    {
     "data": {
      "text/html": [
       "<div>\n",
       "<style scoped>\n",
       "    .dataframe tbody tr th:only-of-type {\n",
       "        vertical-align: middle;\n",
       "    }\n",
       "\n",
       "    .dataframe tbody tr th {\n",
       "        vertical-align: top;\n",
       "    }\n",
       "\n",
       "    .dataframe thead th {\n",
       "        text-align: right;\n",
       "    }\n",
       "</style>\n",
       "<table border=\"1\" class=\"dataframe\">\n",
       "  <thead>\n",
       "    <tr style=\"text-align: right;\">\n",
       "      <th></th>\n",
       "      <th>event_name</th>\n",
       "      <th>user_id</th>\n",
       "      <th>event_timestamp</th>\n",
       "      <th>group_id</th>\n",
       "    </tr>\n",
       "  </thead>\n",
       "  <tbody>\n",
       "    <tr>\n",
       "      <th>44077</th>\n",
       "      <td>PaymentScreenSuccessful</td>\n",
       "      <td>636437379427729086</td>\n",
       "      <td>2019-08-02 09:10:06</td>\n",
       "      <td>247</td>\n",
       "    </tr>\n",
       "    <tr>\n",
       "      <th>44078</th>\n",
       "      <td>PaymentScreenSuccessful</td>\n",
       "      <td>636437379427729086</td>\n",
       "      <td>2019-08-02 09:10:06</td>\n",
       "      <td>247</td>\n",
       "    </tr>\n",
       "    <tr>\n",
       "      <th>44079</th>\n",
       "      <td>PaymentScreenSuccessful</td>\n",
       "      <td>636437379427729086</td>\n",
       "      <td>2019-08-02 09:10:06</td>\n",
       "      <td>247</td>\n",
       "    </tr>\n",
       "    <tr>\n",
       "      <th>44080</th>\n",
       "      <td>PaymentScreenSuccessful</td>\n",
       "      <td>636437379427729086</td>\n",
       "      <td>2019-08-02 09:10:06</td>\n",
       "      <td>247</td>\n",
       "    </tr>\n",
       "  </tbody>\n",
       "</table>\n",
       "</div>"
      ],
      "text/plain": [
       "                    event_name             user_id     event_timestamp  \\\n",
       "44077  PaymentScreenSuccessful  636437379427729086 2019-08-02 09:10:06   \n",
       "44078  PaymentScreenSuccessful  636437379427729086 2019-08-02 09:10:06   \n",
       "44079  PaymentScreenSuccessful  636437379427729086 2019-08-02 09:10:06   \n",
       "44080  PaymentScreenSuccessful  636437379427729086 2019-08-02 09:10:06   \n",
       "\n",
       "       group_id  \n",
       "44077       247  \n",
       "44078       247  \n",
       "44079       247  \n",
       "44080       247  "
      ]
     },
     "execution_count": 13,
     "metadata": {},
     "output_type": "execute_result"
    }
   ],
   "source": [
    "# trying to find out if it's only a coincidence, or do some entries repeat themselves more than one time, \n",
    "# which would explain why we have less than 413 unique timestamps:\n",
    "\n",
    "duplicated_data.query('event_timestamp == \"2019-08-02 09:10:06\"')"
   ]
  },
  {
   "cell_type": "markdown",
   "metadata": {},
   "source": [
    "Right, now it makes more sense. We don't have 413 different timestamps because some operations (events) of specific users were registered not just one extra time, but up to four extra times, as the above example shows. Let's hope the customer in question didn't really pay for the same order four times...\n",
    "\n",
    "We can check one more thing - were all the duplicated entries recorded on the same day, or different days? if so, how many? "
   ]
  },
  {
   "cell_type": "code",
   "execution_count": 14,
   "metadata": {},
   "outputs": [
    {
     "data": {
      "text/plain": [
       "array([datetime.date(2019, 7, 30), datetime.date(2019, 8, 1),\n",
       "       datetime.date(2019, 8, 2), datetime.date(2019, 8, 3),\n",
       "       datetime.date(2019, 8, 4), datetime.date(2019, 8, 5),\n",
       "       datetime.date(2019, 8, 6), datetime.date(2019, 8, 7)], dtype=object)"
      ]
     },
     "execution_count": 14,
     "metadata": {},
     "output_type": "execute_result"
    }
   ],
   "source": [
    "duplicated_data['event_timestamp'].dt.date.unique()"
   ]
  },
  {
   "cell_type": "markdown",
   "metadata": {},
   "source": [
    "The word \"DISASTER\" has 8 letters in it, which is only fitting, given the fact that we now see that the duplicated entries come from **eight consecutive days!**\n",
    "\n",
    "This means that whatever fault caused the duplicated entries, it didn't last for just 1 day, or just a few minutes. It lasted much longer than that...\n",
    "\n",
    "Either way, now that we know our duplicated data is splattered all over 8 days, 5 event types, 237 users and all 3 groups - we can only say it wasn't due to some random, short-lived fault in the data collection process. It was something bigger than that, but it isn't in our power to fix it now.\n",
    "\n",
    "Our only consolation is that we are talking about a very minor part of the data - roughly 0.17% of all entries. It could have been much worse.\n",
    "Naturally, we will remove all duplicated rows soon, keeping only one instance of each of the duplicated entries, and report our findings to our superiors. This should not have happened!"
   ]
  },
  {
   "cell_type": "code",
   "execution_count": 15,
   "metadata": {},
   "outputs": [
    {
     "data": {
      "text/html": [
       "<div>\n",
       "<style scoped>\n",
       "    .dataframe tbody tr th:only-of-type {\n",
       "        vertical-align: middle;\n",
       "    }\n",
       "\n",
       "    .dataframe tbody tr th {\n",
       "        vertical-align: top;\n",
       "    }\n",
       "\n",
       "    .dataframe thead th {\n",
       "        text-align: right;\n",
       "    }\n",
       "</style>\n",
       "<table border=\"1\" class=\"dataframe\">\n",
       "  <thead>\n",
       "    <tr style=\"text-align: right;\">\n",
       "      <th></th>\n",
       "      <th>event_name</th>\n",
       "      <th>user_id</th>\n",
       "      <th>event_timestamp</th>\n",
       "      <th>group_id</th>\n",
       "      <th>event_date</th>\n",
       "    </tr>\n",
       "  </thead>\n",
       "  <tbody>\n",
       "    <tr>\n",
       "      <th>185211</th>\n",
       "      <td>MainScreenAppear</td>\n",
       "      <td>2682464059584798653</td>\n",
       "      <td>2019-08-06 11:09:46</td>\n",
       "      <td>248</td>\n",
       "      <td>2019-08-06</td>\n",
       "    </tr>\n",
       "    <tr>\n",
       "      <th>65847</th>\n",
       "      <td>OffersScreenAppear</td>\n",
       "      <td>1456479928857490458</td>\n",
       "      <td>2019-08-02 19:32:51</td>\n",
       "      <td>247</td>\n",
       "      <td>2019-08-02</td>\n",
       "    </tr>\n",
       "    <tr>\n",
       "      <th>114157</th>\n",
       "      <td>MainScreenAppear</td>\n",
       "      <td>8810941885921686538</td>\n",
       "      <td>2019-08-04 11:14:05</td>\n",
       "      <td>247</td>\n",
       "      <td>2019-08-04</td>\n",
       "    </tr>\n",
       "  </tbody>\n",
       "</table>\n",
       "</div>"
      ],
      "text/plain": [
       "                event_name              user_id     event_timestamp  group_id  \\\n",
       "185211    MainScreenAppear  2682464059584798653 2019-08-06 11:09:46       248   \n",
       "65847   OffersScreenAppear  1456479928857490458 2019-08-02 19:32:51       247   \n",
       "114157    MainScreenAppear  8810941885921686538 2019-08-04 11:14:05       247   \n",
       "\n",
       "       event_date  \n",
       "185211 2019-08-06  \n",
       "65847  2019-08-02  \n",
       "114157 2019-08-04  "
      ]
     },
     "execution_count": 15,
     "metadata": {},
     "output_type": "execute_result"
    }
   ],
   "source": [
    "# adding the `event_date` and `event_time` columns:\n",
    "logs_raw['event_date'] = logs_raw['event_timestamp'].astype('datetime64[D]')\n",
    "\n",
    "logs_raw.sample(3)"
   ]
  },
  {
   "cell_type": "code",
   "execution_count": 16,
   "metadata": {},
   "outputs": [
    {
     "name": "stdout",
     "output_type": "stream",
     "text": [
      "<class 'pandas.core.frame.DataFrame'>\n",
      "RangeIndex: 244126 entries, 0 to 244125\n",
      "Data columns (total 5 columns):\n",
      " #   Column           Non-Null Count   Dtype         \n",
      "---  ------           --------------   -----         \n",
      " 0   event_name       244126 non-null  object        \n",
      " 1   user_id          244126 non-null  int64         \n",
      " 2   event_timestamp  244126 non-null  datetime64[ns]\n",
      " 3   group_id         244126 non-null  int64         \n",
      " 4   event_date       244126 non-null  datetime64[ns]\n",
      "dtypes: datetime64[ns](2), int64(2), object(1)\n",
      "memory usage: 24.8 MB\n"
     ]
    }
   ],
   "source": [
    "logs_raw.info(memory_usage = 'deep')"
   ]
  },
  {
   "cell_type": "markdown",
   "metadata": {},
   "source": [
    "We will now remove the duplicated entries from the data, but our investigation is still incomplete. We still need to check for a few more things before we can call our data \"clean\".\n",
    "\n",
    "**Please note**, we are removing only those 413 entries which are *full* duplicates, meaning, they match other entries before them entirely. One might argue that we should remove all entries which share the same values in only *some* of the columns (a subset). For example, we could decide to remove all entries in which the values of `user_id` AND `event_timestamp` are exactly the same, even if the value in the `event_name` is *different*. This means that if we have entries which share the same values in only these two columns (probably the most critical ones) - they will be removed, even if they are not \"full\" duplicates.\n",
    "Some might call these cases *implicit duplicates*, rather than *explicit* ones.\n",
    "\n",
    "The reasoning behind this approach would be that there is not a very good chance that a given user would be able to perform two actions (have two *different* events) at the same *exact* timestamp (literally at the same second).\n",
    "\n",
    "On the other hand, there is also not a very high chance the same user would be able to perform two different actions - or even the same action - just one second apart (unless they're very VERY fast, or it's some kind of error), and there's always a chance the same event was registered twice (or more) in the data, seconds apart (thus having a slightly different timestamp). These scenarios can be considered as implicit duplicates too, which we are not removing (because we can't spot them using our code). \n",
    "\n",
    "In conclusion - though it would be reasonable to remove all entries which share the same values in only the `user_id` and `event_timestamp` columns - we won't do it right now, as we cannot be sure if those entries really are duplicates (although implicit), or genuine values. Thankfully, should it be requested, we can simply add the `subset = ['user_id', 'event_timestamp']` argument in the `drop_duplicates()` function below."
   ]
  },
  {
   "cell_type": "code",
   "execution_count": 17,
   "metadata": {
    "scrolled": true
   },
   "outputs": [
    {
     "name": "stdout",
     "output_type": "stream",
     "text": [
      "<class 'pandas.core.frame.DataFrame'>\n",
      "RangeIndex: 243713 entries, 0 to 243712\n",
      "Data columns (total 5 columns):\n",
      " #   Column           Non-Null Count   Dtype         \n",
      "---  ------           --------------   -----         \n",
      " 0   event_name       243713 non-null  object        \n",
      " 1   user_id          243713 non-null  int64         \n",
      " 2   event_timestamp  243713 non-null  datetime64[ns]\n",
      " 3   group_id         243713 non-null  int64         \n",
      " 4   event_date       243713 non-null  datetime64[ns]\n",
      "dtypes: datetime64[ns](2), int64(2), object(1)\n",
      "memory usage: 24.7 MB\n"
     ]
    }
   ],
   "source": [
    "# removing duplicated rows from the data\n",
    "logs_raw = logs_raw.drop_duplicates().reset_index(drop = True)\n",
    "logs_raw.info(memory_usage = 'deep')"
   ]
  },
  {
   "cell_type": "markdown",
   "metadata": {},
   "source": [
    "# Studying and Checking the Data\n",
    "We already know that there are 5 types of events in our data. We also know that we have two control groups and one test group, and no user has been accidently assigned to more than one group. Now we will check for the following things:\n",
    "\n",
    "1) How many users do we have, and how many users each group has. We wish to see the distribution between the three groups is more or less equal.\n",
    "\n",
    "2) What is the average amount of events per user; We might also check if there are any outliers - users with too many or too few events. We will not remove these users from the data just YET, but we might do it later.\n",
    "\n",
    "3) The date-coverage of the data. We will find the minimum and maxium dates, plot an histogram showing the *amount of events* per date (or a period of dates), and try to assess what is the relevant period for our analysis (we expect to find a period of time in which we have a lot of entries, more-or-less equally distributed). It could be that some users have some of their older actions/events - unrelated to our A/A/B test - recorded in the data, due to technical reasons, and those events will have to be removed, as they might skew our data and sabotage the analysis.\n",
    "\n",
    "4) Should we need to remove some portion of the data due to the reason in number (3) above, we will check how many events (entries) were lost, how many users we lost (if any)."
   ]
  },
  {
   "cell_type": "code",
   "execution_count": 18,
   "metadata": {},
   "outputs": [
    {
     "name": "stdout",
     "output_type": "stream",
     "text": [
      "Total number of users in the raw data: 7551\n"
     ]
    }
   ],
   "source": [
    "# checking the amount of unique users\n",
    "print ('Total number of users in the raw data:', logs_raw['user_id'].nunique())"
   ]
  },
  {
   "cell_type": "code",
   "execution_count": 19,
   "metadata": {},
   "outputs": [
    {
     "name": "stdout",
     "output_type": "stream",
     "text": [
      "Number of members in group 246: 2489\n",
      "Number of members in group 247: 2520\n",
      "Number of members in group 248: 2542\n"
     ]
    }
   ],
   "source": [
    "# checking how many users there are in each group:\n",
    "print ('Number of members in group 246:', logs_raw.query('group_id == 246')['user_id'].nunique())\n",
    "print ('Number of members in group 247:', logs_raw.query('group_id == 247')['user_id'].nunique())\n",
    "print ('Number of members in group 248:', logs_raw.query('group_id == 248')['user_id'].nunique())\n"
   ]
  },
  {
   "cell_type": "markdown",
   "metadata": {},
   "source": [
    "We have a total of 7,551 users, distributed reasonaly equally between all three groups - roughly 2,500 users in each."
   ]
  },
  {
   "cell_type": "code",
   "execution_count": 20,
   "metadata": {},
   "outputs": [
    {
     "name": "stdout",
     "output_type": "stream",
     "text": [
      "Average number of events per user: 32\n",
      "Median number of events per user: 20\n"
     ]
    }
   ],
   "source": [
    "# checking the average amount of events per users\n",
    "user_events = logs_raw.groupby('user_id').agg(\n",
    "    number_of_events = ('event_name' , 'count')\n",
    ").reset_index()\n",
    "\n",
    "print ('Average number of events per user:', round(user_events['number_of_events'].mean()))\n",
    "# since the number of events is discrete (can't have 0.17 of an event), we rounded the mean to the nearest integer.\n",
    "\n",
    "print ('Median number of events per user:', round(user_events['number_of_events'].median()))\n",
    "# this time we used `round` just in order to have no decimals in the output."
   ]
  },
  {
   "cell_type": "markdown",
   "metadata": {},
   "source": [
    "The average and median number of events are quite far apart. This might suggest we have some outliers in the data. Be that as it may (and we will check it) - this in itself doesn't tell us much. Those 20, 32, or 106 events a user has - what does it mean? what if it's just the same user \"refreshing\" the app and seeing the main screen tens of times (not necessarily willingly, but due to some network problem)? we should be more interested not only in how many actions/events a given user has, but also WHAT those events are.\n",
    "\n",
    "Instead of an average/median number of events per user, it will be more informative to look up how many users have only one recorded type of event in the data, how many have 2 types, and so on:\n",
    "\n",
    "NOTE: we will re-create the `user_events` dataframe by copying the code above, but add an additional column with the required information."
   ]
  },
  {
   "cell_type": "code",
   "execution_count": 21,
   "metadata": {},
   "outputs": [
    {
     "data": {
      "text/plain": [
       "5     471\n",
       "4    3035\n",
       "3     317\n",
       "2    1021\n",
       "1    2707\n",
       "Name: unique_events, dtype: int64"
      ]
     },
     "execution_count": 21,
     "metadata": {},
     "output_type": "execute_result"
    }
   ],
   "source": [
    "user_events = logs_raw.groupby('user_id').agg(\n",
    "    number_of_events = ('event_name' , 'count'),\n",
    "    unique_events = ('event_name', 'nunique')\n",
    ").reset_index()\n",
    "\n",
    "user_events['unique_events'].value_counts().sort_index(ascending = False)"
   ]
  },
  {
   "cell_type": "markdown",
   "metadata": {},
   "source": [
    "That's more informative, and this is what we learn. We have:\n",
    "\n",
    "Only 471 users with records of all 5 events;\n",
    "3035 users with records of 4 events;\n",
    "317 users with 3 events;\n",
    "1021 users with 2 events;\n",
    "and 2707 with only 1 event.\n",
    "\n",
    "Two things we should note:\n",
    "\n",
    "1) Unless it was set up otherwise, we assume that the `tutorial` step is NOT something a given user has to go through (if, for example, it isn't part of the registration process, users can simply elect not to do it). This means that a given user with 4 events in his logs can be considered a user who went through all four \"real\" events - main screen -> offer page -> cart page -> order success page. HOWEVER, this is where the next point comes:\n",
    "\n",
    "2) When we say a given user has records of 1-4 events, we don't know - at least not now - the COMBINATION of events of each user. What is the single event all those 2707 users with only 1 event went through? did they all just looked at the main screen? or maybe some of them did the tutorial, some watched the main screen, and some others - somehow - jumped directly to the offers page?\n",
    "\n",
    "What we can do to see it, is to add yet another column to the dataframe above - a column which shows which type of events each user went through, at least once:\n",
    "\n",
    "Once again we will re-create the `user_events` dataframe, and add the latter column (why isn't there a more convenient way to do it?!).\n",
    "While we are at it - we will also add each user's group (this will be useful soon)."
   ]
  },
  {
   "cell_type": "code",
   "execution_count": 22,
   "metadata": {},
   "outputs": [
    {
     "data": {
      "text/plain": [
       "[MainScreenAppear]      2693\n",
       "[OffersScreenAppear]      10\n",
       "[Tutorial]                 4\n",
       "Name: event_types, dtype: int64"
      ]
     },
     "execution_count": 22,
     "metadata": {},
     "output_type": "execute_result"
    }
   ],
   "source": [
    "user_events = logs_raw.groupby('user_id').agg(\n",
    "    group_id = ('group_id', 'unique'),\n",
    "    number_of_events = ('event_name' , 'count'),\n",
    "    unique_events = ('event_name', 'nunique'),\n",
    "    event_types = ('event_name', 'unique')\n",
    ").reset_index()\n",
    "\n",
    "user_events['group_id'] = user_events['group_id'].astype('int64')\n",
    "\n",
    "user_events[user_events['unique_events']==1]['event_types'].value_counts()"
   ]
  },
  {
   "cell_type": "markdown",
   "metadata": {},
   "source": [
    "As we can see, those who have only one event type in the logs do NOT necessarily have the SAME event. This means that those who have two events - can have *any combination* two events. Those with three and four events - same. Though this is very regretful (and maybe complicates things a bit), it tells us something important: there is NOT a single sequence of events through which users are going. Some users can, for example, go straight to an offers page without first viewing the main screen (possibly by use of a link, for example?). Whatever the reason is, we must keep this in mind.\n",
    "\n",
    "Just so we don't get lost, here's a quick recap of what we have found so far:\n",
    "\n",
    "1) The average and median number of events per user - 32 and 20, respectively. These numbers don't tell us much except that there might be some outliers in the data (something we will check next).\n",
    "\n",
    "2) We found how many users had how many different kind of events in the logs. We saw that slightly less than half of the users (around 3500) had records of 4 or 5 different events (and we assume a good deal of those with 4 events skipped the tutorial, and went through all the really important events, though this is just an assumption at this stage). Roughly 18% others had only 2 or 3 different steps, which could be of any combination, and roughly 36% of users only had a single event logged in the data - almost all of them only saw the main screen, but a few others only went through the tutorial or viewed an offers page.\n",
    "\n",
    "Now we are going to check for the distribution of amount of events per user. We want to find outliers in the data - both users with too many events and users with too few ones. At this stage, this will be for study purposes only. Later we might decide to remove them and study the behaviour of typical users only.\n",
    "\n",
    "We will use a boxplot for this purpose. We want to see what is the typical range of number of events we have, as well as the \"whisker\" values. After that, we will also check for the 1st, 5th, 10th, 90th, 95th, and 99th percentile values. For both purposes, we will use the `user_events` table.\n",
    "\n",
    "We'll start with the general distribution (without distinguishing between the groups), and then see how things look for each group separately."
   ]
  },
  {
   "cell_type": "code",
   "execution_count": null,
   "metadata": {},
   "outputs": [],
   "source": [
    "pio.templates.default = \"plotly_dark\" # setting the plotly theme to dark.\n",
    "\n",
    "fig = px.box(user_events, y=\"number_of_events\", title = 'Number of Events Distribution (Boxplot)', \n",
    "             color_discrete_sequence=px.colors.qualitative.Dark2)\n",
    "\n",
    "fig.update_yaxes(title = 'Number of Events')"
   ]
  },
  {
   "attachments": {
    "Plot%201%20%28Number%20of%20Events%20Distribution%20(boxplot%29).png": {
     "image/png": "[encoded data removed]"
    }
   },
   "cell_type": "markdown",
   "metadata": {},
   "source": [
    "![Plot%201%20%28Number%20of%20Events%20Distribution%20(boxplot%29).png](attachment:Plot%201%20%28Number%20of%20Events%20Distribution%20(boxplot%29).png)"
   ]
  },
  {
   "cell_type": "markdown",
   "metadata": {},
   "source": [
    "Zoomed-in:"
   ]
  },
  {
   "attachments": {
    "Plot%201.2%20%28Number%20of%20Events%20Distribution%20(boxplot%29).png": {
     "image/png": "[encoded data removed]"
    }
   },
   "cell_type": "markdown",
   "metadata": {},
   "source": [
    "![Plot%201.2%20%28Number%20of%20Events%20Distribution%20(boxplot%29).png](attachment:Plot%201.2%20%28Number%20of%20Events%20Distribution%20(boxplot%29).png)"
   ]
  },
  {
   "cell_type": "markdown",
   "metadata": {},
   "source": [
    "We can barely see the boxplot itself, as we have some very big outliers. Thankfully, the above figure is interactive, so we can simply zoom in and see the picture without all the outliers interfering. That also saves us time and code for calculation they key values. These are the values we get:\n",
    "\n",
    "Q1 (25th percentile) = 9 events.\n",
    "\n",
    "Q2 (median) = 20 events (as we already know).\n",
    "\n",
    "Q3 (75th percentile) = 37 events.\n",
    "\n",
    "Top whisker cap = 79 events.\n",
    "\n",
    "Also, the minimum and maximum values are 1 and 2307(!), respectively. \n",
    "\n",
    "According to these values, we can define/decide that any user with *80 events* or more - is considered an outlier.\n",
    "\n",
    "Let's calculate some more numbers (percentiles), for reference:"
   ]
  },
  {
   "cell_type": "code",
   "execution_count": 24,
   "metadata": {},
   "outputs": [
    {
     "name": "stdout",
     "output_type": "stream",
     "text": [
      "1st, 5th, 10th, 90th, 95th and 99th percentile values (in that order):\n"
     ]
    },
    {
     "data": {
      "text/plain": [
       "array([  1. ,   3. ,   5. ,  64. ,  89. , 200.5])"
      ]
     },
     "execution_count": 24,
     "metadata": {},
     "output_type": "execute_result"
    }
   ],
   "source": [
    "print ('1st, 5th, 10th, 90th, 95th and 99th percentile values (in that order):')\n",
    "np.percentile(user_events['number_of_events'], [1, 5, 10, 90, 95, 99])"
   ]
  },
  {
   "cell_type": "markdown",
   "metadata": {},
   "source": [
    "The above numbers can give us another option to define outliers, if we'll want to. We can, for example, define that all users above the 95th percentile - meaning, users with 90 events or more - are outliers.\n",
    "\n",
    "Let's calculate how many users - out of our 7551 - are outliers:"
   ]
  },
  {
   "cell_type": "code",
   "execution_count": 25,
   "metadata": {},
   "outputs": [
    {
     "name": "stdout",
     "output_type": "stream",
     "text": [
      "Number of users with 80 events or more: 494\n",
      "Number of users above the 95th percentile: 372\n"
     ]
    }
   ],
   "source": [
    "# number of users above the top whisker cap (more than 79 events):\n",
    "print ('Number of users with 80 events or more:', len(user_events.query('number_of_events > 79')))\n",
    "# number of users above the 95th percentile:\n",
    "print ('Number of users above the 95th percentile:', len(\n",
    "    user_events[user_events['number_of_events'] > (np.percentile(user_events['number_of_events'], 95))]))"
   ]
  },
  {
   "cell_type": "markdown",
   "metadata": {},
   "source": [
    "It's no surprise that 4.9% of the users are above the 95th percentile (that's the whole point of *percentiles*...), but we can also say that only 6.5% of users are above the boxplot boundaries (as they have more than 79 events). \n",
    "\n",
    "Without getting ahead of ourselves, what we might do later is study the data both with and without those unusual users, and see if the results change.\n",
    "\n",
    "For now, though, let's see the *percentage of events* (entries) our outliers are responsible to (in both options)"
   ]
  },
  {
   "cell_type": "code",
   "execution_count": 26,
   "metadata": {},
   "outputs": [
    {
     "name": "stdout",
     "output_type": "stream",
     "text": [
      "Percentage of events by users with more than 79 events each: 33.35%\n",
      "Percentage of events by users above the 95th percentile: 29.12%\n"
     ]
    }
   ],
   "source": [
    "print ('Percentage of events by users with more than 79 events each: {:.2%}'.format(\n",
    "    user_events.query('number_of_events > 79')['number_of_events'].sum() / len(logs_raw)))\n",
    "\n",
    "print ('Percentage of events by users above the 95th percentile: {:.2%}'.format(\n",
    "    user_events[user_events['number_of_events'] > \n",
    "                (np.percentile(user_events['number_of_events'], 95))]['number_of_events'].sum() / \n",
    "    len(logs_raw)))"
   ]
  },
  {
   "cell_type": "markdown",
   "metadata": {},
   "source": [
    "6.5% percent of the users are responsible for a third of the data. That's quite a lot!\n",
    "Also, if we consider only those 4.9% of users above the 95th percentile - the number isn't too different - almost 30% of the data belongs to them.\n",
    "\n",
    "It's good that we know all of this, but for now no further actions are required. Later on, though, we might use this information to filter the data.\n",
    "\n",
    "**One last remark, however:** \n",
    "\n",
    "All of the numbers above are correct for our **RAW** data (minus the duplicated entries). We still haven't checked the *dates* our data spans, but simply assumed that all entries are valid in terms of dates. This is what we are going to check next. We might come to the conclusion that some of our entries belong to irrelevant dates (before the A/A/B test began), in which case, should we want to remove outliers, we will have to run the above code AGAIN (thankfully it's not too much), and see how the figures change. They may not change by much, but it will be safe to double-check. Either way, outliers will be removed only after our data has been otherwise cleaned.\n",
    "\n",
    "(In retrospect, it might have been a better idea to first check for the dates, and only THEN check for outliers...)"
   ]
  },
  {
   "cell_type": "markdown",
   "metadata": {},
   "source": [
    "Let us now see what are the **dates** our data spans from and until:"
   ]
  },
  {
   "cell_type": "code",
   "execution_count": 27,
   "metadata": {},
   "outputs": [
    {
     "name": "stdout",
     "output_type": "stream",
     "text": [
      "Earliest record: 2019-07-25 00:00:00\n",
      "Latest record: 2019-08-08 00:00:00\n"
     ]
    }
   ],
   "source": [
    "print ('Earliest record:', logs_raw['event_date'].min())\n",
    "print ('Latest record:', logs_raw['event_date'].max())"
   ]
  },
  {
   "cell_type": "markdown",
   "metadata": {},
   "source": [
    "We have data spanning from July 25th, 2019, until August 8th, 2019. But, we need to make sure all of our entries belong to the time period of the A/A/B test, as some records could have found their way into our data by some error.\n",
    "\n",
    "We will plot a histogram showing the amount of events (entries) per day:"
   ]
  },
  {
   "cell_type": "code",
   "execution_count": null,
   "metadata": {},
   "outputs": [],
   "source": [
    "fig = px.histogram(logs_raw, x=\"event_date\", title = 'Number of Logged Events per Day', \n",
    "                   color_discrete_sequence= ['green'])\n",
    "\n",
    "fig.update_layout(bargap=0.05)\n",
    "\n",
    "fig.update_xaxes(title = 'Date')\n",
    "fig.update_yaxes(title = 'Number of Logged Events')\n",
    "\n",
    "fig.show()"
   ]
  },
  {
   "attachments": {
    "Plot%202%20%28Number%20of%20Logged%20Events%20Per%20Day%29-2.png": {
     "image/png": "[encoded data removed]"
    }
   },
   "cell_type": "markdown",
   "metadata": {},
   "source": [
    "![Plot%202%20%28Number%20of%20Logged%20Events%20Per%20Day%29-2.png](attachment:Plot%202%20%28Number%20of%20Logged%20Events%20Per%20Day%29-2.png)"
   ]
  },
  {
   "cell_type": "markdown",
   "metadata": {},
   "source": [
    "Quite obviously, out of the 15 days in our data, only the first week of August is relevant, as most of the events were logged during those days. Any event logged in before that might be due to some technical error. We will simply remove all entries from before August 1st, and after August 7th - since August 8th, even if it is part of the test, has only 68 entries, possibly from the first minutes of the day. Compared to the week preceding it, we can't say we have full data for that date, so we will remove it too. Thus, we will focus our analysis only on the first week of August.\n",
    "\n",
    "Let's check how many entries we have in the dates to be excluded:"
   ]
  },
  {
   "cell_type": "code",
   "execution_count": 29,
   "metadata": {},
   "outputs": [
    {
     "name": "stdout",
     "output_type": "stream",
     "text": [
      "Amount of irrelevant entries: 2057\n",
      "Percentage of irrelevant entries: 0.84%\n"
     ]
    }
   ],
   "source": [
    "print ('Amount of irrelevant entries:', len(logs_raw.query(\n",
    "    'event_date < \"2019-08-01\" or event_date > \"2019-08-7\"')))\n",
    "print ('Percentage of irrelevant entries: {:.2%}'.format(len(\n",
    "    logs_raw.query('event_date < \"2019-08-01\" or event_date > \"2019-08-7\"')) / len(logs_raw)))"
   ]
  },
  {
   "cell_type": "markdown",
   "metadata": {},
   "source": [
    "Out of the entire data, 2057 entries are irrelevant, and they constitue less than 1% of our data. That's not a lot, and we can remove them without too much pain.\n",
    "\n",
    "---\n",
    "**Therefore, we will now clean up the data as follows:** \n",
    "\n",
    "(Reminder - we have already removed the duplicated entries)\n",
    "\n",
    "1) Remove all entries but those of the first week of August.\n",
    "\n",
    "2) Re-check our outlier definitions, as these might change slighly due to the removal of the dates. We will have to re-run some of our code above in the following cells.\n",
    "\n",
    "3) LATER ON, after we study the data with all the users, we will remove the outliers as we see fit, and then see how the results change, if at all.\n",
    "\n",
    "We will rename the clean data simply as `logs`."
   ]
  },
  {
   "cell_type": "code",
   "execution_count": 30,
   "metadata": {},
   "outputs": [
    {
     "name": "stdout",
     "output_type": "stream",
     "text": [
      "<class 'pandas.core.frame.DataFrame'>\n",
      "RangeIndex: 241656 entries, 0 to 241655\n",
      "Data columns (total 5 columns):\n",
      " #   Column           Non-Null Count   Dtype         \n",
      "---  ------           --------------   -----         \n",
      " 0   event_name       241656 non-null  object        \n",
      " 1   user_id          241656 non-null  int64         \n",
      " 2   event_timestamp  241656 non-null  datetime64[ns]\n",
      " 3   group_id         241656 non-null  int64         \n",
      " 4   event_date       241656 non-null  datetime64[ns]\n",
      "dtypes: datetime64[ns](2), int64(2), object(1)\n",
      "memory usage: 24.5 MB\n"
     ]
    }
   ],
   "source": [
    "# creating the new dataframe, and starting by removing all irrelevant dates:\n",
    "logs = logs_raw.query('event_date >= \"2019-08-01\" and event_date < \"2019-08-8\"').reset_index(drop = True)\n",
    "logs.info(memory_usage = 'deep')"
   ]
  },
  {
   "cell_type": "code",
   "execution_count": 31,
   "metadata": {},
   "outputs": [
    {
     "data": {
      "text/plain": [
       "7538"
      ]
     },
     "execution_count": 31,
     "metadata": {},
     "output_type": "execute_result"
    }
   ],
   "source": [
    "# checking how many users we still have:\n",
    "logs['user_id'].nunique()"
   ]
  },
  {
   "cell_type": "markdown",
   "metadata": {},
   "source": [
    "Only 13 users were eliminated, as they did not appear in the relevant period."
   ]
  },
  {
   "cell_type": "code",
   "execution_count": 32,
   "metadata": {},
   "outputs": [],
   "source": [
    "# checking for outliers. This requires us to re-use some of the code above."
   ]
  },
  {
   "cell_type": "code",
   "execution_count": 33,
   "metadata": {},
   "outputs": [
    {
     "name": "stdout",
     "output_type": "stream",
     "text": [
      "Average number of events per user: 32\n",
      "Median number of events per user: 19\n"
     ]
    }
   ],
   "source": [
    "relevant_user_events = logs.groupby('user_id').agg(\n",
    "    number_of_events = ('event_name' , 'count')\n",
    ").reset_index()\n",
    "\n",
    "print ('Average number of events per user:', round(relevant_user_events['number_of_events'].mean()))\n",
    "# since the number of events is discrete (can't have 0.17 of an event), \n",
    "# we rounded the mean to the nearest integer.\n",
    "\n",
    "print ('Median number of events per user:', round(relevant_user_events['number_of_events'].median()))\n",
    "# this time we used `round` just in order to have no decimals in the output."
   ]
  },
  {
   "cell_type": "markdown",
   "metadata": {},
   "source": [
    "The average number of events per user hasn't changed. The median number decreased by 1."
   ]
  },
  {
   "cell_type": "code",
   "execution_count": null,
   "metadata": {},
   "outputs": [],
   "source": [
    "# checking the distribution:\n",
    "fig = px.box(relevant_user_events, y=\"number_of_events\",\n",
    "             title = 'Number of Events Distribution (Boxplot), Relevant Dates', \n",
    "             color_discrete_sequence=px.colors.qualitative.Dark2)\n",
    "\n",
    "fig.update_yaxes(title = 'Number of Events')"
   ]
  },
  {
   "attachments": {
    "Plot%203%20%28Number%20of%20Events%20Distribution%20(boxplot%29,%20Relevant%20Dates).png": {
     "image/png": "[encoded data removed]"
    }
   },
   "cell_type": "markdown",
   "metadata": {},
   "source": [
    "![Plot%203%20%28Number%20of%20Events%20Distribution%20(boxplot%29,%20Relevant%20Dates).png](attachment:Plot%203%20%28Number%20of%20Events%20Distribution%20(boxplot%29,%20Relevant%20Dates).png)"
   ]
  },
  {
   "cell_type": "markdown",
   "metadata": {},
   "source": [
    "Zoomed-in:"
   ]
  },
  {
   "attachments": {
    "Plot%203.2%20%28Number%20of%20Events%20Distribution%20(boxplot%29,%20Relevant%20Dates,%20zoomed).png": {
     "image/png": "[encoded data removed]"
    }
   },
   "cell_type": "markdown",
   "metadata": {},
   "source": [
    "![Plot%203.2%20%28Number%20of%20Events%20Distribution%20(boxplot%29,%20Relevant%20Dates,%20zoomed).png](attachment:Plot%203.2%20%28Number%20of%20Events%20Distribution%20(boxplot%29,%20Relevant%20Dates,%20zoomed).png)"
   ]
  },
  {
   "cell_type": "markdown",
   "metadata": {},
   "source": [
    "Hovering over the boxplot above makes it clear that all figures remain the same as in the previous boxplot:\n",
    "\n",
    "Q1 (25th percentile) = 9 events.\n",
    "\n",
    "Q2 (median) = 19 events (the only thing that changed).\n",
    "\n",
    "Q3 (75th percentile) = 37 events.\n",
    "\n",
    "Top whisker cap = 79 events.\n",
    "\n",
    "Let's re-calculate the percentiles we calculated earlier:"
   ]
  },
  {
   "cell_type": "code",
   "execution_count": 35,
   "metadata": {},
   "outputs": [
    {
     "name": "stdout",
     "output_type": "stream",
     "text": [
      "1st, 5th, 10th, 90th, 95th and 99th percentile values (in that order):\n"
     ]
    },
    {
     "data": {
      "text/plain": [
       "array([  1.  ,   3.  ,   5.  ,  64.  ,  88.  , 200.89])"
      ]
     },
     "execution_count": 35,
     "metadata": {},
     "output_type": "execute_result"
    }
   ],
   "source": [
    "print ('1st, 5th, 10th, 90th, 95th and 99th percentile values (in that order):')\n",
    "np.percentile(relevant_user_events['number_of_events'], [1, 5, 10, 90, 95, 99])"
   ]
  },
  {
   "cell_type": "markdown",
   "metadata": {},
   "source": [
    "Only the 95th percentile value changed slightly - decreased by 1.\n",
    "\n",
    "Though it's starting to look clear where this is going, let's complete our check:"
   ]
  },
  {
   "cell_type": "code",
   "execution_count": 36,
   "metadata": {},
   "outputs": [
    {
     "name": "stdout",
     "output_type": "stream",
     "text": [
      "Number of users with 80 events or more: 489\n",
      "Percentage of events by users with more than 79 events each: 33.37%\n",
      "Number of users above the 95th percentile: 375\n",
      "Percentage of events by users above the 95th percentile: 29.41%\n"
     ]
    }
   ],
   "source": [
    "# number of users above the top whisker cap (more than 79 events):\n",
    "print ('Number of users with 80 events or more:', len(relevant_user_events.query('number_of_events > 79')))\n",
    "\n",
    "# their share of entries:\n",
    "print ('Percentage of events by users with more than 79 events each: {:.2%}'.format(\n",
    "    relevant_user_events.query('number_of_events > 79')['number_of_events'].sum() / len(logs)))\n",
    "\n",
    "# number of users above the 95th percentile:\n",
    "print ('Number of users above the 95th percentile:', len(\n",
    "    relevant_user_events[relevant_user_events['number_of_events'] >\n",
    "                         (np.percentile(relevant_user_events['number_of_events'], 95))]))\n",
    "\n",
    "# their share of entries:\n",
    "print ('Percentage of events by users above the 95th percentile: {:.2%}'.format(\n",
    "    relevant_user_events[relevant_user_events['number_of_events'] > \n",
    "                         (np.percentile(relevant_user_events['number_of_events'], 95))]\\\n",
    "    ['number_of_events'].sum() / len(logs)))"
   ]
  },
  {
   "cell_type": "markdown",
   "metadata": {},
   "source": [
    "These are very similar numbers as we had before - 494, 33.35%, 372, 29.12%, respectively.\n",
    "\n",
    "As was stated, we are NOT going to remove the outliers just YET. We are going to study the clean data including all the users, and later on we will repeat our calculations/tests with the filtered data, without the outliers."
   ]
  },
  {
   "cell_type": "code",
   "execution_count": 37,
   "metadata": {},
   "outputs": [
    {
     "name": "stdout",
     "output_type": "stream",
     "text": [
      "Number of members in group 246: 2484\n",
      "Number of members in group 247: 2517\n",
      "Number of members in group 248: 2537\n"
     ]
    }
   ],
   "source": [
    "# checking the amount of users in each group (this shouldn't change much, as only 13 were removed)\n",
    "print ('Number of members in group 246:', logs.query('group_id == 246')['user_id'].nunique())\n",
    "print ('Number of members in group 247:', logs.query('group_id == 247')['user_id'].nunique())\n",
    "print ('Number of members in group 248:', logs.query('group_id == 248')['user_id'].nunique())"
   ]
  },
  {
   "cell_type": "markdown",
   "metadata": {},
   "source": [
    "We have more or less the same amount of users in all the groups. We already know from before that all users are assigned to one group only."
   ]
  },
  {
   "cell_type": "markdown",
   "metadata": {},
   "source": [
    "# Studying the Event Funnel\n",
    "Time to study the user's behaviour itself.\n",
    "\n",
    "The first thing we will check is the **frequency of occurence** of the 5 types of events. We already know that, for example, the `tutorial` event isn't something most users are going through, simply because they do not need it, for whatever reason. Thus, we expect its frequency to be low. On the other hand, the `MainScreenAppear` event is likely to be the most frequent, as it is \"the door\" of the app, and usually one must pass through it before one can do anything else.\n",
    "\n",
    "We will sort the events by decreasing frequency."
   ]
  },
  {
   "cell_type": "code",
   "execution_count": 38,
   "metadata": {},
   "outputs": [
    {
     "data": {
      "text/html": [
       "<div>\n",
       "<style scoped>\n",
       "    .dataframe tbody tr th:only-of-type {\n",
       "        vertical-align: middle;\n",
       "    }\n",
       "\n",
       "    .dataframe tbody tr th {\n",
       "        vertical-align: top;\n",
       "    }\n",
       "\n",
       "    .dataframe thead th {\n",
       "        text-align: right;\n",
       "    }\n",
       "</style>\n",
       "<table border=\"1\" class=\"dataframe\">\n",
       "  <thead>\n",
       "    <tr style=\"text-align: right;\">\n",
       "      <th></th>\n",
       "      <th>event_name</th>\n",
       "      <th>user_id</th>\n",
       "      <th>event_timestamp</th>\n",
       "      <th>group_id</th>\n",
       "      <th>event_date</th>\n",
       "    </tr>\n",
       "  </thead>\n",
       "  <tbody>\n",
       "    <tr>\n",
       "      <th>0</th>\n",
       "      <td>MainScreenAppear</td>\n",
       "      <td>7701922487875823903</td>\n",
       "      <td>2019-08-01 00:00:57</td>\n",
       "      <td>247</td>\n",
       "      <td>2019-08-01</td>\n",
       "    </tr>\n",
       "    <tr>\n",
       "      <th>1</th>\n",
       "      <td>MainScreenAppear</td>\n",
       "      <td>2539077412200498909</td>\n",
       "      <td>2019-08-01 00:01:45</td>\n",
       "      <td>247</td>\n",
       "      <td>2019-08-01</td>\n",
       "    </tr>\n",
       "    <tr>\n",
       "      <th>2</th>\n",
       "      <td>OffersScreenAppear</td>\n",
       "      <td>3286987355161301427</td>\n",
       "      <td>2019-08-01 00:02:21</td>\n",
       "      <td>248</td>\n",
       "      <td>2019-08-01</td>\n",
       "    </tr>\n",
       "    <tr>\n",
       "      <th>3</th>\n",
       "      <td>OffersScreenAppear</td>\n",
       "      <td>3187166762535343300</td>\n",
       "      <td>2019-08-01 00:02:23</td>\n",
       "      <td>247</td>\n",
       "      <td>2019-08-01</td>\n",
       "    </tr>\n",
       "    <tr>\n",
       "      <th>4</th>\n",
       "      <td>MainScreenAppear</td>\n",
       "      <td>1118952406011435924</td>\n",
       "      <td>2019-08-01 00:03:25</td>\n",
       "      <td>248</td>\n",
       "      <td>2019-08-01</td>\n",
       "    </tr>\n",
       "  </tbody>\n",
       "</table>\n",
       "</div>"
      ],
      "text/plain": [
       "           event_name              user_id     event_timestamp  group_id  \\\n",
       "0    MainScreenAppear  7701922487875823903 2019-08-01 00:00:57       247   \n",
       "1    MainScreenAppear  2539077412200498909 2019-08-01 00:01:45       247   \n",
       "2  OffersScreenAppear  3286987355161301427 2019-08-01 00:02:21       248   \n",
       "3  OffersScreenAppear  3187166762535343300 2019-08-01 00:02:23       247   \n",
       "4    MainScreenAppear  1118952406011435924 2019-08-01 00:03:25       248   \n",
       "\n",
       "  event_date  \n",
       "0 2019-08-01  \n",
       "1 2019-08-01  \n",
       "2 2019-08-01  \n",
       "3 2019-08-01  \n",
       "4 2019-08-01  "
      ]
     },
     "execution_count": 38,
     "metadata": {},
     "output_type": "execute_result"
    }
   ],
   "source": [
    "# reminder of how our data looks like\n",
    "logs.head()"
   ]
  },
  {
   "cell_type": "code",
   "execution_count": 39,
   "metadata": {},
   "outputs": [
    {
     "data": {
      "text/html": [
       "<div>\n",
       "<style scoped>\n",
       "    .dataframe tbody tr th:only-of-type {\n",
       "        vertical-align: middle;\n",
       "    }\n",
       "\n",
       "    .dataframe tbody tr th {\n",
       "        vertical-align: top;\n",
       "    }\n",
       "\n",
       "    .dataframe thead th {\n",
       "        text-align: right;\n",
       "    }\n",
       "</style>\n",
       "<table border=\"1\" class=\"dataframe\">\n",
       "  <thead>\n",
       "    <tr style=\"text-align: right;\">\n",
       "      <th></th>\n",
       "      <th>event_name</th>\n",
       "      <th>event_occurences</th>\n",
       "    </tr>\n",
       "  </thead>\n",
       "  <tbody>\n",
       "    <tr>\n",
       "      <th>0</th>\n",
       "      <td>MainScreenAppear</td>\n",
       "      <td>117850</td>\n",
       "    </tr>\n",
       "    <tr>\n",
       "      <th>1</th>\n",
       "      <td>OffersScreenAppear</td>\n",
       "      <td>46509</td>\n",
       "    </tr>\n",
       "    <tr>\n",
       "      <th>2</th>\n",
       "      <td>CartScreenAppear</td>\n",
       "      <td>42338</td>\n",
       "    </tr>\n",
       "    <tr>\n",
       "      <th>3</th>\n",
       "      <td>PaymentScreenSuccessful</td>\n",
       "      <td>33949</td>\n",
       "    </tr>\n",
       "    <tr>\n",
       "      <th>4</th>\n",
       "      <td>Tutorial</td>\n",
       "      <td>1010</td>\n",
       "    </tr>\n",
       "  </tbody>\n",
       "</table>\n",
       "</div>"
      ],
      "text/plain": [
       "                event_name  event_occurences\n",
       "0         MainScreenAppear            117850\n",
       "1       OffersScreenAppear             46509\n",
       "2         CartScreenAppear             42338\n",
       "3  PaymentScreenSuccessful             33949\n",
       "4                 Tutorial              1010"
      ]
     },
     "execution_count": 39,
     "metadata": {},
     "output_type": "execute_result"
    }
   ],
   "source": [
    "event_frequency = logs.groupby('event_name').agg(\n",
    "    event_occurences = ('event_timestamp', 'count')\n",
    ").sort_values(by = 'event_occurences', ascending = False).reset_index()\n",
    "\n",
    "event_frequency"
   ]
  },
  {
   "cell_type": "code",
   "execution_count": 40,
   "metadata": {},
   "outputs": [],
   "source": [
    "# setting a few color schemes.\n",
    "\n",
    "pio.templates[\"dark2\"] = go.layout.Template(\n",
    "    layout=go.Layout(\n",
    "        colorway = px.colors.qualitative.Dark2\n",
    "    )\n",
    ")\n",
    "\n",
    "pio.templates.default = \"plotly_dark+dark2\" "
   ]
  },
  {
   "cell_type": "code",
   "execution_count": null,
   "metadata": {
    "scrolled": false
   },
   "outputs": [],
   "source": [
    "# visualizing the funnel\n",
    "# NOTE: we have to do it using the `go` method like below, and NOT the simple `px.funnel` method, \n",
    "# in order to be able to add percentages to every step!\n",
    "\n",
    "fig = go.Figure(go.Funnel(\n",
    "    y = event_frequency['event_name'],\n",
    "    x = event_frequency['event_occurences'],\n",
    "    textinfo = 'value + percent initial'\n",
    "))\n",
    "\n",
    "fig.update_layout(title = 'General Event Funnel (Number of Occurences)', font=dict(size=16))\n",
    "fig.update_yaxes(title = 'Name of Event')\n",
    "\n",
    "fig.show()"
   ]
  },
  {
   "attachments": {
    "Plot%204%20%28General%20Event%20Funnel%20(Number%20of%20Occurences%29).png": {
     "image/png": "[encoded data removed]"
    }
   },
   "cell_type": "markdown",
   "metadata": {},
   "source": [
    "![Plot%204%20%28General%20Event%20Funnel%20(Number%20of%20Occurences%29).png](attachment:Plot%204%20%28General%20Event%20Funnel%20(Number%20of%20Occurences%29).png)"
   ]
  },
  {
   "cell_type": "markdown",
   "metadata": {},
   "source": [
    "Right off the bat, we can see that most occurences do belong to the `MainScreenAppear`, as one might expect. Also, we can see that the \"steps\" down the funnel follow a logical order - main screen comes first (a user enters the app), then the offers screen (a user looks at possible items and their costs), then the cart screen (a user added an item or items, and now reviews their cart before paying), and finally the payment success screen (the user has paid and completed the order). It makes sense that the number of occurences of each event will be higher than that of the next one. Again, we are ignoring the tutorial step, as it is not mandatory to complete in order to make a purchase.\n",
    "\n",
    "Let's see how things look if we make a distinction between the three groups:"
   ]
  },
  {
   "cell_type": "code",
   "execution_count": null,
   "metadata": {
    "scrolled": false
   },
   "outputs": [],
   "source": [
    "# making the relevant table\n",
    "event_frequency_groups = logs.groupby(['event_name', 'group_id']).agg(\n",
    "    event_occurences = ('event_timestamp', 'count')\n",
    ").sort_values(by = 'event_occurences', ascending = False).reset_index()\n",
    "\n",
    "# plotting the funnel\n",
    "fig = go.Figure(go.Funnel(\n",
    "    name = 'Group 246',\n",
    "    y = event_frequency_groups[event_frequency_groups['group_id']==246]['event_name'],\n",
    "    x = event_frequency_groups[event_frequency_groups['group_id']==246]['event_occurences'],\n",
    "    textinfo = \"value + percent initial\"))\n",
    "\n",
    "fig.add_trace(go.Funnel(\n",
    "    name = 'Group 247',\n",
    "    y = event_frequency_groups[event_frequency_groups['group_id']==247]['event_name'],\n",
    "    x = event_frequency_groups[event_frequency_groups['group_id']==247]['event_occurences'],\n",
    "    textinfo = \"value + percent initial\"))\n",
    "\n",
    "fig.add_trace(go.Funnel(\n",
    "    name = 'Group 248',\n",
    "    y = event_frequency_groups[event_frequency_groups['group_id']==248]['event_name'],\n",
    "    x = event_frequency_groups[event_frequency_groups['group_id']==248]['event_occurences'],\n",
    "    textinfo = \"value + percent initial\"))\n",
    "\n",
    "fig.update_layout(title = 'Event Funnel by Groups (Number of Occurences)')\n",
    "fig.update_yaxes(title = 'Name of Event')\n",
    "\n",
    "fig.show()"
   ]
  },
  {
   "attachments": {
    "Plot%205%20%28Event%20Funnel%20by%20Groups%20(Number%20of%20Occurences%29).png": {
     "image/png": "[encoded data removed]"
    }
   },
   "cell_type": "markdown",
   "metadata": {},
   "source": [
    "![Plot%205%20%28Event%20Funnel%20by%20Groups%20(Number%20of%20Occurences%29).png](attachment:Plot%205%20%28Event%20Funnel%20by%20Groups%20(Number%20of%20Occurences%29).png)"
   ]
  },
  {
   "cell_type": "markdown",
   "metadata": {},
   "source": [
    "We have plotted the above funnels just to see how the numbers differ from one another (especially how group 248, the test group, performs in comparison to the control groups). We will NOT make any conclusions yet, since we will need to apply some statistical tools (tests) in order to see what these numbers mean. That will come later.\n",
    "\n",
    "Next, we will check for the *amount of users* who performed each of these actions at least once. These will give us a better clue about retention/churn rates.\n",
    "\n",
    "We will create a new table for that, named `event_users`. DO NOT CONFUSE IT with the earlier `user_events` table, which showed something else - it showed how many users performed 1 type of action, any 2 types of action, and so on. The following table shows, for any type of action, how many unique users have completed it."
   ]
  },
  {
   "cell_type": "code",
   "execution_count": 43,
   "metadata": {},
   "outputs": [
    {
     "data": {
      "text/html": [
       "<div>\n",
       "<style scoped>\n",
       "    .dataframe tbody tr th:only-of-type {\n",
       "        vertical-align: middle;\n",
       "    }\n",
       "\n",
       "    .dataframe tbody tr th {\n",
       "        vertical-align: top;\n",
       "    }\n",
       "\n",
       "    .dataframe thead th {\n",
       "        text-align: right;\n",
       "    }\n",
       "</style>\n",
       "<table border=\"1\" class=\"dataframe\">\n",
       "  <thead>\n",
       "    <tr style=\"text-align: right;\">\n",
       "      <th></th>\n",
       "      <th>event_name</th>\n",
       "      <th>number_of_users</th>\n",
       "      <th>percentage_from_total</th>\n",
       "    </tr>\n",
       "  </thead>\n",
       "  <tbody>\n",
       "    <tr>\n",
       "      <th>0</th>\n",
       "      <td>MainScreenAppear</td>\n",
       "      <td>7423</td>\n",
       "      <td>98.47</td>\n",
       "    </tr>\n",
       "    <tr>\n",
       "      <th>1</th>\n",
       "      <td>OffersScreenAppear</td>\n",
       "      <td>4596</td>\n",
       "      <td>60.97</td>\n",
       "    </tr>\n",
       "    <tr>\n",
       "      <th>2</th>\n",
       "      <td>CartScreenAppear</td>\n",
       "      <td>3736</td>\n",
       "      <td>49.56</td>\n",
       "    </tr>\n",
       "    <tr>\n",
       "      <th>3</th>\n",
       "      <td>PaymentScreenSuccessful</td>\n",
       "      <td>3540</td>\n",
       "      <td>46.96</td>\n",
       "    </tr>\n",
       "    <tr>\n",
       "      <th>4</th>\n",
       "      <td>Tutorial</td>\n",
       "      <td>843</td>\n",
       "      <td>11.18</td>\n",
       "    </tr>\n",
       "  </tbody>\n",
       "</table>\n",
       "</div>"
      ],
      "text/plain": [
       "                event_name  number_of_users  percentage_from_total\n",
       "0         MainScreenAppear             7423                  98.47\n",
       "1       OffersScreenAppear             4596                  60.97\n",
       "2         CartScreenAppear             3736                  49.56\n",
       "3  PaymentScreenSuccessful             3540                  46.96\n",
       "4                 Tutorial              843                  11.18"
      ]
     },
     "execution_count": 43,
     "metadata": {},
     "output_type": "execute_result"
    }
   ],
   "source": [
    "event_users = logs.groupby('event_name').agg(\n",
    "    number_of_users = ('user_id', 'nunique')\n",
    ").sort_values(by = 'number_of_users', ascending = False).reset_index()\n",
    "\n",
    "# adding another column, showing the percentage of the number of users who performed each action, \n",
    "# from the *total* amount of users.\n",
    "event_users['percentage_from_total'] = ( 100 * (event_users['number_of_users'] / \n",
    "                                                logs['user_id'].nunique())).round(decimals = 2)\n",
    "\n",
    "event_users"
   ]
  },
  {
   "cell_type": "code",
   "execution_count": null,
   "metadata": {},
   "outputs": [],
   "source": [
    "# visualizing the funnel(s)\n",
    "# number of users funnel\n",
    "fig = go.Figure(go.Funnel(\n",
    "    y = event_users['event_name'],\n",
    "    x = event_users['number_of_users'],\n",
    "    textinfo = 'value + percent initial + percent previous'\n",
    "))\n",
    "\n",
    "fig.update_layout(title = 'General Event Funnel (Number of Users per Action)', font=dict(size=16))\n",
    "fig.update_yaxes(title = 'Name of Event')\n",
    "\n",
    "fig.show()\n",
    "\n",
    "# percentage of users funnel\n",
    "fig = go.Figure(go.Funnel(\n",
    "    y = event_users['event_name'],\n",
    "    x = event_users['percentage_from_total'],\n",
    "))\n",
    "\n",
    "fig.update_layout(title = 'General Event Funnel (% of Users From Total)', font=dict(size=16))\n",
    "fig.update_yaxes(title = 'Name of Event')\n",
    "\n",
    "fig.show()"
   ]
  },
  {
   "attachments": {
    "Plot%206%20%28General%20Event%20Funnel%20(Number%20of%20Users%20Per%20Action%29).png": {
     "image/png": "[encoded data removed]"
    }
   },
   "cell_type": "markdown",
   "metadata": {},
   "source": [
    "![Plot%206%20%28General%20Event%20Funnel%20(Number%20of%20Users%20Per%20Action%29).png](attachment:Plot%206%20%28General%20Event%20Funnel%20(Number%20of%20Users%20Per%20Action%29).png)"
   ]
  },
  {
   "attachments": {
    "Plot%207%20%28General%20Event%20Funnel%20(%25%20of%20Users%20from%20Total%29).png": {
     "image/png": "[encoded data removed]"
    }
   },
   "cell_type": "markdown",
   "metadata": {},
   "source": [
    "![Plot%207%20%28General%20Event%20Funnel%20(%25%20of%20Users%20from%20Total%29).png](attachment:Plot%207%20%28General%20Event%20Funnel%20(%25%20of%20Users%20from%20Total%29).png)"
   ]
  },
  {
   "cell_type": "markdown",
   "metadata": {},
   "source": [
    "Before we will address the funnels above and make some interim conclusions, let's have a look at those same funnels, distinguished by groups:"
   ]
  },
  {
   "cell_type": "code",
   "execution_count": 45,
   "metadata": {},
   "outputs": [
    {
     "data": {
      "text/html": [
       "<div>\n",
       "<style scoped>\n",
       "    .dataframe tbody tr th:only-of-type {\n",
       "        vertical-align: middle;\n",
       "    }\n",
       "\n",
       "    .dataframe tbody tr th {\n",
       "        vertical-align: top;\n",
       "    }\n",
       "\n",
       "    .dataframe thead th {\n",
       "        text-align: right;\n",
       "    }\n",
       "</style>\n",
       "<table border=\"1\" class=\"dataframe\">\n",
       "  <thead>\n",
       "    <tr style=\"text-align: right;\">\n",
       "      <th></th>\n",
       "      <th>event_name</th>\n",
       "      <th>group_id</th>\n",
       "      <th>number_of_users</th>\n",
       "      <th>percentage_from_group</th>\n",
       "    </tr>\n",
       "  </thead>\n",
       "  <tbody>\n",
       "    <tr>\n",
       "      <th>0</th>\n",
       "      <td>MainScreenAppear</td>\n",
       "      <td>246</td>\n",
       "      <td>2450</td>\n",
       "      <td>98.63</td>\n",
       "    </tr>\n",
       "    <tr>\n",
       "      <th>1</th>\n",
       "      <td>OffersScreenAppear</td>\n",
       "      <td>246</td>\n",
       "      <td>1542</td>\n",
       "      <td>62.08</td>\n",
       "    </tr>\n",
       "    <tr>\n",
       "      <th>2</th>\n",
       "      <td>CartScreenAppear</td>\n",
       "      <td>246</td>\n",
       "      <td>1266</td>\n",
       "      <td>50.97</td>\n",
       "    </tr>\n",
       "    <tr>\n",
       "      <th>3</th>\n",
       "      <td>PaymentScreenSuccessful</td>\n",
       "      <td>246</td>\n",
       "      <td>1200</td>\n",
       "      <td>48.31</td>\n",
       "    </tr>\n",
       "    <tr>\n",
       "      <th>4</th>\n",
       "      <td>Tutorial</td>\n",
       "      <td>246</td>\n",
       "      <td>278</td>\n",
       "      <td>11.19</td>\n",
       "    </tr>\n",
       "    <tr>\n",
       "      <th>5</th>\n",
       "      <td>MainScreenAppear</td>\n",
       "      <td>247</td>\n",
       "      <td>2479</td>\n",
       "      <td>98.49</td>\n",
       "    </tr>\n",
       "    <tr>\n",
       "      <th>6</th>\n",
       "      <td>OffersScreenAppear</td>\n",
       "      <td>247</td>\n",
       "      <td>1523</td>\n",
       "      <td>60.51</td>\n",
       "    </tr>\n",
       "    <tr>\n",
       "      <th>7</th>\n",
       "      <td>CartScreenAppear</td>\n",
       "      <td>247</td>\n",
       "      <td>1239</td>\n",
       "      <td>49.23</td>\n",
       "    </tr>\n",
       "    <tr>\n",
       "      <th>8</th>\n",
       "      <td>PaymentScreenSuccessful</td>\n",
       "      <td>247</td>\n",
       "      <td>1158</td>\n",
       "      <td>46.01</td>\n",
       "    </tr>\n",
       "    <tr>\n",
       "      <th>9</th>\n",
       "      <td>Tutorial</td>\n",
       "      <td>247</td>\n",
       "      <td>284</td>\n",
       "      <td>11.28</td>\n",
       "    </tr>\n",
       "    <tr>\n",
       "      <th>10</th>\n",
       "      <td>MainScreenAppear</td>\n",
       "      <td>248</td>\n",
       "      <td>2494</td>\n",
       "      <td>98.31</td>\n",
       "    </tr>\n",
       "    <tr>\n",
       "      <th>11</th>\n",
       "      <td>OffersScreenAppear</td>\n",
       "      <td>248</td>\n",
       "      <td>1531</td>\n",
       "      <td>60.35</td>\n",
       "    </tr>\n",
       "    <tr>\n",
       "      <th>12</th>\n",
       "      <td>CartScreenAppear</td>\n",
       "      <td>248</td>\n",
       "      <td>1231</td>\n",
       "      <td>48.52</td>\n",
       "    </tr>\n",
       "    <tr>\n",
       "      <th>13</th>\n",
       "      <td>PaymentScreenSuccessful</td>\n",
       "      <td>248</td>\n",
       "      <td>1182</td>\n",
       "      <td>46.59</td>\n",
       "    </tr>\n",
       "    <tr>\n",
       "      <th>14</th>\n",
       "      <td>Tutorial</td>\n",
       "      <td>248</td>\n",
       "      <td>281</td>\n",
       "      <td>11.08</td>\n",
       "    </tr>\n",
       "  </tbody>\n",
       "</table>\n",
       "</div>"
      ],
      "text/plain": [
       "                 event_name  group_id  number_of_users  percentage_from_group\n",
       "0          MainScreenAppear       246             2450                  98.63\n",
       "1        OffersScreenAppear       246             1542                  62.08\n",
       "2          CartScreenAppear       246             1266                  50.97\n",
       "3   PaymentScreenSuccessful       246             1200                  48.31\n",
       "4                  Tutorial       246              278                  11.19\n",
       "5          MainScreenAppear       247             2479                  98.49\n",
       "6        OffersScreenAppear       247             1523                  60.51\n",
       "7          CartScreenAppear       247             1239                  49.23\n",
       "8   PaymentScreenSuccessful       247             1158                  46.01\n",
       "9                  Tutorial       247              284                  11.28\n",
       "10         MainScreenAppear       248             2494                  98.31\n",
       "11       OffersScreenAppear       248             1531                  60.35\n",
       "12         CartScreenAppear       248             1231                  48.52\n",
       "13  PaymentScreenSuccessful       248             1182                  46.59\n",
       "14                 Tutorial       248              281                  11.08"
      ]
     },
     "execution_count": 45,
     "metadata": {},
     "output_type": "execute_result"
    }
   ],
   "source": [
    "event_users_groups = logs.groupby(['event_name', 'group_id']).agg(\n",
    "    number_of_users = ('user_id', 'nunique')\n",
    ").sort_values(by = ['group_id', 'number_of_users'], ascending = [True, False]).reset_index()\n",
    "\n",
    "# adding another column, showing the percentage of the number of users who performed each action, \n",
    "# from the *total* amount of users in each group.\n",
    "# we'll have to define a dictionary for each group's total number of users, first.\n",
    "group_dict = {246: logs.query('group_id == 246')['user_id'].nunique(),\n",
    "              247: logs.query('group_id == 247')['user_id'].nunique(),\n",
    "              248: logs.query('group_id == 248')['user_id'].nunique()}\n",
    "\n",
    "event_users_groups['percentage_from_group'] = (\n",
    "    100 * (event_users_groups['number_of_users'] /\n",
    "           event_users_groups['group_id'].map(group_dict))).round(decimals = 2)\n",
    "\n",
    "event_users_groups"
   ]
  },
  {
   "cell_type": "code",
   "execution_count": null,
   "metadata": {
    "scrolled": true
   },
   "outputs": [],
   "source": [
    "# plotting the funnels\n",
    "# number of users per action funnel\n",
    "fig = go.Figure(go.Funnel(\n",
    "    name = 'Group 246',\n",
    "    y = event_users_groups[event_users_groups['group_id']==246]['event_name'],\n",
    "    x = event_users_groups[event_users_groups['group_id']==246]['number_of_users'],\n",
    "    textinfo = 'value + percent initial + percent previous'))\n",
    "\n",
    "fig.add_trace(go.Funnel(\n",
    "    name = 'Group 247',\n",
    "    y = event_users_groups[event_users_groups['group_id']==247]['event_name'],\n",
    "    x = event_users_groups[event_users_groups['group_id']==247]['number_of_users'],\n",
    "    textinfo = 'value + percent initial + percent previous'))\n",
    "\n",
    "fig.add_trace(go.Funnel(\n",
    "    name = 'Group 248',\n",
    "    y = event_users_groups[event_users_groups['group_id']==248]['event_name'],\n",
    "    x = event_users_groups[event_users_groups['group_id']==248]['number_of_users'],\n",
    "    textinfo = 'value + percent initial + percent previous'))\n",
    "\n",
    "fig.update_layout(title = 'Group Event Funnel (Number of Users per Action)')\n",
    "fig.update_yaxes(title = 'Name of Event')\n",
    "\n",
    "fig.show()\n",
    "\n",
    "# percentage of group users funnel\n",
    "fig = go.Figure(go.Funnel(\n",
    "    name = 'Group 246',\n",
    "    y = event_users_groups[event_users_groups['group_id']==246]['event_name'],\n",
    "    x = event_users_groups[event_users_groups['group_id']==246]['percentage_from_group'],\n",
    "))\n",
    "\n",
    "fig.add_trace(go.Funnel(\n",
    "    name = 'Group 247',\n",
    "    y = event_users_groups[event_users_groups['group_id']==247]['event_name'],\n",
    "    x = event_users_groups[event_users_groups['group_id']==247]['percentage_from_group'],\n",
    "))\n",
    "\n",
    "fig.add_trace(go.Funnel(\n",
    "    name = 'Group 248',\n",
    "    y = event_users_groups[event_users_groups['group_id']==248]['event_name'],\n",
    "    x = event_users_groups[event_users_groups['group_id']==248]['percentage_from_group'],\n",
    "))\n",
    "\n",
    "fig.update_layout(title = 'Group Event Funnel (% of Users From Group)')\n",
    "fig.update_yaxes(title = 'Name of Event')\n",
    "\n",
    "fig.show()"
   ]
  },
  {
   "attachments": {
    "Plot%208%20%28Group%20Event%20Funnel%20(Number%20of%20Users%20per%20Action%29).png": {
     "image/png": "[encoded data removed]"
    }
   },
   "cell_type": "markdown",
   "metadata": {},
   "source": [
    "![Plot%208%20%28Group%20Event%20Funnel%20(Number%20of%20Users%20per%20Action%29).png](attachment:Plot%208%20%28Group%20Event%20Funnel%20(Number%20of%20Users%20per%20Action%29).png)"
   ]
  },
  {
   "attachments": {
    "Plot%209%20%28Group%20Event%20Funnel%20(%25%20of%20Users%20From%20Group%29).png": {
     "image/png": "[encoded data removed]"
    }
   },
   "cell_type": "markdown",
   "metadata": {},
   "source": [
    "![Plot%209%20%28Group%20Event%20Funnel%20(%25%20of%20Users%20From%20Group%29).png](attachment:Plot%209%20%28Group%20Event%20Funnel%20(%25%20of%20Users%20From%20Group%29).png)"
   ]
  },
  {
   "cell_type": "markdown",
   "metadata": {},
   "source": [
    "## Interim Conclusions\n",
    "Looking at all the above funnels, we gather a few insights. Looking at the GENERAL funnels (all groups together):\n",
    "\n",
    "1) **The step in which we lost most users is the transition between the main screen and the offers page.** This suggest there might be some problem in the main screen that discourages many users to go on and view an offers page. It might be, for example, a UI/UX issue or a technical issue (which makes the page to reload too many times, thus skews the data). These are just thoughts, nothing else.\n",
    "\n",
    "2) Setting aside the main screen, **more than 3 in every 4 users** who made it to an offers screen, also made a purchase in the end. Meaning, a given user viewing an offers page is VERY likely to also make a purchase.\n",
    "\n",
    "3) **Almost all users** who have viewed their carts (95%) also completed the order (didn't cancel or otherwise did not place an order). Meaning, there probably isn't any problem with the cart page, if so many users who see it also pay.\n",
    "\n",
    "Looking at the GROUP funnels:\n",
    "\n",
    "While these look lovely, they are only for first impression of how the groups differ from one another. More precise testing will be taking place later, and that's when the conclusions will come. Still, **just by looking at the numbers** - a very \"naive\" point of view - it looks like there is not much difference between the groups. However, looks can be deceiving. We'll see what the statistical tests show later on.\n",
    "\n",
    "HOWEVER, we also have an **important reservation**:\n",
    "\n",
    "The above numbers are true and very nice, IF we assume that all of the above events occur in **one, rigid sequence**. Meaning, that every user who made it to an offers page, *necessarily* got there from the main screen, anyone who made it to the cart page, *necessarily* got there from the offers screen, and so on. In other words, the above funnels and conclusions are under the assumption that users **did not / could not skip any steps** (except the tutorial), or simply navigate to any screen they'd like, in what order they wanted. While the sequence presented in the funnels above seems to be to most straightforward (except for the tutorial), the funnels don't take into account the de-facto sequence every user made, only the number of users who performed those actions.\n",
    "\n",
    "To prove the last point, earlier we have seen that we have a small number of users who performed only type of action - and that action was NOT necessarily the tutorial or the main screen as we might expect - some of them only saw the offers page, *without* first seeing the main screen. How is that possible isn't relevant right now. It only demonstrates that some users may have gone through a different sequence of events.\n",
    "\n",
    "This means that we might have users who have seen the main page, then jumped directly to their cart page somehow, and then paid (didn't go through the offers page - maybe they already had an item in their cart from an earlier session, and now they just returned to complete the order?). Others might have not even seen the main screen, but got straight into the offers page (via promotional link sent to them by email, or a friend?), and then moved to the subsequent steps.\n",
    "\n",
    "This doesn't necessarily mean our conclusions above about retention rates are wrong, it just means that the numbers may not be 100% accurate.\n",
    "\n",
    "The above funnels, both general and group-separated, also calculate and show us a very valuable information. Note: the points below are correct under the assumption described just a moment ago!\n",
    "\n",
    "1) They show us **what share of users make the entire journey from the first event to payment** (regardless of precise event sequence!). If we look at the `General Event Funnel (Number of Users Per Action)` funnel, we can see that 48% of users have made the entire journey. For the individual groups, the numbers are 49% for group 246, 47% for group 247, and the same for group 248. \n",
    "\n",
    "2) They show us **the share of users that proceed from one stage to the next**. For example, in the General Event Funnel, we see that 62% made it to the offers page from the main screen, 81% made it to the cart page from the offers page, and 95% made it to payment successful page from the cart page.\n",
    "The numbers for the individual groups can be seen in the `Group Event Funnel (Number of Users Per Action)`, marked `% of previous` in each block.\n",
    "\n",
    "The other two funnels, showing only the percentage of users in each step **from the total amount of users in each group / all users in the data**, show slightly different numbers only because not all users (but roughly 98%) have seen the main screen (we don't know why and how it happened). The figures in these funnels are a bit more precise, since they take **all** users in the groups into account, whether they went through the main screen or not, while the former funnels (from points 1 and 2 above) consider the number of users who have seen the main screen as the starting point, regardless of how many users were in the group. If all users in each group would visit the main screen - the numnbers in both types of funnels would coincide (and then we wouldn't have plotted the \"only-percentage\" funnels, since that'd be redundant)."
   ]
  },
  {
   "cell_type": "markdown",
   "metadata": {},
   "source": [
    "## Checking User Sequences\n",
    "What we will do next is prove our statement above that some users can go through all 4 stages (excluding the tutorial), but in different sequences. As mentioned above, the funnels in the previous section didn't take into account the exact sequence each user has been through."
   ]
  },
  {
   "cell_type": "code",
   "execution_count": 47,
   "metadata": {},
   "outputs": [
    {
     "data": {
      "text/html": [
       "<div>\n",
       "<style scoped>\n",
       "    .dataframe tbody tr th:only-of-type {\n",
       "        vertical-align: middle;\n",
       "    }\n",
       "\n",
       "    .dataframe tbody tr th {\n",
       "        vertical-align: top;\n",
       "    }\n",
       "\n",
       "    .dataframe thead th {\n",
       "        text-align: right;\n",
       "    }\n",
       "</style>\n",
       "<table border=\"1\" class=\"dataframe\">\n",
       "  <thead>\n",
       "    <tr style=\"text-align: right;\">\n",
       "      <th></th>\n",
       "      <th>event_name</th>\n",
       "      <th>user_id</th>\n",
       "      <th>event_timestamp</th>\n",
       "      <th>group_id</th>\n",
       "      <th>event_date</th>\n",
       "    </tr>\n",
       "  </thead>\n",
       "  <tbody>\n",
       "    <tr>\n",
       "      <th>194925</th>\n",
       "      <td>MainScreenAppear</td>\n",
       "      <td>6888746892508752</td>\n",
       "      <td>2019-08-06 17:06:34</td>\n",
       "      <td>246</td>\n",
       "      <td>2019-08-06</td>\n",
       "    </tr>\n",
       "    <tr>\n",
       "      <th>206843</th>\n",
       "      <td>MainScreenAppear</td>\n",
       "      <td>6909561520679493</td>\n",
       "      <td>2019-08-06 21:52:54</td>\n",
       "      <td>247</td>\n",
       "      <td>2019-08-06</td>\n",
       "    </tr>\n",
       "    <tr>\n",
       "      <th>206846</th>\n",
       "      <td>PaymentScreenSuccessful</td>\n",
       "      <td>6909561520679493</td>\n",
       "      <td>2019-08-06 21:52:58</td>\n",
       "      <td>247</td>\n",
       "      <td>2019-08-06</td>\n",
       "    </tr>\n",
       "    <tr>\n",
       "      <th>206847</th>\n",
       "      <td>CartScreenAppear</td>\n",
       "      <td>6909561520679493</td>\n",
       "      <td>2019-08-06 21:52:58</td>\n",
       "      <td>247</td>\n",
       "      <td>2019-08-06</td>\n",
       "    </tr>\n",
       "    <tr>\n",
       "      <th>206848</th>\n",
       "      <td>MainScreenAppear</td>\n",
       "      <td>6909561520679493</td>\n",
       "      <td>2019-08-06 21:52:58</td>\n",
       "      <td>247</td>\n",
       "      <td>2019-08-06</td>\n",
       "    </tr>\n",
       "  </tbody>\n",
       "</table>\n",
       "</div>"
      ],
      "text/plain": [
       "                     event_name           user_id     event_timestamp  \\\n",
       "194925         MainScreenAppear  6888746892508752 2019-08-06 17:06:34   \n",
       "206843         MainScreenAppear  6909561520679493 2019-08-06 21:52:54   \n",
       "206846  PaymentScreenSuccessful  6909561520679493 2019-08-06 21:52:58   \n",
       "206847         CartScreenAppear  6909561520679493 2019-08-06 21:52:58   \n",
       "206848         MainScreenAppear  6909561520679493 2019-08-06 21:52:58   \n",
       "\n",
       "        group_id event_date  \n",
       "194925       246 2019-08-06  \n",
       "206843       247 2019-08-06  \n",
       "206846       247 2019-08-06  \n",
       "206847       247 2019-08-06  \n",
       "206848       247 2019-08-06  "
      ]
     },
     "execution_count": 47,
     "metadata": {},
     "output_type": "execute_result"
    }
   ],
   "source": [
    "# first, we'll take the `logs` dataframe, and sort it by `user_id` and then by `event_timestamp`, \n",
    "# to get them all in chronological order. also, we will exclude the `tutorial` event.\n",
    "sorted_logs = logs[logs['event_name'] != 'Tutorial'].sort_values(by = ['user_id', 'event_timestamp'])\n",
    "sorted_logs.head()"
   ]
  },
  {
   "cell_type": "markdown",
   "metadata": {},
   "source": [
    "As a side note - the above table demonstrates precisely a probelm we have discussed before. If we look at the bottom 3 rows, we see the same user performing three different actions at supposedly the same second. These might be those very same implicit duplicates we talked about. The problem is that if we removed them, that user would have shown to have paid for something on August 6th, 2019, at 21:52, but we wouldn't get the data about the other events. We have no way of knowing which one of those really did appear first, and why did they all register at the exact same second. Not to mention that could also affect the result of the function below, as some events would be deleted and the order of appearance might change as a result.\n",
    "\n",
    "Next, we will create a function that iterates over all user id's, and registers all events they went through, in chronological order. It will then elimiate all duplicates, leaving each event type only once, in the order they were performed, even if it wasn't during the same session.\n"
   ]
  },
  {
   "cell_type": "code",
   "execution_count": 48,
   "metadata": {},
   "outputs": [],
   "source": [
    "def sequence_order (user_id: int) -> list:\n",
    "    \"\"\"\n",
    "    The functions takes a user ID, \n",
    "    and returns a list of all 4 events in the order in which they first appeared.\n",
    "    \"\"\"\n",
    "    \n",
    "    user_sequence = sorted_logs[sorted_logs['user_id']==user_id]\n",
    "    \n",
    "    return user_sequence['event_name'].drop_duplicates().to_list()"
   ]
  },
  {
   "cell_type": "code",
   "execution_count": 49,
   "metadata": {},
   "outputs": [
    {
     "data": {
      "text/plain": [
       "['MainScreenAppear',\n",
       " 'PaymentScreenSuccessful',\n",
       " 'CartScreenAppear',\n",
       " 'OffersScreenAppear']"
      ]
     },
     "execution_count": 49,
     "metadata": {},
     "output_type": "execute_result"
    }
   ],
   "source": [
    "# testing the function. \n",
    "# we will use the second id we in the table above (and we can already see the order we're supposed to get)\n",
    "sequence_order (6909561520679493)"
   ]
  },
  {
   "cell_type": "markdown",
   "metadata": {},
   "source": [
    "We already see the function works, and we also see this particular user had a sequence which doesn't make too much sense - main screen first (which is ok), payment screen last (which is very weird), then cart (what?!) and then offers screen. Doesn't make too much sense. Of course part of the blame lies withing the fact that we have quite a few entries sharing the user id and the timestamp, but not the event name (see previous markdown cell). \n",
    "\n",
    "That is to say - the above function is far from perfect, and we must not claim the returned results are exact in any way. This was done just to show that we can't take for granted that all users went through all the events in one specific order.\n",
    "\n",
    "BY THE WAY, let's see what sequence the same user_id would get, had we removed the alleged implicit duplicates:"
   ]
  },
  {
   "cell_type": "code",
   "execution_count": 50,
   "metadata": {},
   "outputs": [
    {
     "data": {
      "text/html": [
       "<div>\n",
       "<style scoped>\n",
       "    .dataframe tbody tr th:only-of-type {\n",
       "        vertical-align: middle;\n",
       "    }\n",
       "\n",
       "    .dataframe tbody tr th {\n",
       "        vertical-align: top;\n",
       "    }\n",
       "\n",
       "    .dataframe thead th {\n",
       "        text-align: right;\n",
       "    }\n",
       "</style>\n",
       "<table border=\"1\" class=\"dataframe\">\n",
       "  <thead>\n",
       "    <tr style=\"text-align: right;\">\n",
       "      <th></th>\n",
       "      <th>event_name</th>\n",
       "      <th>user_id</th>\n",
       "      <th>event_timestamp</th>\n",
       "      <th>group_id</th>\n",
       "      <th>event_date</th>\n",
       "    </tr>\n",
       "  </thead>\n",
       "  <tbody>\n",
       "    <tr>\n",
       "      <th>187318</th>\n",
       "      <td>MainScreenAppear</td>\n",
       "      <td>6909561520679493</td>\n",
       "      <td>2019-08-06 21:52:54</td>\n",
       "      <td>247</td>\n",
       "      <td>2019-08-06</td>\n",
       "    </tr>\n",
       "    <tr>\n",
       "      <th>187320</th>\n",
       "      <td>PaymentScreenSuccessful</td>\n",
       "      <td>6909561520679493</td>\n",
       "      <td>2019-08-06 21:52:58</td>\n",
       "      <td>247</td>\n",
       "      <td>2019-08-06</td>\n",
       "    </tr>\n",
       "    <tr>\n",
       "      <th>187328</th>\n",
       "      <td>OffersScreenAppear</td>\n",
       "      <td>6909561520679493</td>\n",
       "      <td>2019-08-06 21:53:04</td>\n",
       "      <td>247</td>\n",
       "      <td>2019-08-06</td>\n",
       "    </tr>\n",
       "  </tbody>\n",
       "</table>\n",
       "</div>"
      ],
      "text/plain": [
       "                     event_name           user_id     event_timestamp  \\\n",
       "187318         MainScreenAppear  6909561520679493 2019-08-06 21:52:54   \n",
       "187320  PaymentScreenSuccessful  6909561520679493 2019-08-06 21:52:58   \n",
       "187328       OffersScreenAppear  6909561520679493 2019-08-06 21:53:04   \n",
       "\n",
       "        group_id event_date  \n",
       "187318       247 2019-08-06  \n",
       "187320       247 2019-08-06  \n",
       "187328       247 2019-08-06  "
      ]
     },
     "execution_count": 50,
     "metadata": {},
     "output_type": "execute_result"
    }
   ],
   "source": [
    "test = logs.drop_duplicates(subset = ['user_id', 'event_timestamp']).reset_index(drop = True)\n",
    "\n",
    "sorted_logs = test[test['event_name'] != 'Tutorial'].sort_values(by = ['user_id', 'event_timestamp'])\n",
    "\n",
    "test[test['user_id']==6909561520679493]"
   ]
  },
  {
   "cell_type": "markdown",
   "metadata": {},
   "source": [
    "Wouldn't you know it? the cart stage magically disappeared. The remaining events show up in the same order as they did before, which is no surprise. the cart stage was removed just because it never appeard in a unique timestamp for that user, or at least did not appear FIRST in a sequence of events which shared a specific timestamp.\n",
    "\n",
    "What else does it tell us? it tells us that had we removed the implicit duplicates, **it would have affected our funnels as well**. That is because it might have caused some users to \"lost\" some of their events, for the same reason the user above lost his cart stage.\n",
    "\n",
    "The effect might not have been too drastic, but nevertheless there would be an effect."
   ]
  },
  {
   "cell_type": "markdown",
   "metadata": {},
   "source": [
    "Below we will show all the sequence combinations our function can come up with, and how many users followed each. This will demonstrate how imperfect (not to say *chaotic*) our data can be in regard to event registration, whatever the reason behind it may be."
   ]
  },
  {
   "cell_type": "code",
   "execution_count": 51,
   "metadata": {
    "scrolled": true
   },
   "outputs": [
    {
     "data": {
      "text/plain": [
       "[MainScreenAppear]                                                                   2884\n",
       "[MainScreenAppear, OffersScreenAppear]                                                884\n",
       "[MainScreenAppear, OffersScreenAppear, CartScreenAppear, PaymentScreenSuccessful]     811\n",
       "[MainScreenAppear, OffersScreenAppear, PaymentScreenSuccessful, CartScreenAppear]     774\n",
       "[MainScreenAppear, CartScreenAppear, OffersScreenAppear, PaymentScreenSuccessful]     444\n",
       "[MainScreenAppear, PaymentScreenSuccessful, OffersScreenAppear, CartScreenAppear]     319\n",
       "[MainScreenAppear, OffersScreenAppear, CartScreenAppear]                              229\n",
       "[MainScreenAppear, PaymentScreenSuccessful, CartScreenAppear, OffersScreenAppear]     224\n",
       "[MainScreenAppear, OffersScreenAppear, PaymentScreenSuccessful]                       136\n",
       "[MainScreenAppear, CartScreenAppear, PaymentScreenSuccessful, OffersScreenAppear]     120\n",
       "[MainScreenAppear, CartScreenAppear, OffersScreenAppear]                              116\n",
       "[MainScreenAppear, PaymentScreenSuccessful, OffersScreenAppear]                        86\n",
       "[OffersScreenAppear, MainScreenAppear, PaymentScreenSuccessful, CartScreenAppear]      65\n",
       "[OffersScreenAppear, PaymentScreenSuccessful, CartScreenAppear, MainScreenAppear]      54\n",
       "[MainScreenAppear, CartScreenAppear]                                                   49\n",
       "[OffersScreenAppear, PaymentScreenSuccessful, CartScreenAppear]                        36\n",
       "[PaymentScreenSuccessful, CartScreenAppear, OffersScreenAppear, MainScreenAppear]      34\n",
       "[OffersScreenAppear, MainScreenAppear]                                                 27\n",
       "[PaymentScreenSuccessful, CartScreenAppear, OffersScreenAppear]                        26\n",
       "[OffersScreenAppear, CartScreenAppear, PaymentScreenSuccessful, MainScreenAppear]      26\n",
       "[OffersScreenAppear, MainScreenAppear, CartScreenAppear, PaymentScreenSuccessful]      20\n",
       "[CartScreenAppear, MainScreenAppear, OffersScreenAppear, PaymentScreenSuccessful]      17\n",
       "[OffersScreenAppear, CartScreenAppear, PaymentScreenSuccessful]                        14\n",
       "[CartScreenAppear, OffersScreenAppear, PaymentScreenSuccessful]                        11\n",
       "[CartScreenAppear, MainScreenAppear, PaymentScreenSuccessful, OffersScreenAppear]      11\n",
       "[OffersScreenAppear]                                                                   11\n",
       "[PaymentScreenSuccessful, CartScreenAppear, MainScreenAppear, OffersScreenAppear]      11\n",
       "[OffersScreenAppear, CartScreenAppear, MainScreenAppear, PaymentScreenSuccessful]      10\n",
       "[OffersScreenAppear, PaymentScreenSuccessful, MainScreenAppear, CartScreenAppear]       7\n",
       "[PaymentScreenSuccessful, OffersScreenAppear, CartScreenAppear]                         7\n",
       "[CartScreenAppear, OffersScreenAppear, PaymentScreenSuccessful, MainScreenAppear]       6\n",
       "[OffersScreenAppear, MainScreenAppear, CartScreenAppear]                                6\n",
       "[OffersScreenAppear, MainScreenAppear, PaymentScreenSuccessful]                         6\n",
       "[MainScreenAppear, CartScreenAppear, PaymentScreenSuccessful]                           6\n",
       "[PaymentScreenSuccessful, OffersScreenAppear, MainScreenAppear, CartScreenAppear]       5\n",
       "[OffersScreenAppear, CartScreenAppear, MainScreenAppear]                                4\n",
       "[CartScreenAppear, OffersScreenAppear, MainScreenAppear, PaymentScreenSuccessful]       4\n",
       "[MainScreenAppear, PaymentScreenSuccessful, CartScreenAppear]                           4\n",
       "[CartScreenAppear, MainScreenAppear, OffersScreenAppear]                                4\n",
       "[PaymentScreenSuccessful, MainScreenAppear, OffersScreenAppear, CartScreenAppear]       4\n",
       "[PaymentScreenSuccessful, MainScreenAppear, OffersScreenAppear]                         4\n",
       "[CartScreenAppear, PaymentScreenSuccessful, OffersScreenAppear, MainScreenAppear]       3\n",
       "[MainScreenAppear, PaymentScreenSuccessful]                                             2\n",
       "[CartScreenAppear, PaymentScreenSuccessful, OffersScreenAppear]                         2\n",
       "[OffersScreenAppear, CartScreenAppear]                                                  2\n",
       "[PaymentScreenSuccessful, OffersScreenAppear]                                           2\n",
       "[PaymentScreenSuccessful, OffersScreenAppear, CartScreenAppear, MainScreenAppear]       2\n",
       "[CartScreenAppear, PaymentScreenSuccessful, MainScreenAppear, OffersScreenAppear]       1\n",
       "[CartScreenAppear, OffersScreenAppear, MainScreenAppear]                                1\n",
       "[OffersScreenAppear, PaymentScreenSuccessful]                                           1\n",
       "[OffersScreenAppear, PaymentScreenSuccessful, MainScreenAppear]                         1\n",
       "[PaymentScreenSuccessful, MainScreenAppear, CartScreenAppear, OffersScreenAppear]       1\n",
       "Name: sequence, dtype: int64"
      ]
     },
     "execution_count": 51,
     "metadata": {},
     "output_type": "execute_result"
    }
   ],
   "source": [
    "user_sequences = []\n",
    "for user_id in sorted_logs['user_id'].unique():\n",
    "    user_sequences.append([user_id , sequence_order(user_id)])\n",
    "\n",
    "sequences_data = pd.DataFrame(user_sequences, columns = ['user_id', 'sequence'])\n",
    "sequences_data['sequence'].value_counts()"
   ]
  },
  {
   "cell_type": "markdown",
   "metadata": {},
   "source": [
    "Point proven. We can see that only 811 (out of more than 7,000!) users have - supposedly - went through the \"logical\" sequence of main screen, offers, cart, payment. At the very least, among all users who had all four event logs in the data, this sequence had the highest number of users, but we can see they are far from being the majority - as more than 2000 others have went through the four events in various other sequences. \n",
    "\n",
    "Now that we are done playing around, it's time to do what we came for:\n",
    "\n",
    "Checking if changing the fonts of the app had any effect on users."
   ]
  },
  {
   "cell_type": "markdown",
   "metadata": {},
   "source": [
    "# Experiment Results\n",
    "Let's get a reminder how many users we have in each group - INCLUDING the outliers:"
   ]
  },
  {
   "cell_type": "code",
   "execution_count": 52,
   "metadata": {},
   "outputs": [
    {
     "name": "stdout",
     "output_type": "stream",
     "text": [
      "Number of members in group 246 (control group): 2484\n",
      "Number of members in group 247 (control group): 2517\n",
      "Number of members in group 248 (test group): 2537\n"
     ]
    }
   ],
   "source": [
    "print ('Number of members in group 246 (control group):', logs.query(\n",
    "    'group_id == 246')['user_id'].nunique())\n",
    "print ('Number of members in group 247 (control group):', logs.query(\n",
    "    'group_id == 247')['user_id'].nunique())\n",
    "print ('Number of members in group 248 (test group):', logs.query(\n",
    "    'group_id == 248')['user_id'].nunique())"
   ]
  },
  {
   "cell_type": "markdown",
   "metadata": {},
   "source": [
    "More or less the same amount. We will re-check this later, when we filter the data and take out the outliers we determined earlier.\n",
    "Also, we already know from before that all users belong to only one group. We won't re-check this now.\n",
    "\n",
    "Groups 246 and 247 are our control groups. Our first task would be the compare them, and see that our test mechanism works properly. Our desired result in this part would be to find out that there are no statistically significant differences between these two groups, as they are supposed to be the same - the users of both were using the app using the current font set, so we shouldn't see any major difference.\n",
    "\n",
    "This is the time to emphasize two things. \n",
    "\n",
    "1) All tests to be conducted below are tests of **proportions**, not tests of **averages**. Meaning, we will only be using the **Z-test** in our analysis, and not other tests like t-test or Mann-Whitney, as these are irrelevant to us.\n",
    "\n",
    "2) In all the tests below, the same null hypothesis will be tested:\n",
    "    \n",
    "* **Null Hypothesis**: There is NO statistically significant difference between the proportions of the two groups being compared (they are the same).\n",
    "    \n",
    "* **Alternative Hypothesis**: There IS a statistically significant difference between the proportions of the two groups being compared (they are NOT the same).\n",
    "\n",
    "We can use our old `event_users_groups` table below. The function will know which value to take from the `number_of_users`, according to group and event type."
   ]
  },
  {
   "cell_type": "code",
   "execution_count": 53,
   "metadata": {},
   "outputs": [
    {
     "data": {
      "text/html": [
       "<div>\n",
       "<style scoped>\n",
       "    .dataframe tbody tr th:only-of-type {\n",
       "        vertical-align: middle;\n",
       "    }\n",
       "\n",
       "    .dataframe tbody tr th {\n",
       "        vertical-align: top;\n",
       "    }\n",
       "\n",
       "    .dataframe thead th {\n",
       "        text-align: right;\n",
       "    }\n",
       "</style>\n",
       "<table border=\"1\" class=\"dataframe\">\n",
       "  <thead>\n",
       "    <tr style=\"text-align: right;\">\n",
       "      <th></th>\n",
       "      <th>event_name</th>\n",
       "      <th>group_id</th>\n",
       "      <th>number_of_users</th>\n",
       "      <th>percentage_from_group</th>\n",
       "    </tr>\n",
       "  </thead>\n",
       "  <tbody>\n",
       "    <tr>\n",
       "      <th>0</th>\n",
       "      <td>MainScreenAppear</td>\n",
       "      <td>246</td>\n",
       "      <td>2450</td>\n",
       "      <td>98.63</td>\n",
       "    </tr>\n",
       "    <tr>\n",
       "      <th>1</th>\n",
       "      <td>OffersScreenAppear</td>\n",
       "      <td>246</td>\n",
       "      <td>1542</td>\n",
       "      <td>62.08</td>\n",
       "    </tr>\n",
       "    <tr>\n",
       "      <th>2</th>\n",
       "      <td>CartScreenAppear</td>\n",
       "      <td>246</td>\n",
       "      <td>1266</td>\n",
       "      <td>50.97</td>\n",
       "    </tr>\n",
       "    <tr>\n",
       "      <th>3</th>\n",
       "      <td>PaymentScreenSuccessful</td>\n",
       "      <td>246</td>\n",
       "      <td>1200</td>\n",
       "      <td>48.31</td>\n",
       "    </tr>\n",
       "    <tr>\n",
       "      <th>4</th>\n",
       "      <td>Tutorial</td>\n",
       "      <td>246</td>\n",
       "      <td>278</td>\n",
       "      <td>11.19</td>\n",
       "    </tr>\n",
       "    <tr>\n",
       "      <th>5</th>\n",
       "      <td>MainScreenAppear</td>\n",
       "      <td>247</td>\n",
       "      <td>2479</td>\n",
       "      <td>98.49</td>\n",
       "    </tr>\n",
       "    <tr>\n",
       "      <th>6</th>\n",
       "      <td>OffersScreenAppear</td>\n",
       "      <td>247</td>\n",
       "      <td>1523</td>\n",
       "      <td>60.51</td>\n",
       "    </tr>\n",
       "    <tr>\n",
       "      <th>7</th>\n",
       "      <td>CartScreenAppear</td>\n",
       "      <td>247</td>\n",
       "      <td>1239</td>\n",
       "      <td>49.23</td>\n",
       "    </tr>\n",
       "    <tr>\n",
       "      <th>8</th>\n",
       "      <td>PaymentScreenSuccessful</td>\n",
       "      <td>247</td>\n",
       "      <td>1158</td>\n",
       "      <td>46.01</td>\n",
       "    </tr>\n",
       "    <tr>\n",
       "      <th>9</th>\n",
       "      <td>Tutorial</td>\n",
       "      <td>247</td>\n",
       "      <td>284</td>\n",
       "      <td>11.28</td>\n",
       "    </tr>\n",
       "    <tr>\n",
       "      <th>10</th>\n",
       "      <td>MainScreenAppear</td>\n",
       "      <td>248</td>\n",
       "      <td>2494</td>\n",
       "      <td>98.31</td>\n",
       "    </tr>\n",
       "    <tr>\n",
       "      <th>11</th>\n",
       "      <td>OffersScreenAppear</td>\n",
       "      <td>248</td>\n",
       "      <td>1531</td>\n",
       "      <td>60.35</td>\n",
       "    </tr>\n",
       "    <tr>\n",
       "      <th>12</th>\n",
       "      <td>CartScreenAppear</td>\n",
       "      <td>248</td>\n",
       "      <td>1231</td>\n",
       "      <td>48.52</td>\n",
       "    </tr>\n",
       "    <tr>\n",
       "      <th>13</th>\n",
       "      <td>PaymentScreenSuccessful</td>\n",
       "      <td>248</td>\n",
       "      <td>1182</td>\n",
       "      <td>46.59</td>\n",
       "    </tr>\n",
       "    <tr>\n",
       "      <th>14</th>\n",
       "      <td>Tutorial</td>\n",
       "      <td>248</td>\n",
       "      <td>281</td>\n",
       "      <td>11.08</td>\n",
       "    </tr>\n",
       "  </tbody>\n",
       "</table>\n",
       "</div>"
      ],
      "text/plain": [
       "                 event_name  group_id  number_of_users  percentage_from_group\n",
       "0          MainScreenAppear       246             2450                  98.63\n",
       "1        OffersScreenAppear       246             1542                  62.08\n",
       "2          CartScreenAppear       246             1266                  50.97\n",
       "3   PaymentScreenSuccessful       246             1200                  48.31\n",
       "4                  Tutorial       246              278                  11.19\n",
       "5          MainScreenAppear       247             2479                  98.49\n",
       "6        OffersScreenAppear       247             1523                  60.51\n",
       "7          CartScreenAppear       247             1239                  49.23\n",
       "8   PaymentScreenSuccessful       247             1158                  46.01\n",
       "9                  Tutorial       247              284                  11.28\n",
       "10         MainScreenAppear       248             2494                  98.31\n",
       "11       OffersScreenAppear       248             1531                  60.35\n",
       "12         CartScreenAppear       248             1231                  48.52\n",
       "13  PaymentScreenSuccessful       248             1182                  46.59\n",
       "14                 Tutorial       248              281                  11.08"
      ]
     },
     "execution_count": 53,
     "metadata": {},
     "output_type": "execute_result"
    }
   ],
   "source": [
    "event_users_groups"
   ]
  },
  {
   "cell_type": "code",
   "execution_count": 54,
   "metadata": {},
   "outputs": [
    {
     "data": {
      "text/html": [
       "<div>\n",
       "<style scoped>\n",
       "    .dataframe tbody tr th:only-of-type {\n",
       "        vertical-align: middle;\n",
       "    }\n",
       "\n",
       "    .dataframe tbody tr th {\n",
       "        vertical-align: top;\n",
       "    }\n",
       "\n",
       "    .dataframe thead th {\n",
       "        text-align: right;\n",
       "    }\n",
       "</style>\n",
       "<table border=\"1\" class=\"dataframe\">\n",
       "  <thead>\n",
       "    <tr style=\"text-align: right;\">\n",
       "      <th></th>\n",
       "      <th>group_id</th>\n",
       "      <th>users</th>\n",
       "    </tr>\n",
       "  </thead>\n",
       "  <tbody>\n",
       "    <tr>\n",
       "      <th>0</th>\n",
       "      <td>246</td>\n",
       "      <td>2484</td>\n",
       "    </tr>\n",
       "    <tr>\n",
       "      <th>1</th>\n",
       "      <td>247</td>\n",
       "      <td>2517</td>\n",
       "    </tr>\n",
       "    <tr>\n",
       "      <th>2</th>\n",
       "      <td>248</td>\n",
       "      <td>2537</td>\n",
       "    </tr>\n",
       "  </tbody>\n",
       "</table>\n",
       "</div>"
      ],
      "text/plain": [
       "   group_id  users\n",
       "0       246   2484\n",
       "1       247   2517\n",
       "2       248   2537"
      ]
     },
     "execution_count": 54,
     "metadata": {},
     "output_type": "execute_result"
    }
   ],
   "source": [
    "users = {'group_id': [246, 247, 248], 'users': [logs.query('group_id == 246')['user_id'].nunique(), \n",
    "                                                logs.query('group_id == 247')['user_id'].nunique(), \n",
    "                                                logs.query('group_id == 248')['user_id'].nunique()]}\n",
    "users_table = pd.DataFrame(data=users)\n",
    "users_table"
   ]
  },
  {
   "cell_type": "markdown",
   "metadata": {},
   "source": [
    "What we are going to do is compare the proportion of users in groups 246 and 247 which performed the each type of action. Let's take as an example the most prevalent action - seeing the main screen. We can already see the shares above:\n",
    "\n",
    "Group 246: 98.63% of users in this group saw the main screen.\n",
    "\n",
    "Group 247: 98.49% of users in this group saw the main screen.\n",
    "\n",
    "That looks like a negligible difference, but is it really so? That's what the Z-test is for.\n",
    "\n",
    "We will create function that takes the equivalent proportions of two groups, of the same event, and compares them. We will test the null hypothesis that the two proportions are the same - meaning, there is no statistical difference between them. Our alpha value will be the standard 0.05, and right now we hope to *fail* to reject the null hypothesis. Meaningm we hope our p-value will be greater than our alpha.\n",
    "\n",
    "In our function, we incorporate a library function called `proportions_ztest`, imported from `statmodels.stats.proportion`, rather than write all the math ourselves. According to the resultant p-value of the `proportions_ztest`, the function will print whether we reject the null hypothesis or failed to do so."
   ]
  },
  {
   "cell_type": "code",
   "execution_count": 55,
   "metadata": {},
   "outputs": [],
   "source": [
    "def check_zvalue (group1: int, group2: int, event: str, alpha_value: float):\n",
    "    \"\"\"Description of the function:\n",
    "    \n",
    "    Parameters:\n",
    "    group1(int): ID number of the first group to be compared.\n",
    "    group2(int): ID number of the second group to be compared.\n",
    "    event(string): Type of event, of which the group proportions are compared.\n",
    "    alpha_value(float): the alpha value setting for the test.\n",
    "    \n",
    "    Variables:\n",
    "    trials1 / trials2 : the total amount of users in the respective group.\n",
    "    successes1 / successes2: the amount of users in the respective group who performed the event in \n",
    "    question.\n",
    "    \n",
    "    Output:\n",
    "    The function prints the following:\n",
    "    1) Groups being compared.\n",
    "    2) Event being compared.\n",
    "    3) Total number of users in each group\n",
    "    4) Number of users within the group who used the event.\n",
    "    5) The proportion of the latter in the group.\n",
    "    6) Results of the Z-test: p-value, and whether the null hypothesis has been rejected or failed to \n",
    "       reject.\n",
    "    \n",
    "    \"\"\"\n",
    "    \n",
    "    print ('Compared groups:', group1, 'and', group2, '.', 'Event in question:', event)\n",
    "    print ()\n",
    "    \n",
    "    trials1 = int(users_table[users_table['group_id']==group1]['users'])\n",
    "    trials2 = int(users_table[users_table['group_id']==group2]['users'])\n",
    "    \n",
    "    successes1 = int(event_users_groups[(event_users_groups['group_id'] == group1) & \n",
    "                                        (event_users_groups['event_name'] == event)]['number_of_users'])\n",
    "    successes2 = int(event_users_groups[(event_users_groups['group_id'] == group2) &\n",
    "                                        (event_users_groups['event_name'] == event)]['number_of_users'])\n",
    "    \n",
    "    print ('Total users in group', group1, \"-\", trials1)\n",
    "    print ('total of users who performed the event -', successes1)\n",
    "    print ('Proportion in the group: {:.2%}'.format(successes1/trials1))\n",
    "    print ()\n",
    "    print ('Total users in group', group2, \"-\", trials2)\n",
    "    print ('total of users who performed the event -', successes2)\n",
    "    print ('Proportion in the group: {:.2%}'.format(successes2/trials2))\n",
    "    print ()\n",
    "    \n",
    "    alpha = alpha_value\n",
    "    stat, p_value = proportions_ztest([successes1, successes2], [trials1 ,trials2])\n",
    "    \n",
    "    print ('Z-test results:')\n",
    "    print ('p-value: {:.5f}'.format(p_value))\n",
    "    print ('alpha value:', alpha)\n",
    "    if p_value < alpha:\n",
    "        print ('Null hypothesis rejected - the proportions are significantly different')\n",
    "    else:\n",
    "        print ('Failed to reject null hypothesis - there is no reason to consider the proportions different')\n",
    "    \n",
    "    print ('-------------------------------------------------------------------------------------------')"
   ]
  },
  {
   "cell_type": "markdown",
   "metadata": {},
   "source": [
    "Some explanations:\n",
    "\n",
    "`group1` and `group2` - the groups to be compared.\n",
    "\n",
    "`event` - self explanatory, this is the event type we check.\n",
    "\n",
    "`trials1` and `trials2` are universal terms, which in our context mean `the total amount of users in a specific group`.\n",
    "\n",
    "`successes1` and `successes2` are also universal terms, which in our context mean `the amount of users in the group who performed the action (event) in question`."
   ]
  },
  {
   "cell_type": "code",
   "execution_count": 56,
   "metadata": {},
   "outputs": [
    {
     "data": {
      "text/plain": [
       "['MainScreenAppear',\n",
       " 'OffersScreenAppear',\n",
       " 'CartScreenAppear',\n",
       " 'PaymentScreenSuccessful']"
      ]
     },
     "execution_count": 56,
     "metadata": {},
     "output_type": "execute_result"
    }
   ],
   "source": [
    "# creating the list of events, and removing `tutorial` as we don't need it.\n",
    "event_list = list(event_users_groups['event_name'].unique())\n",
    "event_list.remove('Tutorial')\n",
    "event_list"
   ]
  },
  {
   "cell_type": "markdown",
   "metadata": {},
   "source": [
    "All that we have left to do now is simply create a simple loop to iterate over all event types - except `tutorial`, and perform the z-test for each one.\n",
    "Right now we are only focused on the two control groups, so we expect that in all cases the p-value will be greater than alpha.\n",
    "\n",
    "The alpha value in all tests below is set to 0.05, the industry standard."
   ]
  },
  {
   "cell_type": "code",
   "execution_count": 57,
   "metadata": {},
   "outputs": [
    {
     "name": "stdout",
     "output_type": "stream",
     "text": [
      "Compared groups: 246 and 247 . Event in question: MainScreenAppear\n",
      "\n",
      "Total users in group 246 - 2484\n",
      "total of users who performed the event - 2450\n",
      "Proportion in the group: 98.63%\n",
      "\n",
      "Total users in group 247 - 2517\n",
      "total of users who performed the event - 2479\n",
      "Proportion in the group: 98.49%\n",
      "\n",
      "Z-test results:\n",
      "p-value: 0.67562\n",
      "alpha value: 0.05\n",
      "Failed to reject null hypothesis - there is no reason to consider the proportions different\n",
      "-------------------------------------------------------------------------------------------\n",
      "Compared groups: 246 and 247 . Event in question: OffersScreenAppear\n",
      "\n",
      "Total users in group 246 - 2484\n",
      "total of users who performed the event - 1542\n",
      "Proportion in the group: 62.08%\n",
      "\n",
      "Total users in group 247 - 2517\n",
      "total of users who performed the event - 1523\n",
      "Proportion in the group: 60.51%\n",
      "\n",
      "Z-test results:\n",
      "p-value: 0.25480\n",
      "alpha value: 0.05\n",
      "Failed to reject null hypothesis - there is no reason to consider the proportions different\n",
      "-------------------------------------------------------------------------------------------\n",
      "Compared groups: 246 and 247 . Event in question: CartScreenAppear\n",
      "\n",
      "Total users in group 246 - 2484\n",
      "total of users who performed the event - 1266\n",
      "Proportion in the group: 50.97%\n",
      "\n",
      "Total users in group 247 - 2517\n",
      "total of users who performed the event - 1239\n",
      "Proportion in the group: 49.23%\n",
      "\n",
      "Z-test results:\n",
      "p-value: 0.21828\n",
      "alpha value: 0.05\n",
      "Failed to reject null hypothesis - there is no reason to consider the proportions different\n",
      "-------------------------------------------------------------------------------------------\n",
      "Compared groups: 246 and 247 . Event in question: PaymentScreenSuccessful\n",
      "\n",
      "Total users in group 246 - 2484\n",
      "total of users who performed the event - 1200\n",
      "Proportion in the group: 48.31%\n",
      "\n",
      "Total users in group 247 - 2517\n",
      "total of users who performed the event - 1158\n",
      "Proportion in the group: 46.01%\n",
      "\n",
      "Z-test results:\n",
      "p-value: 0.10298\n",
      "alpha value: 0.05\n",
      "Failed to reject null hypothesis - there is no reason to consider the proportions different\n",
      "-------------------------------------------------------------------------------------------\n"
     ]
    }
   ],
   "source": [
    "for event in event_list:\n",
    "    check_zvalue(246, 247, event, 0.05)"
   ]
  },
  {
   "cell_type": "markdown",
   "metadata": {},
   "source": [
    "Perfect. All p-values are greater than alpha. This means that **for all event types, groups 246 and 247 are the same** in terms of the proportion of the amount of users who performed each action to the total amount of users in the group."
   ]
  },
  {
   "cell_type": "markdown",
   "metadata": {},
   "source": [
    "Next - we will compare groups 246 and the test group 248, and see what we come up with:"
   ]
  },
  {
   "cell_type": "code",
   "execution_count": 58,
   "metadata": {},
   "outputs": [
    {
     "name": "stdout",
     "output_type": "stream",
     "text": [
      "Compared groups: 246 and 248 . Event in question: MainScreenAppear\n",
      "\n",
      "Total users in group 246 - 2484\n",
      "total of users who performed the event - 2450\n",
      "Proportion in the group: 98.63%\n",
      "\n",
      "Total users in group 248 - 2537\n",
      "total of users who performed the event - 2494\n",
      "Proportion in the group: 98.31%\n",
      "\n",
      "Z-test results:\n",
      "p-value: 0.34706\n",
      "alpha value: 0.05\n",
      "Failed to reject null hypothesis - there is no reason to consider the proportions different\n",
      "-------------------------------------------------------------------------------------------\n",
      "Compared groups: 246 and 248 . Event in question: OffersScreenAppear\n",
      "\n",
      "Total users in group 246 - 2484\n",
      "total of users who performed the event - 1542\n",
      "Proportion in the group: 62.08%\n",
      "\n",
      "Total users in group 248 - 2537\n",
      "total of users who performed the event - 1531\n",
      "Proportion in the group: 60.35%\n",
      "\n",
      "Z-test results:\n",
      "p-value: 0.20836\n",
      "alpha value: 0.05\n",
      "Failed to reject null hypothesis - there is no reason to consider the proportions different\n",
      "-------------------------------------------------------------------------------------------\n",
      "Compared groups: 246 and 248 . Event in question: CartScreenAppear\n",
      "\n",
      "Total users in group 246 - 2484\n",
      "total of users who performed the event - 1266\n",
      "Proportion in the group: 50.97%\n",
      "\n",
      "Total users in group 248 - 2537\n",
      "total of users who performed the event - 1231\n",
      "Proportion in the group: 48.52%\n",
      "\n",
      "Z-test results:\n",
      "p-value: 0.08328\n",
      "alpha value: 0.05\n",
      "Failed to reject null hypothesis - there is no reason to consider the proportions different\n",
      "-------------------------------------------------------------------------------------------\n",
      "Compared groups: 246 and 248 . Event in question: PaymentScreenSuccessful\n",
      "\n",
      "Total users in group 246 - 2484\n",
      "total of users who performed the event - 1200\n",
      "Proportion in the group: 48.31%\n",
      "\n",
      "Total users in group 248 - 2537\n",
      "total of users who performed the event - 1182\n",
      "Proportion in the group: 46.59%\n",
      "\n",
      "Z-test results:\n",
      "p-value: 0.22269\n",
      "alpha value: 0.05\n",
      "Failed to reject null hypothesis - there is no reason to consider the proportions different\n",
      "-------------------------------------------------------------------------------------------\n"
     ]
    }
   ],
   "source": [
    "for event in event_list:\n",
    "    check_zvalue(246, 248, event, 0.05)"
   ]
  },
  {
   "cell_type": "markdown",
   "metadata": {},
   "source": [
    "Interestingly, we have failed to reject all null hypotheses here as well. This means that **control group 246 and the test group 248 are the same** as far as user behaviour (or in other words, conversion) goes. There are no statistically significant differences between the proportions which were compared.\n",
    "\n",
    "Let's see if the other control group (247) gives us anything different:"
   ]
  },
  {
   "cell_type": "code",
   "execution_count": 59,
   "metadata": {},
   "outputs": [
    {
     "name": "stdout",
     "output_type": "stream",
     "text": [
      "Compared groups: 247 and 248 . Event in question: MainScreenAppear\n",
      "\n",
      "Total users in group 247 - 2517\n",
      "total of users who performed the event - 2479\n",
      "Proportion in the group: 98.49%\n",
      "\n",
      "Total users in group 248 - 2537\n",
      "total of users who performed the event - 2494\n",
      "Proportion in the group: 98.31%\n",
      "\n",
      "Z-test results:\n",
      "p-value: 0.60017\n",
      "alpha value: 0.05\n",
      "Failed to reject null hypothesis - there is no reason to consider the proportions different\n",
      "-------------------------------------------------------------------------------------------\n",
      "Compared groups: 247 and 248 . Event in question: OffersScreenAppear\n",
      "\n",
      "Total users in group 247 - 2517\n",
      "total of users who performed the event - 1523\n",
      "Proportion in the group: 60.51%\n",
      "\n",
      "Total users in group 248 - 2537\n",
      "total of users who performed the event - 1531\n",
      "Proportion in the group: 60.35%\n",
      "\n",
      "Z-test results:\n",
      "p-value: 0.90645\n",
      "alpha value: 0.05\n",
      "Failed to reject null hypothesis - there is no reason to consider the proportions different\n",
      "-------------------------------------------------------------------------------------------\n",
      "Compared groups: 247 and 248 . Event in question: CartScreenAppear\n",
      "\n",
      "Total users in group 247 - 2517\n",
      "total of users who performed the event - 1239\n",
      "Proportion in the group: 49.23%\n",
      "\n",
      "Total users in group 248 - 2537\n",
      "total of users who performed the event - 1231\n",
      "Proportion in the group: 48.52%\n",
      "\n",
      "Z-test results:\n",
      "p-value: 0.61695\n",
      "alpha value: 0.05\n",
      "Failed to reject null hypothesis - there is no reason to consider the proportions different\n",
      "-------------------------------------------------------------------------------------------\n",
      "Compared groups: 247 and 248 . Event in question: PaymentScreenSuccessful\n",
      "\n",
      "Total users in group 247 - 2517\n",
      "total of users who performed the event - 1158\n",
      "Proportion in the group: 46.01%\n",
      "\n",
      "Total users in group 248 - 2537\n",
      "total of users who performed the event - 1182\n",
      "Proportion in the group: 46.59%\n",
      "\n",
      "Z-test results:\n",
      "p-value: 0.67754\n",
      "alpha value: 0.05\n",
      "Failed to reject null hypothesis - there is no reason to consider the proportions different\n",
      "-------------------------------------------------------------------------------------------\n"
     ]
    }
   ],
   "source": [
    "for event in event_list:\n",
    "    check_zvalue(247, 248, event, 0.05)"
   ]
  },
  {
   "cell_type": "markdown",
   "metadata": {},
   "source": [
    "All null hypotheses failed to reject. AGAIN. Meaning - **control group 247 and the test group 248 are the same** as far as user behaviour (conversion) goes. There are no statistically significant differences between the proportions which were compared.\n",
    "\n",
    "One last thing we will do is to **combine** the two test groups - 246 and 247, and compare them as a single group to the test group, 248.\n",
    "Since we already established that groups 246 and 247 are statistically the same, the combined proportions for each event should be same as in the individual groups. And, since we also established that neither group is statistically different than the test group, 248, we expect that here, too, all null hypotheses will fail to be rejected.\n",
    "\n",
    "We'll have to make a few preparations before we can execute the test, since we need to create a new \"group\" which is the combination of 246 and 247. We can also just fill-in the values manually, but this is not a good practice."
   ]
  },
  {
   "cell_type": "code",
   "execution_count": 60,
   "metadata": {},
   "outputs": [],
   "source": [
    "# first, we will update the `users_table` with our new \"group\"'s number of users\n",
    "# we'll name it 249 (just an arbitrary number)\n",
    "group249_users = (int(users_table.query('group_id == 246')['users']) + \n",
    "                  int(users_table.query('group_id == 247')['users']))\n",
    "group249_row = pd.DataFrame(data = {'group_id': [249], 'users': [group249_users]})\n",
    "\n",
    "users_table = pd.concat([users_table, group249_row]).reset_index(drop = True)"
   ]
  },
  {
   "cell_type": "code",
   "execution_count": 61,
   "metadata": {},
   "outputs": [
    {
     "data": {
      "text/html": [
       "<div>\n",
       "<style scoped>\n",
       "    .dataframe tbody tr th:only-of-type {\n",
       "        vertical-align: middle;\n",
       "    }\n",
       "\n",
       "    .dataframe tbody tr th {\n",
       "        vertical-align: top;\n",
       "    }\n",
       "\n",
       "    .dataframe thead th {\n",
       "        text-align: right;\n",
       "    }\n",
       "</style>\n",
       "<table border=\"1\" class=\"dataframe\">\n",
       "  <thead>\n",
       "    <tr style=\"text-align: right;\">\n",
       "      <th></th>\n",
       "      <th>group_id</th>\n",
       "      <th>users</th>\n",
       "    </tr>\n",
       "  </thead>\n",
       "  <tbody>\n",
       "    <tr>\n",
       "      <th>0</th>\n",
       "      <td>246</td>\n",
       "      <td>2484</td>\n",
       "    </tr>\n",
       "    <tr>\n",
       "      <th>1</th>\n",
       "      <td>247</td>\n",
       "      <td>2517</td>\n",
       "    </tr>\n",
       "    <tr>\n",
       "      <th>2</th>\n",
       "      <td>248</td>\n",
       "      <td>2537</td>\n",
       "    </tr>\n",
       "    <tr>\n",
       "      <th>3</th>\n",
       "      <td>249</td>\n",
       "      <td>5001</td>\n",
       "    </tr>\n",
       "  </tbody>\n",
       "</table>\n",
       "</div>"
      ],
      "text/plain": [
       "   group_id  users\n",
       "0       246   2484\n",
       "1       247   2517\n",
       "2       248   2537\n",
       "3       249   5001"
      ]
     },
     "execution_count": 61,
     "metadata": {},
     "output_type": "execute_result"
    }
   ],
   "source": [
    "users_table"
   ]
  },
  {
   "cell_type": "code",
   "execution_count": 62,
   "metadata": {},
   "outputs": [
    {
     "data": {
      "text/html": [
       "<div>\n",
       "<style scoped>\n",
       "    .dataframe tbody tr th:only-of-type {\n",
       "        vertical-align: middle;\n",
       "    }\n",
       "\n",
       "    .dataframe tbody tr th {\n",
       "        vertical-align: top;\n",
       "    }\n",
       "\n",
       "    .dataframe thead th {\n",
       "        text-align: right;\n",
       "    }\n",
       "</style>\n",
       "<table border=\"1\" class=\"dataframe\">\n",
       "  <thead>\n",
       "    <tr style=\"text-align: right;\">\n",
       "      <th></th>\n",
       "      <th>event_name</th>\n",
       "      <th>group_id</th>\n",
       "      <th>number_of_users</th>\n",
       "      <th>percentage_from_group</th>\n",
       "    </tr>\n",
       "  </thead>\n",
       "  <tbody>\n",
       "    <tr>\n",
       "      <th>0</th>\n",
       "      <td>MainScreenAppear</td>\n",
       "      <td>249</td>\n",
       "      <td>4929</td>\n",
       "      <td>98.56</td>\n",
       "    </tr>\n",
       "    <tr>\n",
       "      <th>1</th>\n",
       "      <td>OffersScreenAppear</td>\n",
       "      <td>249</td>\n",
       "      <td>3065</td>\n",
       "      <td>61.29</td>\n",
       "    </tr>\n",
       "    <tr>\n",
       "      <th>2</th>\n",
       "      <td>CartScreenAppear</td>\n",
       "      <td>249</td>\n",
       "      <td>2505</td>\n",
       "      <td>50.09</td>\n",
       "    </tr>\n",
       "    <tr>\n",
       "      <th>3</th>\n",
       "      <td>PaymentScreenSuccessful</td>\n",
       "      <td>249</td>\n",
       "      <td>2358</td>\n",
       "      <td>47.15</td>\n",
       "    </tr>\n",
       "    <tr>\n",
       "      <th>4</th>\n",
       "      <td>Tutorial</td>\n",
       "      <td>249</td>\n",
       "      <td>562</td>\n",
       "      <td>11.24</td>\n",
       "    </tr>\n",
       "  </tbody>\n",
       "</table>\n",
       "</div>"
      ],
      "text/plain": [
       "                event_name  group_id  number_of_users  percentage_from_group\n",
       "0         MainScreenAppear       249             4929                  98.56\n",
       "1       OffersScreenAppear       249             3065                  61.29\n",
       "2         CartScreenAppear       249             2505                  50.09\n",
       "3  PaymentScreenSuccessful       249             2358                  47.15\n",
       "4                 Tutorial       249              562                  11.24"
      ]
     },
     "execution_count": 62,
     "metadata": {},
     "output_type": "execute_result"
    }
   ],
   "source": [
    "# now, we will update the `event_users_groups` by adding group 249, \n",
    "# and combining the numbers from 246 and 247.\n",
    "\n",
    "# slice the groups to be combined from `event_users_groups`\n",
    "group246 = event_users_groups.query('group_id == 246')\n",
    "group247 = event_users_groups.query('group_id == 247')\n",
    "\n",
    "# make a copy of the dataframe (because it has the structure we need), \n",
    "# we'll edit the columns in a bit\n",
    "group249 = group246.copy()\n",
    "\n",
    "# edit the group id, change it to 249\n",
    "group249['group_id'] = 249\n",
    "\n",
    "# sum the corresponding values in the `number_of_users` column of groups 246 and 247, \n",
    "# and put the results in that column for group 249\n",
    "group249['number_of_users'] = group246['number_of_users'].add(group247['number_of_users'], \n",
    "                                                              fill_value=group247['number_of_users'])\n",
    "\n",
    "# changing datatype, the above line results in float.\n",
    "group249['number_of_users'] = group249['number_of_users'].astype('int64')\n",
    "\n",
    "# fixing the `percentage_from_group` column values accordingly.\n",
    "group249['percentage_from_group'] =(100 * group249['number_of_users'] / \n",
    "                                    int(users_table.query('group_id == 249')['users'])).round(decimals = 2)\n",
    "\n",
    "# checking the result\n",
    "group249"
   ]
  },
  {
   "cell_type": "code",
   "execution_count": 63,
   "metadata": {},
   "outputs": [],
   "source": [
    "# adding the above table to the `event_users_groups`\n",
    "event_users_groups = pd.concat([event_users_groups, group249])"
   ]
  },
  {
   "cell_type": "code",
   "execution_count": 64,
   "metadata": {},
   "outputs": [
    {
     "data": {
      "text/html": [
       "<div>\n",
       "<style scoped>\n",
       "    .dataframe tbody tr th:only-of-type {\n",
       "        vertical-align: middle;\n",
       "    }\n",
       "\n",
       "    .dataframe tbody tr th {\n",
       "        vertical-align: top;\n",
       "    }\n",
       "\n",
       "    .dataframe thead th {\n",
       "        text-align: right;\n",
       "    }\n",
       "</style>\n",
       "<table border=\"1\" class=\"dataframe\">\n",
       "  <thead>\n",
       "    <tr style=\"text-align: right;\">\n",
       "      <th></th>\n",
       "      <th>event_name</th>\n",
       "      <th>group_id</th>\n",
       "      <th>number_of_users</th>\n",
       "      <th>percentage_from_group</th>\n",
       "    </tr>\n",
       "  </thead>\n",
       "  <tbody>\n",
       "    <tr>\n",
       "      <th>0</th>\n",
       "      <td>MainScreenAppear</td>\n",
       "      <td>246</td>\n",
       "      <td>2450</td>\n",
       "      <td>98.63</td>\n",
       "    </tr>\n",
       "    <tr>\n",
       "      <th>1</th>\n",
       "      <td>OffersScreenAppear</td>\n",
       "      <td>246</td>\n",
       "      <td>1542</td>\n",
       "      <td>62.08</td>\n",
       "    </tr>\n",
       "    <tr>\n",
       "      <th>2</th>\n",
       "      <td>CartScreenAppear</td>\n",
       "      <td>246</td>\n",
       "      <td>1266</td>\n",
       "      <td>50.97</td>\n",
       "    </tr>\n",
       "    <tr>\n",
       "      <th>3</th>\n",
       "      <td>PaymentScreenSuccessful</td>\n",
       "      <td>246</td>\n",
       "      <td>1200</td>\n",
       "      <td>48.31</td>\n",
       "    </tr>\n",
       "    <tr>\n",
       "      <th>4</th>\n",
       "      <td>Tutorial</td>\n",
       "      <td>246</td>\n",
       "      <td>278</td>\n",
       "      <td>11.19</td>\n",
       "    </tr>\n",
       "    <tr>\n",
       "      <th>5</th>\n",
       "      <td>MainScreenAppear</td>\n",
       "      <td>247</td>\n",
       "      <td>2479</td>\n",
       "      <td>98.49</td>\n",
       "    </tr>\n",
       "    <tr>\n",
       "      <th>6</th>\n",
       "      <td>OffersScreenAppear</td>\n",
       "      <td>247</td>\n",
       "      <td>1523</td>\n",
       "      <td>60.51</td>\n",
       "    </tr>\n",
       "    <tr>\n",
       "      <th>7</th>\n",
       "      <td>CartScreenAppear</td>\n",
       "      <td>247</td>\n",
       "      <td>1239</td>\n",
       "      <td>49.23</td>\n",
       "    </tr>\n",
       "    <tr>\n",
       "      <th>8</th>\n",
       "      <td>PaymentScreenSuccessful</td>\n",
       "      <td>247</td>\n",
       "      <td>1158</td>\n",
       "      <td>46.01</td>\n",
       "    </tr>\n",
       "    <tr>\n",
       "      <th>9</th>\n",
       "      <td>Tutorial</td>\n",
       "      <td>247</td>\n",
       "      <td>284</td>\n",
       "      <td>11.28</td>\n",
       "    </tr>\n",
       "    <tr>\n",
       "      <th>10</th>\n",
       "      <td>MainScreenAppear</td>\n",
       "      <td>248</td>\n",
       "      <td>2494</td>\n",
       "      <td>98.31</td>\n",
       "    </tr>\n",
       "    <tr>\n",
       "      <th>11</th>\n",
       "      <td>OffersScreenAppear</td>\n",
       "      <td>248</td>\n",
       "      <td>1531</td>\n",
       "      <td>60.35</td>\n",
       "    </tr>\n",
       "    <tr>\n",
       "      <th>12</th>\n",
       "      <td>CartScreenAppear</td>\n",
       "      <td>248</td>\n",
       "      <td>1231</td>\n",
       "      <td>48.52</td>\n",
       "    </tr>\n",
       "    <tr>\n",
       "      <th>13</th>\n",
       "      <td>PaymentScreenSuccessful</td>\n",
       "      <td>248</td>\n",
       "      <td>1182</td>\n",
       "      <td>46.59</td>\n",
       "    </tr>\n",
       "    <tr>\n",
       "      <th>14</th>\n",
       "      <td>Tutorial</td>\n",
       "      <td>248</td>\n",
       "      <td>281</td>\n",
       "      <td>11.08</td>\n",
       "    </tr>\n",
       "    <tr>\n",
       "      <th>15</th>\n",
       "      <td>MainScreenAppear</td>\n",
       "      <td>249</td>\n",
       "      <td>4929</td>\n",
       "      <td>98.56</td>\n",
       "    </tr>\n",
       "    <tr>\n",
       "      <th>16</th>\n",
       "      <td>OffersScreenAppear</td>\n",
       "      <td>249</td>\n",
       "      <td>3065</td>\n",
       "      <td>61.29</td>\n",
       "    </tr>\n",
       "    <tr>\n",
       "      <th>17</th>\n",
       "      <td>CartScreenAppear</td>\n",
       "      <td>249</td>\n",
       "      <td>2505</td>\n",
       "      <td>50.09</td>\n",
       "    </tr>\n",
       "    <tr>\n",
       "      <th>18</th>\n",
       "      <td>PaymentScreenSuccessful</td>\n",
       "      <td>249</td>\n",
       "      <td>2358</td>\n",
       "      <td>47.15</td>\n",
       "    </tr>\n",
       "    <tr>\n",
       "      <th>19</th>\n",
       "      <td>Tutorial</td>\n",
       "      <td>249</td>\n",
       "      <td>562</td>\n",
       "      <td>11.24</td>\n",
       "    </tr>\n",
       "  </tbody>\n",
       "</table>\n",
       "</div>"
      ],
      "text/plain": [
       "                 event_name  group_id  number_of_users  percentage_from_group\n",
       "0          MainScreenAppear       246             2450                  98.63\n",
       "1        OffersScreenAppear       246             1542                  62.08\n",
       "2          CartScreenAppear       246             1266                  50.97\n",
       "3   PaymentScreenSuccessful       246             1200                  48.31\n",
       "4                  Tutorial       246              278                  11.19\n",
       "5          MainScreenAppear       247             2479                  98.49\n",
       "6        OffersScreenAppear       247             1523                  60.51\n",
       "7          CartScreenAppear       247             1239                  49.23\n",
       "8   PaymentScreenSuccessful       247             1158                  46.01\n",
       "9                  Tutorial       247              284                  11.28\n",
       "10         MainScreenAppear       248             2494                  98.31\n",
       "11       OffersScreenAppear       248             1531                  60.35\n",
       "12         CartScreenAppear       248             1231                  48.52\n",
       "13  PaymentScreenSuccessful       248             1182                  46.59\n",
       "14                 Tutorial       248              281                  11.08\n",
       "15         MainScreenAppear       249             4929                  98.56\n",
       "16       OffersScreenAppear       249             3065                  61.29\n",
       "17         CartScreenAppear       249             2505                  50.09\n",
       "18  PaymentScreenSuccessful       249             2358                  47.15\n",
       "19                 Tutorial       249              562                  11.24"
      ]
     },
     "execution_count": 64,
     "metadata": {},
     "output_type": "execute_result"
    }
   ],
   "source": [
    "# cleaning up a little\n",
    "event_users_groups = event_users_groups.sort_values(by = ['group_id', 'number_of_users'], \n",
    "                                                    ascending = [True, False]).reset_index(drop = True)\n",
    "\n",
    "# checking the result\n",
    "event_users_groups"
   ]
  },
  {
   "cell_type": "markdown",
   "metadata": {},
   "source": [
    "Perfect. Now for the testing:"
   ]
  },
  {
   "cell_type": "code",
   "execution_count": 65,
   "metadata": {
    "scrolled": true
   },
   "outputs": [
    {
     "name": "stdout",
     "output_type": "stream",
     "text": [
      "Compared groups: 249 and 248 . Event in question: MainScreenAppear\n",
      "\n",
      "Total users in group 249 - 5001\n",
      "total of users who performed the event - 4929\n",
      "Proportion in the group: 98.56%\n",
      "\n",
      "Total users in group 248 - 2537\n",
      "total of users who performed the event - 2494\n",
      "Proportion in the group: 98.31%\n",
      "\n",
      "Z-test results:\n",
      "p-value: 0.39299\n",
      "alpha value: 0.05\n",
      "Failed to reject null hypothesis - there is no reason to consider the proportions different\n",
      "-------------------------------------------------------------------------------------------\n",
      "Compared groups: 249 and 248 . Event in question: OffersScreenAppear\n",
      "\n",
      "Total users in group 249 - 5001\n",
      "total of users who performed the event - 3065\n",
      "Proportion in the group: 61.29%\n",
      "\n",
      "Total users in group 248 - 2537\n",
      "total of users who performed the event - 1531\n",
      "Proportion in the group: 60.35%\n",
      "\n",
      "Z-test results:\n",
      "p-value: 0.42877\n",
      "alpha value: 0.05\n",
      "Failed to reject null hypothesis - there is no reason to consider the proportions different\n",
      "-------------------------------------------------------------------------------------------\n",
      "Compared groups: 249 and 248 . Event in question: CartScreenAppear\n",
      "\n",
      "Total users in group 249 - 5001\n",
      "total of users who performed the event - 2505\n",
      "Proportion in the group: 50.09%\n",
      "\n",
      "Total users in group 248 - 2537\n",
      "total of users who performed the event - 1231\n",
      "Proportion in the group: 48.52%\n",
      "\n",
      "Z-test results:\n",
      "p-value: 0.19819\n",
      "alpha value: 0.05\n",
      "Failed to reject null hypothesis - there is no reason to consider the proportions different\n",
      "-------------------------------------------------------------------------------------------\n",
      "Compared groups: 249 and 248 . Event in question: PaymentScreenSuccessful\n",
      "\n",
      "Total users in group 249 - 5001\n",
      "total of users who performed the event - 2358\n",
      "Proportion in the group: 47.15%\n",
      "\n",
      "Total users in group 248 - 2537\n",
      "total of users who performed the event - 1182\n",
      "Proportion in the group: 46.59%\n",
      "\n",
      "Z-test results:\n",
      "p-value: 0.64521\n",
      "alpha value: 0.05\n",
      "Failed to reject null hypothesis - there is no reason to consider the proportions different\n",
      "-------------------------------------------------------------------------------------------\n"
     ]
    }
   ],
   "source": [
    "for event in event_list:\n",
    "    check_zvalue(249, 248, event, 0.05)"
   ]
  },
  {
   "cell_type": "markdown",
   "metadata": {},
   "source": [
    "Surprise, surprise. All null hypotheses failed to reject. Just as expected."
   ]
  },
  {
   "cell_type": "markdown",
   "metadata": {},
   "source": [
    "## Interim Conclusions (2)\n",
    "We have performed no less than 16 Z-tests, compared different combinations of the control groups and the test group, trying to figure out whether changing the font set in the app made any difference in user behaviour. As it turns out, according to our results - **there is simply no significant difference**: The slight differences in proportions of users who performed each action type in the purchase sequence are not statistically signifcant, between all three groups. This result is further validated by the fact we have conducted an A/A test (4 out of the 16 tests were actually a comparison of the two control groups), and since we have found no difference between the control groups, we could say our recruitment/testing methodology is valid. The fact that there is no difference between the control and test groups is not due to some error in the process, but a real result.\n",
    "\n",
    "Now, there are two things we need to consider.\n",
    "\n",
    "1) We have made 16 tests using the same overall population(s). The more test we perform with the same sample(s), the higher the risk of getting a \"false-positive\", or a \"type-I error\", meaning that we might reject a null hypothesis which in fact should NOT be rejected. In general, if we use an alpha value of 0.1 for an individual test, it would mean that statistically 1 out of 10 tests would yield a false result (like the type-I error). In that case, it is common practice to LOWER the alpha value according to the number of tests to be conducted, such as to lower the chance of such falst positives. If there are N tests to be conducted, then our alpha value should be, in this example, 0.1 / N. This is known as the **Bonferroni Correction**. In our case, N = 16, and our alpha was 0.05. This means that in order to lower the risk of false-postivies, our alpha value for tests should be 0.05 / 16, which is 0.003125. Extremely low.\n",
    "\n",
    "**Seeing as all of our Z-tests returned p-values greater than 0.05 anyway** - lowering the alpha value to 0.003125 wouldn't change the results at all - we will still fail to reject all null hypotheses, since the definition of the alpha value does NOT influence the calculation of the p-value. It's just a value to which the latter is compared to. \n",
    "\n",
    "HOWEVER, we did note there was ONE test in which the p-value was greater than 0.05, but lower than 0.1 (groups 246 and 248, test for CartScreenAppear). Had we used alpha = 0.1, The null hypothesis of that test would be rejected. If we applied the Bonferroni Correction, and set the alpha value to 0.1 / 16, which is 0.00625 - we would fail the null hypothesis in question.\n",
    "\n",
    "We will still re-run all of our tests using the lower alpha value, even though we know it is pointless and our conclusion above won't change.\n",
    "\n",
    "2) The above tests consider the **full populations** of each groups. Earlier, we have looked for outliers in the data - users with super-high amount of event logs. We considered every user with 80 event logs (and more) to be an outlier. There aren't too many users with those numbers (roughly 6.5%), and the fact that they have that many actions probably does not affect the test results above by much, since the tests are based on data which only takes into account if a given user has performed each type of action at least ONCE, and not *how many times* they did it. In other words, A user with just 4 events in his logs, one of each type, IS EQUAL to a user with 2000 events, 500 of each type.\n",
    "\n",
    "Nevertheless, To further validate our results, we will create a `logs_filtered` data without the outliers, run the relevant code again, re-test all groups, and see if our results change.\n",
    "\n",
    "Hang on tight, this will take a while."
   ]
  },
  {
   "cell_type": "markdown",
   "metadata": {},
   "source": [
    "First things first, we will now re-run all of the above tests (including the outliers), with the corrected alpha value - 0.05/16:\n",
    "The output is going to be a bit lengthy..."
   ]
  },
  {
   "cell_type": "code",
   "execution_count": 66,
   "metadata": {},
   "outputs": [
    {
     "name": "stdout",
     "output_type": "stream",
     "text": [
      "Compared groups: 246 and 247 . Event in question: MainScreenAppear\n",
      "\n",
      "Total users in group 246 - 2484\n",
      "total of users who performed the event - 2450\n",
      "Proportion in the group: 98.63%\n",
      "\n",
      "Total users in group 247 - 2517\n",
      "total of users who performed the event - 2479\n",
      "Proportion in the group: 98.49%\n",
      "\n",
      "Z-test results:\n",
      "p-value: 0.67562\n",
      "alpha value: 0.003125\n",
      "Failed to reject null hypothesis - there is no reason to consider the proportions different\n",
      "-------------------------------------------------------------------------------------------\n",
      "Compared groups: 246 and 247 . Event in question: OffersScreenAppear\n",
      "\n",
      "Total users in group 246 - 2484\n",
      "total of users who performed the event - 1542\n",
      "Proportion in the group: 62.08%\n",
      "\n",
      "Total users in group 247 - 2517\n",
      "total of users who performed the event - 1523\n",
      "Proportion in the group: 60.51%\n",
      "\n",
      "Z-test results:\n",
      "p-value: 0.25480\n",
      "alpha value: 0.003125\n",
      "Failed to reject null hypothesis - there is no reason to consider the proportions different\n",
      "-------------------------------------------------------------------------------------------\n",
      "Compared groups: 246 and 247 . Event in question: CartScreenAppear\n",
      "\n",
      "Total users in group 246 - 2484\n",
      "total of users who performed the event - 1266\n",
      "Proportion in the group: 50.97%\n",
      "\n",
      "Total users in group 247 - 2517\n",
      "total of users who performed the event - 1239\n",
      "Proportion in the group: 49.23%\n",
      "\n",
      "Z-test results:\n",
      "p-value: 0.21828\n",
      "alpha value: 0.003125\n",
      "Failed to reject null hypothesis - there is no reason to consider the proportions different\n",
      "-------------------------------------------------------------------------------------------\n",
      "Compared groups: 246 and 247 . Event in question: PaymentScreenSuccessful\n",
      "\n",
      "Total users in group 246 - 2484\n",
      "total of users who performed the event - 1200\n",
      "Proportion in the group: 48.31%\n",
      "\n",
      "Total users in group 247 - 2517\n",
      "total of users who performed the event - 1158\n",
      "Proportion in the group: 46.01%\n",
      "\n",
      "Z-test results:\n",
      "p-value: 0.10298\n",
      "alpha value: 0.003125\n",
      "Failed to reject null hypothesis - there is no reason to consider the proportions different\n",
      "-------------------------------------------------------------------------------------------\n",
      "Compared groups: 246 and 248 . Event in question: MainScreenAppear\n",
      "\n",
      "Total users in group 246 - 2484\n",
      "total of users who performed the event - 2450\n",
      "Proportion in the group: 98.63%\n",
      "\n",
      "Total users in group 248 - 2537\n",
      "total of users who performed the event - 2494\n",
      "Proportion in the group: 98.31%\n",
      "\n",
      "Z-test results:\n",
      "p-value: 0.34706\n",
      "alpha value: 0.003125\n",
      "Failed to reject null hypothesis - there is no reason to consider the proportions different\n",
      "-------------------------------------------------------------------------------------------\n",
      "Compared groups: 246 and 248 . Event in question: OffersScreenAppear\n",
      "\n",
      "Total users in group 246 - 2484\n",
      "total of users who performed the event - 1542\n",
      "Proportion in the group: 62.08%\n",
      "\n",
      "Total users in group 248 - 2537\n",
      "total of users who performed the event - 1531\n",
      "Proportion in the group: 60.35%\n",
      "\n",
      "Z-test results:\n",
      "p-value: 0.20836\n",
      "alpha value: 0.003125\n",
      "Failed to reject null hypothesis - there is no reason to consider the proportions different\n",
      "-------------------------------------------------------------------------------------------\n",
      "Compared groups: 246 and 248 . Event in question: CartScreenAppear\n",
      "\n",
      "Total users in group 246 - 2484\n",
      "total of users who performed the event - 1266\n",
      "Proportion in the group: 50.97%\n",
      "\n",
      "Total users in group 248 - 2537\n",
      "total of users who performed the event - 1231\n",
      "Proportion in the group: 48.52%\n",
      "\n",
      "Z-test results:\n",
      "p-value: 0.08328\n",
      "alpha value: 0.003125\n",
      "Failed to reject null hypothesis - there is no reason to consider the proportions different\n",
      "-------------------------------------------------------------------------------------------\n",
      "Compared groups: 246 and 248 . Event in question: PaymentScreenSuccessful\n",
      "\n",
      "Total users in group 246 - 2484\n",
      "total of users who performed the event - 1200\n",
      "Proportion in the group: 48.31%\n",
      "\n",
      "Total users in group 248 - 2537\n",
      "total of users who performed the event - 1182\n",
      "Proportion in the group: 46.59%\n",
      "\n",
      "Z-test results:\n",
      "p-value: 0.22269\n",
      "alpha value: 0.003125\n",
      "Failed to reject null hypothesis - there is no reason to consider the proportions different\n",
      "-------------------------------------------------------------------------------------------\n",
      "Compared groups: 247 and 248 . Event in question: MainScreenAppear\n",
      "\n",
      "Total users in group 247 - 2517\n",
      "total of users who performed the event - 2479\n",
      "Proportion in the group: 98.49%\n",
      "\n",
      "Total users in group 248 - 2537\n",
      "total of users who performed the event - 2494\n",
      "Proportion in the group: 98.31%\n",
      "\n",
      "Z-test results:\n",
      "p-value: 0.60017\n",
      "alpha value: 0.003125\n",
      "Failed to reject null hypothesis - there is no reason to consider the proportions different\n",
      "-------------------------------------------------------------------------------------------\n",
      "Compared groups: 247 and 248 . Event in question: OffersScreenAppear\n",
      "\n",
      "Total users in group 247 - 2517\n",
      "total of users who performed the event - 1523\n",
      "Proportion in the group: 60.51%\n",
      "\n",
      "Total users in group 248 - 2537\n",
      "total of users who performed the event - 1531\n",
      "Proportion in the group: 60.35%\n",
      "\n",
      "Z-test results:\n",
      "p-value: 0.90645\n",
      "alpha value: 0.003125\n",
      "Failed to reject null hypothesis - there is no reason to consider the proportions different\n",
      "-------------------------------------------------------------------------------------------\n",
      "Compared groups: 247 and 248 . Event in question: CartScreenAppear\n",
      "\n",
      "Total users in group 247 - 2517\n",
      "total of users who performed the event - 1239\n",
      "Proportion in the group: 49.23%\n",
      "\n",
      "Total users in group 248 - 2537\n",
      "total of users who performed the event - 1231\n",
      "Proportion in the group: 48.52%\n",
      "\n",
      "Z-test results:\n",
      "p-value: 0.61695\n",
      "alpha value: 0.003125\n",
      "Failed to reject null hypothesis - there is no reason to consider the proportions different\n",
      "-------------------------------------------------------------------------------------------\n",
      "Compared groups: 247 and 248 . Event in question: PaymentScreenSuccessful\n",
      "\n",
      "Total users in group 247 - 2517\n",
      "total of users who performed the event - 1158\n",
      "Proportion in the group: 46.01%\n",
      "\n",
      "Total users in group 248 - 2537\n",
      "total of users who performed the event - 1182\n",
      "Proportion in the group: 46.59%\n",
      "\n",
      "Z-test results:\n",
      "p-value: 0.67754\n",
      "alpha value: 0.003125\n",
      "Failed to reject null hypothesis - there is no reason to consider the proportions different\n",
      "-------------------------------------------------------------------------------------------\n",
      "Compared groups: 249 and 248 . Event in question: MainScreenAppear\n",
      "\n",
      "Total users in group 249 - 5001\n",
      "total of users who performed the event - 4929\n",
      "Proportion in the group: 98.56%\n",
      "\n",
      "Total users in group 248 - 2537\n",
      "total of users who performed the event - 2494\n",
      "Proportion in the group: 98.31%\n",
      "\n",
      "Z-test results:\n",
      "p-value: 0.39299\n",
      "alpha value: 0.003125\n",
      "Failed to reject null hypothesis - there is no reason to consider the proportions different\n",
      "-------------------------------------------------------------------------------------------\n",
      "Compared groups: 249 and 248 . Event in question: OffersScreenAppear\n",
      "\n",
      "Total users in group 249 - 5001\n",
      "total of users who performed the event - 3065\n",
      "Proportion in the group: 61.29%\n",
      "\n",
      "Total users in group 248 - 2537\n",
      "total of users who performed the event - 1531\n",
      "Proportion in the group: 60.35%\n",
      "\n",
      "Z-test results:\n",
      "p-value: 0.42877\n",
      "alpha value: 0.003125\n",
      "Failed to reject null hypothesis - there is no reason to consider the proportions different\n",
      "-------------------------------------------------------------------------------------------\n",
      "Compared groups: 249 and 248 . Event in question: CartScreenAppear\n",
      "\n",
      "Total users in group 249 - 5001\n",
      "total of users who performed the event - 2505\n",
      "Proportion in the group: 50.09%\n",
      "\n",
      "Total users in group 248 - 2537\n",
      "total of users who performed the event - 1231\n",
      "Proportion in the group: 48.52%\n",
      "\n",
      "Z-test results:\n",
      "p-value: 0.19819\n",
      "alpha value: 0.003125\n",
      "Failed to reject null hypothesis - there is no reason to consider the proportions different\n",
      "-------------------------------------------------------------------------------------------\n",
      "Compared groups: 249 and 248 . Event in question: PaymentScreenSuccessful\n",
      "\n",
      "Total users in group 249 - 5001\n",
      "total of users who performed the event - 2358\n",
      "Proportion in the group: 47.15%\n",
      "\n",
      "Total users in group 248 - 2537\n",
      "total of users who performed the event - 1182\n",
      "Proportion in the group: 46.59%\n",
      "\n",
      "Z-test results:\n",
      "p-value: 0.64521\n",
      "alpha value: 0.003125\n",
      "Failed to reject null hypothesis - there is no reason to consider the proportions different\n",
      "-------------------------------------------------------------------------------------------\n"
     ]
    }
   ],
   "source": [
    "for event in event_list:\n",
    "    check_zvalue(246, 247, event, 0.05/16)\n",
    "for event in event_list:\n",
    "    check_zvalue(246, 248, event, 0.05/16)\n",
    "for event in event_list:\n",
    "    check_zvalue(247, 248, event, 0.05/16)\n",
    "for event in event_list:\n",
    "    check_zvalue(249, 248, event, 0.05/16)"
   ]
  },
  {
   "cell_type": "markdown",
   "metadata": {},
   "source": [
    "If anyone is surprised by the above results, raise your hand."
   ]
  },
  {
   "cell_type": "markdown",
   "metadata": {},
   "source": [
    "# Studying the Filtered Data, and Re-running the Tests\n",
    "Next, we are going to create the `logs_filtered` dataframe, which only takes out all users with more than 79 events (meaning, users above the top whisker cap in our earlier boxplots)."
   ]
  },
  {
   "cell_type": "code",
   "execution_count": 67,
   "metadata": {},
   "outputs": [
    {
     "data": {
      "text/plain": [
       "489"
      ]
     },
     "execution_count": 67,
     "metadata": {},
     "output_type": "execute_result"
    }
   ],
   "source": [
    "outlier_users = relevant_user_events.query('number_of_events > 79')['user_id'].to_list()\n",
    "\n",
    "# the amount of users to be removed:\n",
    "len(outlier_users)"
   ]
  },
  {
   "cell_type": "code",
   "execution_count": 68,
   "metadata": {},
   "outputs": [
    {
     "name": "stdout",
     "output_type": "stream",
     "text": [
      "<class 'pandas.core.frame.DataFrame'>\n",
      "RangeIndex: 161007 entries, 0 to 161006\n",
      "Data columns (total 5 columns):\n",
      " #   Column           Non-Null Count   Dtype         \n",
      "---  ------           --------------   -----         \n",
      " 0   event_name       161007 non-null  object        \n",
      " 1   user_id          161007 non-null  int64         \n",
      " 2   event_timestamp  161007 non-null  datetime64[ns]\n",
      " 3   group_id         161007 non-null  int64         \n",
      " 4   event_date       161007 non-null  datetime64[ns]\n",
      "dtypes: datetime64[ns](2), int64(2), object(1)\n",
      "memory usage: 16.3 MB\n"
     ]
    }
   ],
   "source": [
    "# creating the new dataframe and removing the outliers\n",
    "logs_filtered = logs[~logs['user_id'].isin(outlier_users)].reset_index(drop = True)\n",
    "\n",
    "logs_filtered.info(memory_usage = 'deep')"
   ]
  },
  {
   "cell_type": "code",
   "execution_count": 69,
   "metadata": {},
   "outputs": [
    {
     "data": {
      "text/plain": [
       "79"
      ]
     },
     "execution_count": 69,
     "metadata": {},
     "output_type": "execute_result"
    }
   ],
   "source": [
    "# checking that no user has more than 79 events:\n",
    "logs_filtered['user_id'].value_counts().max()"
   ]
  },
  {
   "cell_type": "code",
   "execution_count": 70,
   "metadata": {},
   "outputs": [
    {
     "data": {
      "text/plain": [
       "7049"
      ]
     },
     "execution_count": 70,
     "metadata": {},
     "output_type": "execute_result"
    }
   ],
   "source": [
    "# checking how many users we have, compared to the initial 7538:\n",
    "logs_filtered['user_id'].nunique()"
   ]
  },
  {
   "cell_type": "markdown",
   "metadata": {},
   "source": [
    "Now we will need to repeat some of our earlier code, using `logs_filtered` instead of `logs` until the point we have the relevant tables with the number of users in each group and the amount of users who performed each action. This includes all visualizations (funnels). The code will be applied in the same sequence as above, but we will NOT make any remarks in between each table/visualization as we did above, as the results probably won't differ by much."
   ]
  },
  {
   "cell_type": "code",
   "execution_count": 71,
   "metadata": {},
   "outputs": [
    {
     "data": {
      "text/html": [
       "<div>\n",
       "<style scoped>\n",
       "    .dataframe tbody tr th:only-of-type {\n",
       "        vertical-align: middle;\n",
       "    }\n",
       "\n",
       "    .dataframe tbody tr th {\n",
       "        vertical-align: top;\n",
       "    }\n",
       "\n",
       "    .dataframe thead th {\n",
       "        text-align: right;\n",
       "    }\n",
       "</style>\n",
       "<table border=\"1\" class=\"dataframe\">\n",
       "  <thead>\n",
       "    <tr style=\"text-align: right;\">\n",
       "      <th></th>\n",
       "      <th>event_name</th>\n",
       "      <th>event_occurences</th>\n",
       "    </tr>\n",
       "  </thead>\n",
       "  <tbody>\n",
       "    <tr>\n",
       "      <th>0</th>\n",
       "      <td>MainScreenAppear</td>\n",
       "      <td>94980</td>\n",
       "    </tr>\n",
       "    <tr>\n",
       "      <th>1</th>\n",
       "      <td>OffersScreenAppear</td>\n",
       "      <td>29688</td>\n",
       "    </tr>\n",
       "    <tr>\n",
       "      <th>2</th>\n",
       "      <td>CartScreenAppear</td>\n",
       "      <td>20172</td>\n",
       "    </tr>\n",
       "    <tr>\n",
       "      <th>3</th>\n",
       "      <td>PaymentScreenSuccessful</td>\n",
       "      <td>15254</td>\n",
       "    </tr>\n",
       "    <tr>\n",
       "      <th>4</th>\n",
       "      <td>Tutorial</td>\n",
       "      <td>913</td>\n",
       "    </tr>\n",
       "  </tbody>\n",
       "</table>\n",
       "</div>"
      ],
      "text/plain": [
       "                event_name  event_occurences\n",
       "0         MainScreenAppear             94980\n",
       "1       OffersScreenAppear             29688\n",
       "2         CartScreenAppear             20172\n",
       "3  PaymentScreenSuccessful             15254\n",
       "4                 Tutorial               913"
      ]
     },
     "execution_count": 71,
     "metadata": {},
     "output_type": "execute_result"
    }
   ],
   "source": [
    "event_frequency_filtered = logs_filtered.groupby('event_name').agg(\n",
    "    event_occurences = ('event_timestamp', 'count')\n",
    ").sort_values(by = 'event_occurences', ascending = False).reset_index()\n",
    "\n",
    "event_frequency_filtered"
   ]
  },
  {
   "cell_type": "code",
   "execution_count": null,
   "metadata": {},
   "outputs": [],
   "source": [
    "# visualizing the funnel\n",
    "\n",
    "fig = go.Figure(go.Funnel(\n",
    "    y = event_frequency_filtered['event_name'],\n",
    "    x = event_frequency_filtered['event_occurences'],\n",
    "    textinfo = 'value + percent initial'\n",
    "))\n",
    "\n",
    "fig.update_layout(title = 'General Event Funnel (Number of Occurences), Filtered Data', font=dict(size=16))\n",
    "fig.update_yaxes(title = 'Name of Event')\n",
    "\n",
    "fig.show()"
   ]
  },
  {
   "attachments": {
    "Plot%2010%20%28General%20Event%20Funnel%20(Number%20of%20Occurences%29,%20Filtered%20Data).png": {
     "image/png": "[encoded data removed]"
    }
   },
   "cell_type": "markdown",
   "metadata": {},
   "source": [
    "![Plot%2010%20%28General%20Event%20Funnel%20(Number%20of%20Occurences%29,%20Filtered%20Data).png](attachment:Plot%2010%20%28General%20Event%20Funnel%20(Number%20of%20Occurences%29,%20Filtered%20Data).png)"
   ]
  },
  {
   "cell_type": "code",
   "execution_count": null,
   "metadata": {},
   "outputs": [],
   "source": [
    "# re-making the relevant group table\n",
    "event_frequency_groups_filtered = logs_filtered.groupby(['event_name', 'group_id']).agg(\n",
    "    event_occurences = ('event_timestamp', 'count')\n",
    ").sort_values(by = 'event_occurences', ascending = False).reset_index()\n",
    "\n",
    "# plotting the funnel\n",
    "fig = go.Figure(go.Funnel(\n",
    "    name = 'Group 246',\n",
    "    y=event_frequency_groups_filtered[event_frequency_groups_filtered['group_id']==246]['event_name'],\n",
    "    x=event_frequency_groups_filtered[event_frequency_groups_filtered['group_id']==246]['event_occurences'],\n",
    "    textinfo = \"value + percent initial\"))\n",
    "\n",
    "fig.add_trace(go.Funnel(\n",
    "    name = 'Group 247',\n",
    "    y=event_frequency_groups_filtered[event_frequency_groups_filtered['group_id']==247]['event_name'],\n",
    "    x=event_frequency_groups_filtered[event_frequency_groups_filtered['group_id']==247]['event_occurences'],\n",
    "    textinfo = \"value + percent initial\"))\n",
    "\n",
    "fig.add_trace(go.Funnel(\n",
    "    name = 'Group 248',\n",
    "    y=event_frequency_groups_filtered[event_frequency_groups_filtered['group_id']==248]['event_name'],\n",
    "    x=event_frequency_groups_filtered[event_frequency_groups_filtered['group_id']==248]['event_occurences'],\n",
    "    textinfo = \"value + percent initial\"))\n",
    "\n",
    "fig.update_layout(title = 'Event Funnel by Groups (Number of Occurences), Filtered Data')\n",
    "fig.update_yaxes(title = 'Name of Event')\n",
    "\n",
    "fig.show()"
   ]
  },
  {
   "attachments": {
    "Plot%2011%20%28Event%20Funnel%20by%20Groups%20(Number%20of%20Occurences%29,%20Filtered%20Data).png": {
     "image/png": "[encoded data removed]"
    }
   },
   "cell_type": "markdown",
   "metadata": {},
   "source": [
    "![Plot%2011%20%28Event%20Funnel%20by%20Groups%20(Number%20of%20Occurences%29,%20Filtered%20Data).png](attachment:Plot%2011%20%28Event%20Funnel%20by%20Groups%20(Number%20of%20Occurences%29,%20Filtered%20Data).png)"
   ]
  },
  {
   "cell_type": "code",
   "execution_count": 74,
   "metadata": {},
   "outputs": [
    {
     "data": {
      "text/html": [
       "<div>\n",
       "<style scoped>\n",
       "    .dataframe tbody tr th:only-of-type {\n",
       "        vertical-align: middle;\n",
       "    }\n",
       "\n",
       "    .dataframe tbody tr th {\n",
       "        vertical-align: top;\n",
       "    }\n",
       "\n",
       "    .dataframe thead th {\n",
       "        text-align: right;\n",
       "    }\n",
       "</style>\n",
       "<table border=\"1\" class=\"dataframe\">\n",
       "  <thead>\n",
       "    <tr style=\"text-align: right;\">\n",
       "      <th></th>\n",
       "      <th>event_name</th>\n",
       "      <th>number_of_users</th>\n",
       "      <th>percentage_from_total</th>\n",
       "    </tr>\n",
       "  </thead>\n",
       "  <tbody>\n",
       "    <tr>\n",
       "      <th>0</th>\n",
       "      <td>MainScreenAppear</td>\n",
       "      <td>6939</td>\n",
       "      <td>98.44</td>\n",
       "    </tr>\n",
       "    <tr>\n",
       "      <th>1</th>\n",
       "      <td>OffersScreenAppear</td>\n",
       "      <td>4128</td>\n",
       "      <td>58.56</td>\n",
       "    </tr>\n",
       "    <tr>\n",
       "      <th>2</th>\n",
       "      <td>CartScreenAppear</td>\n",
       "      <td>3283</td>\n",
       "      <td>46.57</td>\n",
       "    </tr>\n",
       "    <tr>\n",
       "      <th>3</th>\n",
       "      <td>PaymentScreenSuccessful</td>\n",
       "      <td>3095</td>\n",
       "      <td>43.91</td>\n",
       "    </tr>\n",
       "    <tr>\n",
       "      <th>4</th>\n",
       "      <td>Tutorial</td>\n",
       "      <td>761</td>\n",
       "      <td>10.80</td>\n",
       "    </tr>\n",
       "  </tbody>\n",
       "</table>\n",
       "</div>"
      ],
      "text/plain": [
       "                event_name  number_of_users  percentage_from_total\n",
       "0         MainScreenAppear             6939                  98.44\n",
       "1       OffersScreenAppear             4128                  58.56\n",
       "2         CartScreenAppear             3283                  46.57\n",
       "3  PaymentScreenSuccessful             3095                  43.91\n",
       "4                 Tutorial              761                  10.80"
      ]
     },
     "execution_count": 74,
     "metadata": {},
     "output_type": "execute_result"
    }
   ],
   "source": [
    "# re-making the funnel of actions for the filtered data.\n",
    "event_users_filtered = logs_filtered.groupby('event_name').agg(\n",
    "    number_of_users = ('user_id', 'nunique')\n",
    ").sort_values(by = 'number_of_users', ascending = False).reset_index()\n",
    "\n",
    "# adding another column, showing the percentage of the number of users who performed each action, \n",
    "# from the *total* amount of users.\n",
    "event_users_filtered['percentage_from_total'] = (\n",
    "    100 * (event_users_filtered['number_of_users'] /\n",
    "           logs_filtered['user_id'].nunique())).round(decimals = 2)\n",
    "\n",
    "event_users_filtered"
   ]
  },
  {
   "cell_type": "code",
   "execution_count": null,
   "metadata": {},
   "outputs": [],
   "source": [
    "# visualizing the funnel(s)\n",
    "# number of users funnel\n",
    "fig = go.Figure(go.Funnel(\n",
    "    y = event_users_filtered['event_name'],\n",
    "    x = event_users_filtered['number_of_users'],\n",
    "    textinfo = 'value + percent initial + percent previous'\n",
    "))\n",
    "\n",
    "fig.update_layout(title = 'General Event Funnel (Number of Users per Action), Filtered Data', \n",
    "                  font=dict(size=16))\n",
    "fig.update_yaxes(title = 'Name of Event')\n",
    "\n",
    "fig.show()\n",
    "\n",
    "# percentage of users funnel\n",
    "fig = go.Figure(go.Funnel(\n",
    "    y = event_users_filtered['event_name'],\n",
    "    x = event_users_filtered['percentage_from_total'],\n",
    "))\n",
    "\n",
    "fig.update_layout(title = 'General Event Funnel (% of Users From Total), Filtered Data', \n",
    "                  font=dict(size=16))\n",
    "fig.update_yaxes(title = 'Name of Event')\n",
    "\n",
    "fig.show()"
   ]
  },
  {
   "attachments": {
    "Plot%2012%20%28General%20Event%20Funnel%20(Number%20of%20Users%20per%20Action%29,%20Filtered%20Data).png": {
     "image/png": "[encoded data removed]"
    }
   },
   "cell_type": "markdown",
   "metadata": {},
   "source": [
    "![Plot%2012%20%28General%20Event%20Funnel%20(Number%20of%20Users%20per%20Action%29,%20Filtered%20Data).png](attachment:Plot%2012%20%28General%20Event%20Funnel%20(Number%20of%20Users%20per%20Action%29,%20Filtered%20Data).png)"
   ]
  },
  {
   "attachments": {
    "Plot%2013%20%28General%20Event%20Funnel%20(%25%20of%20Users%20From%20Total%29,%20Filtered%20Data).png": {
     "image/png": "[encoded data removed]"
    }
   },
   "cell_type": "markdown",
   "metadata": {},
   "source": [
    "![Plot%2013%20%28General%20Event%20Funnel%20(%25%20of%20Users%20From%20Total%29,%20Filtered%20Data).png](attachment:Plot%2013%20%28General%20Event%20Funnel%20(%25%20of%20Users%20From%20Total%29,%20Filtered%20Data).png)"
   ]
  },
  {
   "cell_type": "code",
   "execution_count": 76,
   "metadata": {},
   "outputs": [
    {
     "data": {
      "text/html": [
       "<div>\n",
       "<style scoped>\n",
       "    .dataframe tbody tr th:only-of-type {\n",
       "        vertical-align: middle;\n",
       "    }\n",
       "\n",
       "    .dataframe tbody tr th {\n",
       "        vertical-align: top;\n",
       "    }\n",
       "\n",
       "    .dataframe thead th {\n",
       "        text-align: right;\n",
       "    }\n",
       "</style>\n",
       "<table border=\"1\" class=\"dataframe\">\n",
       "  <thead>\n",
       "    <tr style=\"text-align: right;\">\n",
       "      <th></th>\n",
       "      <th>event_name</th>\n",
       "      <th>group_id</th>\n",
       "      <th>number_of_users</th>\n",
       "      <th>percentage_from_group</th>\n",
       "    </tr>\n",
       "  </thead>\n",
       "  <tbody>\n",
       "    <tr>\n",
       "      <th>0</th>\n",
       "      <td>MainScreenAppear</td>\n",
       "      <td>246</td>\n",
       "      <td>2296</td>\n",
       "      <td>98.58</td>\n",
       "    </tr>\n",
       "    <tr>\n",
       "      <th>1</th>\n",
       "      <td>OffersScreenAppear</td>\n",
       "      <td>246</td>\n",
       "      <td>1392</td>\n",
       "      <td>59.77</td>\n",
       "    </tr>\n",
       "    <tr>\n",
       "      <th>2</th>\n",
       "      <td>CartScreenAppear</td>\n",
       "      <td>246</td>\n",
       "      <td>1120</td>\n",
       "      <td>48.09</td>\n",
       "    </tr>\n",
       "    <tr>\n",
       "      <th>3</th>\n",
       "      <td>PaymentScreenSuccessful</td>\n",
       "      <td>246</td>\n",
       "      <td>1056</td>\n",
       "      <td>45.34</td>\n",
       "    </tr>\n",
       "    <tr>\n",
       "      <th>4</th>\n",
       "      <td>Tutorial</td>\n",
       "      <td>246</td>\n",
       "      <td>248</td>\n",
       "      <td>10.65</td>\n",
       "    </tr>\n",
       "    <tr>\n",
       "      <th>5</th>\n",
       "      <td>MainScreenAppear</td>\n",
       "      <td>247</td>\n",
       "      <td>2319</td>\n",
       "      <td>98.51</td>\n",
       "    </tr>\n",
       "    <tr>\n",
       "      <th>6</th>\n",
       "      <td>OffersScreenAppear</td>\n",
       "      <td>247</td>\n",
       "      <td>1367</td>\n",
       "      <td>58.07</td>\n",
       "    </tr>\n",
       "    <tr>\n",
       "      <th>7</th>\n",
       "      <td>CartScreenAppear</td>\n",
       "      <td>247</td>\n",
       "      <td>1090</td>\n",
       "      <td>46.30</td>\n",
       "    </tr>\n",
       "    <tr>\n",
       "      <th>8</th>\n",
       "      <td>PaymentScreenSuccessful</td>\n",
       "      <td>247</td>\n",
       "      <td>1012</td>\n",
       "      <td>42.99</td>\n",
       "    </tr>\n",
       "    <tr>\n",
       "      <th>9</th>\n",
       "      <td>Tutorial</td>\n",
       "      <td>247</td>\n",
       "      <td>261</td>\n",
       "      <td>11.09</td>\n",
       "    </tr>\n",
       "    <tr>\n",
       "      <th>10</th>\n",
       "      <td>MainScreenAppear</td>\n",
       "      <td>248</td>\n",
       "      <td>2324</td>\n",
       "      <td>98.22</td>\n",
       "    </tr>\n",
       "    <tr>\n",
       "      <th>11</th>\n",
       "      <td>OffersScreenAppear</td>\n",
       "      <td>248</td>\n",
       "      <td>1369</td>\n",
       "      <td>57.86</td>\n",
       "    </tr>\n",
       "    <tr>\n",
       "      <th>12</th>\n",
       "      <td>CartScreenAppear</td>\n",
       "      <td>248</td>\n",
       "      <td>1073</td>\n",
       "      <td>45.35</td>\n",
       "    </tr>\n",
       "    <tr>\n",
       "      <th>13</th>\n",
       "      <td>PaymentScreenSuccessful</td>\n",
       "      <td>248</td>\n",
       "      <td>1027</td>\n",
       "      <td>43.41</td>\n",
       "    </tr>\n",
       "    <tr>\n",
       "      <th>14</th>\n",
       "      <td>Tutorial</td>\n",
       "      <td>248</td>\n",
       "      <td>252</td>\n",
       "      <td>10.65</td>\n",
       "    </tr>\n",
       "  </tbody>\n",
       "</table>\n",
       "</div>"
      ],
      "text/plain": [
       "                 event_name  group_id  number_of_users  percentage_from_group\n",
       "0          MainScreenAppear       246             2296                  98.58\n",
       "1        OffersScreenAppear       246             1392                  59.77\n",
       "2          CartScreenAppear       246             1120                  48.09\n",
       "3   PaymentScreenSuccessful       246             1056                  45.34\n",
       "4                  Tutorial       246              248                  10.65\n",
       "5          MainScreenAppear       247             2319                  98.51\n",
       "6        OffersScreenAppear       247             1367                  58.07\n",
       "7          CartScreenAppear       247             1090                  46.30\n",
       "8   PaymentScreenSuccessful       247             1012                  42.99\n",
       "9                  Tutorial       247              261                  11.09\n",
       "10         MainScreenAppear       248             2324                  98.22\n",
       "11       OffersScreenAppear       248             1369                  57.86\n",
       "12         CartScreenAppear       248             1073                  45.35\n",
       "13  PaymentScreenSuccessful       248             1027                  43.41\n",
       "14                 Tutorial       248              252                  10.65"
      ]
     },
     "execution_count": 76,
     "metadata": {},
     "output_type": "execute_result"
    }
   ],
   "source": [
    "# re-making the group funnels, with the filtered data. This is the table we will use for the testing.\n",
    "event_users_groups_filtered = logs_filtered.groupby(['event_name', 'group_id']).agg(\n",
    "    number_of_users = ('user_id', 'nunique')\n",
    ").sort_values(by = ['group_id', 'number_of_users'], ascending = [True, False]).reset_index()\n",
    "\n",
    "# adding another column, showing the percentage of the number of users who performed each action, \n",
    "# from the *total* amount of users in each group.\n",
    "# we'll have to define a dictionary for each group's total number of users, first.\n",
    "group_dict = {246: logs_filtered.query('group_id == 246')['user_id'].nunique(),\n",
    "              247: logs_filtered.query('group_id == 247')['user_id'].nunique(),\n",
    "              248: logs_filtered.query('group_id == 248')['user_id'].nunique()}\n",
    "\n",
    "event_users_groups_filtered['percentage_from_group'] = ( \n",
    "    100 * (event_users_groups_filtered['number_of_users'] /\n",
    "           event_users_groups_filtered['group_id'].map(group_dict))).round(decimals = 2)\n",
    "\n",
    "event_users_groups_filtered"
   ]
  },
  {
   "cell_type": "code",
   "execution_count": null,
   "metadata": {},
   "outputs": [],
   "source": [
    "# plotting the funnels for the filtered data.\n",
    "# number of users per action funnel\n",
    "fig = go.Figure(go.Funnel(\n",
    "    name = 'Group 246',\n",
    "    y = event_users_groups_filtered[event_users_groups_filtered['group_id']==246]['event_name'],\n",
    "    x = event_users_groups_filtered[event_users_groups_filtered['group_id']==246]['number_of_users'],\n",
    "    textinfo = 'value + percent initial + percent previous'))\n",
    "\n",
    "fig.add_trace(go.Funnel(\n",
    "    name = 'Group 247',\n",
    "    y = event_users_groups_filtered[event_users_groups_filtered['group_id']==247]['event_name'],\n",
    "    x = event_users_groups_filtered[event_users_groups_filtered['group_id']==247]['number_of_users'],\n",
    "    textinfo = 'value + percent initial + percent previous'))\n",
    "\n",
    "fig.add_trace(go.Funnel(\n",
    "    name = 'Group 248',\n",
    "    y = event_users_groups_filtered[event_users_groups_filtered['group_id']==248]['event_name'],\n",
    "    x = event_users_groups_filtered[event_users_groups_filtered['group_id']==248]['number_of_users'],\n",
    "    textinfo = 'value + percent initial + percent previous'))\n",
    "\n",
    "fig.update_layout(title = 'Group Event Funnel (Number of Users per Action, Filtered Data)')\n",
    "fig.update_yaxes(title = 'Name of Event')\n",
    "\n",
    "fig.show()\n",
    "\n",
    "# percentage of group users funnel\n",
    "fig = go.Figure(go.Funnel(\n",
    "    name = 'Group 246',\n",
    "    y = event_users_groups_filtered[event_users_groups_filtered['group_id']==246]['event_name'],\n",
    "    x = event_users_groups_filtered[event_users_groups_filtered['group_id']==246]['percentage_from_group'],\n",
    "))\n",
    "\n",
    "fig.add_trace(go.Funnel(\n",
    "    name = 'Group 247',\n",
    "    y = event_users_groups_filtered[event_users_groups_filtered['group_id']==247]['event_name'],\n",
    "    x = event_users_groups_filtered[event_users_groups_filtered['group_id']==247]['percentage_from_group'],\n",
    "))\n",
    "\n",
    "fig.add_trace(go.Funnel(\n",
    "    name = 'Group 248',\n",
    "    y = event_users_groups_filtered[event_users_groups_filtered['group_id']==248]['event_name'],\n",
    "    x = event_users_groups_filtered[event_users_groups_filtered['group_id']==248]['percentage_from_group'],\n",
    "))\n",
    "\n",
    "fig.update_layout(title = 'Group Event Funnel (% of Users From Group), Filtered Data')\n",
    "fig.update_yaxes(title = 'Name of Event')\n",
    "\n",
    "fig.show()"
   ]
  },
  {
   "attachments": {
    "Plot%2014%20%28Group%20Event%20Funnel%20(Number%20of%20Users%20per%20Action,%20Filtered%20Data%29).png": {
     "image/png": "[encoded data removed]"
    }
   },
   "cell_type": "markdown",
   "metadata": {},
   "source": [
    "![Plot%2014%20%28Group%20Event%20Funnel%20(Number%20of%20Users%20per%20Action,%20Filtered%20Data%29).png](attachment:Plot%2014%20%28Group%20Event%20Funnel%20(Number%20of%20Users%20per%20Action,%20Filtered%20Data%29).png)"
   ]
  },
  {
   "attachments": {
    "Plot%2015%20%28Group%20Event%20Funnel%20(%25%20of%20Users%20From%20Group%29,%20Filtered%20Data).png": {
     "image/png": "[encoded data removed]"
    }
   },
   "cell_type": "markdown",
   "metadata": {},
   "source": [
    "![Plot%2015%20%28Group%20Event%20Funnel%20(%25%20of%20Users%20From%20Group%29,%20Filtered%20Data).png](attachment:Plot%2015%20%28Group%20Event%20Funnel%20(%25%20of%20Users%20From%20Group%29,%20Filtered%20Data).png)"
   ]
  },
  {
   "cell_type": "code",
   "execution_count": 78,
   "metadata": {},
   "outputs": [
    {
     "data": {
      "text/html": [
       "<div>\n",
       "<style scoped>\n",
       "    .dataframe tbody tr th:only-of-type {\n",
       "        vertical-align: middle;\n",
       "    }\n",
       "\n",
       "    .dataframe tbody tr th {\n",
       "        vertical-align: top;\n",
       "    }\n",
       "\n",
       "    .dataframe thead th {\n",
       "        text-align: right;\n",
       "    }\n",
       "</style>\n",
       "<table border=\"1\" class=\"dataframe\">\n",
       "  <thead>\n",
       "    <tr style=\"text-align: right;\">\n",
       "      <th></th>\n",
       "      <th>group_id</th>\n",
       "      <th>users</th>\n",
       "    </tr>\n",
       "  </thead>\n",
       "  <tbody>\n",
       "    <tr>\n",
       "      <th>0</th>\n",
       "      <td>246</td>\n",
       "      <td>2329</td>\n",
       "    </tr>\n",
       "    <tr>\n",
       "      <th>1</th>\n",
       "      <td>247</td>\n",
       "      <td>2354</td>\n",
       "    </tr>\n",
       "    <tr>\n",
       "      <th>2</th>\n",
       "      <td>248</td>\n",
       "      <td>2366</td>\n",
       "    </tr>\n",
       "    <tr>\n",
       "      <th>3</th>\n",
       "      <td>249</td>\n",
       "      <td>4683</td>\n",
       "    </tr>\n",
       "  </tbody>\n",
       "</table>\n",
       "</div>"
      ],
      "text/plain": [
       "   group_id  users\n",
       "0       246   2329\n",
       "1       247   2354\n",
       "2       248   2366\n",
       "3       249   4683"
      ]
     },
     "execution_count": 78,
     "metadata": {},
     "output_type": "execute_result"
    }
   ],
   "source": [
    "users_filtered = {'group_id': [246, 247, 248], \n",
    "                  'users': [logs_filtered.query('group_id == 246')['user_id'].nunique(), \n",
    "                            logs_filtered.query('group_id == 247')['user_id'].nunique(), \n",
    "                            logs_filtered.query('group_id == 248')['user_id'].nunique()]}\n",
    "users_table_filtered = pd.DataFrame(data=users_filtered)\n",
    "\n",
    "# recalculating group 249\n",
    "group249_users_filtered = (int(users_table_filtered.query('group_id == 246')['users']) + \n",
    "                           int(users_table_filtered.query('group_id == 247')['users']))\n",
    "group249_row_filtered = pd.DataFrame(data = {'group_id': [249], 'users': [group249_users_filtered]})\n",
    "\n",
    "users_table_filtered = pd.concat([users_table_filtered, group249_row_filtered]).reset_index(drop = True)\n",
    "\n",
    "users_table_filtered"
   ]
  },
  {
   "cell_type": "code",
   "execution_count": 79,
   "metadata": {},
   "outputs": [
    {
     "data": {
      "text/html": [
       "<div>\n",
       "<style scoped>\n",
       "    .dataframe tbody tr th:only-of-type {\n",
       "        vertical-align: middle;\n",
       "    }\n",
       "\n",
       "    .dataframe tbody tr th {\n",
       "        vertical-align: top;\n",
       "    }\n",
       "\n",
       "    .dataframe thead th {\n",
       "        text-align: right;\n",
       "    }\n",
       "</style>\n",
       "<table border=\"1\" class=\"dataframe\">\n",
       "  <thead>\n",
       "    <tr style=\"text-align: right;\">\n",
       "      <th></th>\n",
       "      <th>event_name</th>\n",
       "      <th>group_id</th>\n",
       "      <th>number_of_users</th>\n",
       "      <th>percentage_from_group</th>\n",
       "    </tr>\n",
       "  </thead>\n",
       "  <tbody>\n",
       "    <tr>\n",
       "      <th>0</th>\n",
       "      <td>MainScreenAppear</td>\n",
       "      <td>249</td>\n",
       "      <td>4615</td>\n",
       "      <td>98.55</td>\n",
       "    </tr>\n",
       "    <tr>\n",
       "      <th>1</th>\n",
       "      <td>OffersScreenAppear</td>\n",
       "      <td>249</td>\n",
       "      <td>2759</td>\n",
       "      <td>58.92</td>\n",
       "    </tr>\n",
       "    <tr>\n",
       "      <th>2</th>\n",
       "      <td>CartScreenAppear</td>\n",
       "      <td>249</td>\n",
       "      <td>2210</td>\n",
       "      <td>47.19</td>\n",
       "    </tr>\n",
       "    <tr>\n",
       "      <th>3</th>\n",
       "      <td>PaymentScreenSuccessful</td>\n",
       "      <td>249</td>\n",
       "      <td>2068</td>\n",
       "      <td>44.16</td>\n",
       "    </tr>\n",
       "    <tr>\n",
       "      <th>4</th>\n",
       "      <td>Tutorial</td>\n",
       "      <td>249</td>\n",
       "      <td>509</td>\n",
       "      <td>10.87</td>\n",
       "    </tr>\n",
       "  </tbody>\n",
       "</table>\n",
       "</div>"
      ],
      "text/plain": [
       "                event_name  group_id  number_of_users  percentage_from_group\n",
       "0         MainScreenAppear       249             4615                  98.55\n",
       "1       OffersScreenAppear       249             2759                  58.92\n",
       "2         CartScreenAppear       249             2210                  47.19\n",
       "3  PaymentScreenSuccessful       249             2068                  44.16\n",
       "4                 Tutorial       249              509                  10.87"
      ]
     },
     "execution_count": 79,
     "metadata": {},
     "output_type": "execute_result"
    }
   ],
   "source": [
    "# updating the `event_users_groups_filtered` table with group 249.\n",
    "\n",
    "# slice the groups to be combined from `event_users_groups_filtered`\n",
    "group246_filtered = event_users_groups_filtered.query('group_id == 246')\n",
    "group247_filtered = event_users_groups_filtered.query('group_id == 247')\n",
    "\n",
    "# make a copy of the dataframe (because it has the structure we need), we'll edit the columns in a bit\n",
    "group249_filtered = group246_filtered.copy()\n",
    "\n",
    "# edit the group id, change it to 249\n",
    "group249_filtered['group_id'] = 249\n",
    "\n",
    "# sum the corresponding values in the `number_of_users` column of groups 246 and 247, \n",
    "# and put the results in that column for group 249\n",
    "group249_filtered['number_of_users'] = group246_filtered['number_of_users'].add(\n",
    "    group247_filtered['number_of_users'], fill_value = group247_filtered['number_of_users'])\n",
    "\n",
    "# changing datatype, the above line results in float.\n",
    "group249_filtered['number_of_users'] = group249_filtered['number_of_users'].astype('int64')\n",
    "\n",
    "# fixing the `percentage_from_group` column values accordingly.\n",
    "group249_filtered['percentage_from_group'] = (\n",
    "    100 * group249_filtered['number_of_users'] / \n",
    "    int(users_table_filtered.query('group_id == 249')['users'])).round(decimals = 2)\n",
    "\n",
    "# checking the result\n",
    "group249_filtered"
   ]
  },
  {
   "cell_type": "code",
   "execution_count": 80,
   "metadata": {},
   "outputs": [],
   "source": [
    "# adding the above table to the `event_users_groups_filtered`\n",
    "event_users_groups_filtered = pd.concat([event_users_groups_filtered, group249_filtered])"
   ]
  },
  {
   "cell_type": "code",
   "execution_count": 81,
   "metadata": {},
   "outputs": [
    {
     "data": {
      "text/html": [
       "<div>\n",
       "<style scoped>\n",
       "    .dataframe tbody tr th:only-of-type {\n",
       "        vertical-align: middle;\n",
       "    }\n",
       "\n",
       "    .dataframe tbody tr th {\n",
       "        vertical-align: top;\n",
       "    }\n",
       "\n",
       "    .dataframe thead th {\n",
       "        text-align: right;\n",
       "    }\n",
       "</style>\n",
       "<table border=\"1\" class=\"dataframe\">\n",
       "  <thead>\n",
       "    <tr style=\"text-align: right;\">\n",
       "      <th></th>\n",
       "      <th>event_name</th>\n",
       "      <th>group_id</th>\n",
       "      <th>number_of_users</th>\n",
       "      <th>percentage_from_group</th>\n",
       "    </tr>\n",
       "  </thead>\n",
       "  <tbody>\n",
       "    <tr>\n",
       "      <th>0</th>\n",
       "      <td>MainScreenAppear</td>\n",
       "      <td>246</td>\n",
       "      <td>2296</td>\n",
       "      <td>98.58</td>\n",
       "    </tr>\n",
       "    <tr>\n",
       "      <th>1</th>\n",
       "      <td>OffersScreenAppear</td>\n",
       "      <td>246</td>\n",
       "      <td>1392</td>\n",
       "      <td>59.77</td>\n",
       "    </tr>\n",
       "    <tr>\n",
       "      <th>2</th>\n",
       "      <td>CartScreenAppear</td>\n",
       "      <td>246</td>\n",
       "      <td>1120</td>\n",
       "      <td>48.09</td>\n",
       "    </tr>\n",
       "    <tr>\n",
       "      <th>3</th>\n",
       "      <td>PaymentScreenSuccessful</td>\n",
       "      <td>246</td>\n",
       "      <td>1056</td>\n",
       "      <td>45.34</td>\n",
       "    </tr>\n",
       "    <tr>\n",
       "      <th>4</th>\n",
       "      <td>Tutorial</td>\n",
       "      <td>246</td>\n",
       "      <td>248</td>\n",
       "      <td>10.65</td>\n",
       "    </tr>\n",
       "    <tr>\n",
       "      <th>5</th>\n",
       "      <td>MainScreenAppear</td>\n",
       "      <td>247</td>\n",
       "      <td>2319</td>\n",
       "      <td>98.51</td>\n",
       "    </tr>\n",
       "    <tr>\n",
       "      <th>6</th>\n",
       "      <td>OffersScreenAppear</td>\n",
       "      <td>247</td>\n",
       "      <td>1367</td>\n",
       "      <td>58.07</td>\n",
       "    </tr>\n",
       "    <tr>\n",
       "      <th>7</th>\n",
       "      <td>CartScreenAppear</td>\n",
       "      <td>247</td>\n",
       "      <td>1090</td>\n",
       "      <td>46.30</td>\n",
       "    </tr>\n",
       "    <tr>\n",
       "      <th>8</th>\n",
       "      <td>PaymentScreenSuccessful</td>\n",
       "      <td>247</td>\n",
       "      <td>1012</td>\n",
       "      <td>42.99</td>\n",
       "    </tr>\n",
       "    <tr>\n",
       "      <th>9</th>\n",
       "      <td>Tutorial</td>\n",
       "      <td>247</td>\n",
       "      <td>261</td>\n",
       "      <td>11.09</td>\n",
       "    </tr>\n",
       "    <tr>\n",
       "      <th>10</th>\n",
       "      <td>MainScreenAppear</td>\n",
       "      <td>248</td>\n",
       "      <td>2324</td>\n",
       "      <td>98.22</td>\n",
       "    </tr>\n",
       "    <tr>\n",
       "      <th>11</th>\n",
       "      <td>OffersScreenAppear</td>\n",
       "      <td>248</td>\n",
       "      <td>1369</td>\n",
       "      <td>57.86</td>\n",
       "    </tr>\n",
       "    <tr>\n",
       "      <th>12</th>\n",
       "      <td>CartScreenAppear</td>\n",
       "      <td>248</td>\n",
       "      <td>1073</td>\n",
       "      <td>45.35</td>\n",
       "    </tr>\n",
       "    <tr>\n",
       "      <th>13</th>\n",
       "      <td>PaymentScreenSuccessful</td>\n",
       "      <td>248</td>\n",
       "      <td>1027</td>\n",
       "      <td>43.41</td>\n",
       "    </tr>\n",
       "    <tr>\n",
       "      <th>14</th>\n",
       "      <td>Tutorial</td>\n",
       "      <td>248</td>\n",
       "      <td>252</td>\n",
       "      <td>10.65</td>\n",
       "    </tr>\n",
       "    <tr>\n",
       "      <th>15</th>\n",
       "      <td>MainScreenAppear</td>\n",
       "      <td>249</td>\n",
       "      <td>4615</td>\n",
       "      <td>98.55</td>\n",
       "    </tr>\n",
       "    <tr>\n",
       "      <th>16</th>\n",
       "      <td>OffersScreenAppear</td>\n",
       "      <td>249</td>\n",
       "      <td>2759</td>\n",
       "      <td>58.92</td>\n",
       "    </tr>\n",
       "    <tr>\n",
       "      <th>17</th>\n",
       "      <td>CartScreenAppear</td>\n",
       "      <td>249</td>\n",
       "      <td>2210</td>\n",
       "      <td>47.19</td>\n",
       "    </tr>\n",
       "    <tr>\n",
       "      <th>18</th>\n",
       "      <td>PaymentScreenSuccessful</td>\n",
       "      <td>249</td>\n",
       "      <td>2068</td>\n",
       "      <td>44.16</td>\n",
       "    </tr>\n",
       "    <tr>\n",
       "      <th>19</th>\n",
       "      <td>Tutorial</td>\n",
       "      <td>249</td>\n",
       "      <td>509</td>\n",
       "      <td>10.87</td>\n",
       "    </tr>\n",
       "  </tbody>\n",
       "</table>\n",
       "</div>"
      ],
      "text/plain": [
       "                 event_name  group_id  number_of_users  percentage_from_group\n",
       "0          MainScreenAppear       246             2296                  98.58\n",
       "1        OffersScreenAppear       246             1392                  59.77\n",
       "2          CartScreenAppear       246             1120                  48.09\n",
       "3   PaymentScreenSuccessful       246             1056                  45.34\n",
       "4                  Tutorial       246              248                  10.65\n",
       "5          MainScreenAppear       247             2319                  98.51\n",
       "6        OffersScreenAppear       247             1367                  58.07\n",
       "7          CartScreenAppear       247             1090                  46.30\n",
       "8   PaymentScreenSuccessful       247             1012                  42.99\n",
       "9                  Tutorial       247              261                  11.09\n",
       "10         MainScreenAppear       248             2324                  98.22\n",
       "11       OffersScreenAppear       248             1369                  57.86\n",
       "12         CartScreenAppear       248             1073                  45.35\n",
       "13  PaymentScreenSuccessful       248             1027                  43.41\n",
       "14                 Tutorial       248              252                  10.65\n",
       "15         MainScreenAppear       249             4615                  98.55\n",
       "16       OffersScreenAppear       249             2759                  58.92\n",
       "17         CartScreenAppear       249             2210                  47.19\n",
       "18  PaymentScreenSuccessful       249             2068                  44.16\n",
       "19                 Tutorial       249              509                  10.87"
      ]
     },
     "execution_count": 81,
     "metadata": {},
     "output_type": "execute_result"
    }
   ],
   "source": [
    "# cleaning up a little\n",
    "event_users_groups_filtered = event_users_groups_filtered.sort_values(\n",
    "    by = ['group_id', 'number_of_users'], ascending = [True, False]).reset_index(drop = True)\n",
    "\n",
    "# checking the result\n",
    "event_users_groups_filtered"
   ]
  },
  {
   "cell_type": "code",
   "execution_count": 82,
   "metadata": {},
   "outputs": [],
   "source": [
    "# updating the function for the Z-test, so it would take values from the correct tables.\n",
    "def check_zvalue_filtered (group1: int, group2: int, event: str, alpha_value: float):\n",
    "    \n",
    "    print ('Compared groups:', group1, 'and', group2, '.', 'Event in question:', event)\n",
    "    print ()\n",
    "    \n",
    "    trials1 = int(users_table_filtered[users_table_filtered['group_id']==group1]['users'])\n",
    "    trials2 = int(users_table_filtered[users_table_filtered['group_id']==group2]['users'])\n",
    "    \n",
    "    successes1 = int(event_users_groups_filtered[\n",
    "        (event_users_groups_filtered['group_id'] == group1) & \n",
    "        (event_users_groups_filtered['event_name'] == event)]['number_of_users'])\n",
    "    successes2 = int(event_users_groups_filtered[\n",
    "        (event_users_groups_filtered['group_id'] == group2) &\n",
    "        (event_users_groups_filtered['event_name'] == event)]['number_of_users'])\n",
    "    \n",
    "    print ('Total users in group', group1, \"-\", trials1)\n",
    "    print ('total of users who performed the event -', successes1)\n",
    "    print ('Proportion in the group: {:.2%}'.format(successes1/trials1))\n",
    "    print ()\n",
    "    print ('Total users in group', group2, \"-\", trials2)\n",
    "    print ('total of users who performed the event -', successes2)\n",
    "    print ('Proportion in the group: {:.2%}'.format(successes2/trials2))\n",
    "    print ()\n",
    "    \n",
    "    alpha = alpha_value\n",
    "    stat, p_value = proportions_ztest([successes1, successes2], [trials1 ,trials2])\n",
    "    \n",
    "    print ('Z-test results:')\n",
    "    print ('p-value: {:.5f}'.format(p_value))\n",
    "    print ('alpha value:', alpha)\n",
    "    if p_value < alpha:\n",
    "        print ('Null hypothesis rejected - the proportions are significantly different')\n",
    "    else:\n",
    "        print ('Failed to reject null hypothesis - there is no reason to consider the proportions different')\n",
    "    \n",
    "    print ('-------------------------------------------------------------------------------------------')"
   ]
  },
  {
   "cell_type": "markdown",
   "metadata": {},
   "source": [
    "We've come a long way. Now we will repeat all 16 Z-tests (including the A/A test), this time using the reduced corrected alpha value (0.05/16), as we are using the same population for all 16 tests. Our expectation is that, just like with the outlier-including data, we will fail to reject all null hypotheses."
   ]
  },
  {
   "cell_type": "code",
   "execution_count": 83,
   "metadata": {},
   "outputs": [
    {
     "name": "stdout",
     "output_type": "stream",
     "text": [
      "Compared groups: 246 and 247 . Event in question: MainScreenAppear\n",
      "\n",
      "Total users in group 246 - 2329\n",
      "total of users who performed the event - 2296\n",
      "Proportion in the group: 98.58%\n",
      "\n",
      "Total users in group 247 - 2354\n",
      "total of users who performed the event - 2319\n",
      "Proportion in the group: 98.51%\n",
      "\n",
      "Z-test results:\n",
      "p-value: 0.84150\n",
      "alpha value: 0.003125\n",
      "Failed to reject null hypothesis - there is no reason to consider the proportions different\n",
      "-------------------------------------------------------------------------------------------\n",
      "Compared groups: 246 and 247 . Event in question: OffersScreenAppear\n",
      "\n",
      "Total users in group 246 - 2329\n",
      "total of users who performed the event - 1392\n",
      "Proportion in the group: 59.77%\n",
      "\n",
      "Total users in group 247 - 2354\n",
      "total of users who performed the event - 1367\n",
      "Proportion in the group: 58.07%\n",
      "\n",
      "Z-test results:\n",
      "p-value: 0.23799\n",
      "alpha value: 0.003125\n",
      "Failed to reject null hypothesis - there is no reason to consider the proportions different\n",
      "-------------------------------------------------------------------------------------------\n",
      "Compared groups: 246 and 247 . Event in question: CartScreenAppear\n",
      "\n",
      "Total users in group 246 - 2329\n",
      "total of users who performed the event - 1120\n",
      "Proportion in the group: 48.09%\n",
      "\n",
      "Total users in group 247 - 2354\n",
      "total of users who performed the event - 1090\n",
      "Proportion in the group: 46.30%\n",
      "\n",
      "Z-test results:\n",
      "p-value: 0.22113\n",
      "alpha value: 0.003125\n",
      "Failed to reject null hypothesis - there is no reason to consider the proportions different\n",
      "-------------------------------------------------------------------------------------------\n",
      "Compared groups: 246 and 247 . Event in question: PaymentScreenSuccessful\n",
      "\n",
      "Total users in group 246 - 2329\n",
      "total of users who performed the event - 1056\n",
      "Proportion in the group: 45.34%\n",
      "\n",
      "Total users in group 247 - 2354\n",
      "total of users who performed the event - 1012\n",
      "Proportion in the group: 42.99%\n",
      "\n",
      "Z-test results:\n",
      "p-value: 0.10530\n",
      "alpha value: 0.003125\n",
      "Failed to reject null hypothesis - there is no reason to consider the proportions different\n",
      "-------------------------------------------------------------------------------------------\n",
      "Compared groups: 246 and 248 . Event in question: MainScreenAppear\n",
      "\n",
      "Total users in group 246 - 2329\n",
      "total of users who performed the event - 2296\n",
      "Proportion in the group: 98.58%\n",
      "\n",
      "Total users in group 248 - 2366\n",
      "total of users who performed the event - 2324\n",
      "Proportion in the group: 98.22%\n",
      "\n",
      "Z-test results:\n",
      "p-value: 0.32765\n",
      "alpha value: 0.003125\n",
      "Failed to reject null hypothesis - there is no reason to consider the proportions different\n",
      "-------------------------------------------------------------------------------------------\n",
      "Compared groups: 246 and 248 . Event in question: OffersScreenAppear\n",
      "\n",
      "Total users in group 246 - 2329\n",
      "total of users who performed the event - 1392\n",
      "Proportion in the group: 59.77%\n",
      "\n",
      "Total users in group 248 - 2366\n",
      "total of users who performed the event - 1369\n",
      "Proportion in the group: 57.86%\n",
      "\n",
      "Z-test results:\n",
      "p-value: 0.18443\n",
      "alpha value: 0.003125\n",
      "Failed to reject null hypothesis - there is no reason to consider the proportions different\n",
      "-------------------------------------------------------------------------------------------\n",
      "Compared groups: 246 and 248 . Event in question: CartScreenAppear\n",
      "\n",
      "Total users in group 246 - 2329\n",
      "total of users who performed the event - 1120\n",
      "Proportion in the group: 48.09%\n",
      "\n",
      "Total users in group 248 - 2366\n",
      "total of users who performed the event - 1073\n",
      "Proportion in the group: 45.35%\n",
      "\n",
      "Z-test results:\n",
      "p-value: 0.06005\n",
      "alpha value: 0.003125\n",
      "Failed to reject null hypothesis - there is no reason to consider the proportions different\n",
      "-------------------------------------------------------------------------------------------\n",
      "Compared groups: 246 and 248 . Event in question: PaymentScreenSuccessful\n",
      "\n",
      "Total users in group 246 - 2329\n",
      "total of users who performed the event - 1056\n",
      "Proportion in the group: 45.34%\n",
      "\n",
      "Total users in group 248 - 2366\n",
      "total of users who performed the event - 1027\n",
      "Proportion in the group: 43.41%\n",
      "\n",
      "Z-test results:\n",
      "p-value: 0.18215\n",
      "alpha value: 0.003125\n",
      "Failed to reject null hypothesis - there is no reason to consider the proportions different\n",
      "-------------------------------------------------------------------------------------------\n",
      "Compared groups: 247 and 248 . Event in question: MainScreenAppear\n",
      "\n",
      "Total users in group 247 - 2354\n",
      "total of users who performed the event - 2319\n",
      "Proportion in the group: 98.51%\n",
      "\n",
      "Total users in group 248 - 2366\n",
      "total of users who performed the event - 2324\n",
      "Proportion in the group: 98.22%\n",
      "\n",
      "Z-test results:\n",
      "p-value: 0.43432\n",
      "alpha value: 0.003125\n",
      "Failed to reject null hypothesis - there is no reason to consider the proportions different\n",
      "-------------------------------------------------------------------------------------------\n",
      "Compared groups: 247 and 248 . Event in question: OffersScreenAppear\n",
      "\n",
      "Total users in group 247 - 2354\n",
      "total of users who performed the event - 1367\n",
      "Proportion in the group: 58.07%\n",
      "\n",
      "Total users in group 248 - 2366\n",
      "total of users who performed the event - 1369\n",
      "Proportion in the group: 57.86%\n",
      "\n",
      "Z-test results:\n",
      "p-value: 0.88381\n",
      "alpha value: 0.003125\n",
      "Failed to reject null hypothesis - there is no reason to consider the proportions different\n",
      "-------------------------------------------------------------------------------------------\n",
      "Compared groups: 247 and 248 . Event in question: CartScreenAppear\n",
      "\n",
      "Total users in group 247 - 2354\n",
      "total of users who performed the event - 1090\n",
      "Proportion in the group: 46.30%\n",
      "\n",
      "Total users in group 248 - 2366\n",
      "total of users who performed the event - 1073\n",
      "Proportion in the group: 45.35%\n",
      "\n",
      "Z-test results:\n",
      "p-value: 0.51101\n",
      "alpha value: 0.003125\n",
      "Failed to reject null hypothesis - there is no reason to consider the proportions different\n",
      "-------------------------------------------------------------------------------------------\n",
      "Compared groups: 247 and 248 . Event in question: PaymentScreenSuccessful\n",
      "\n",
      "Total users in group 247 - 2354\n",
      "total of users who performed the event - 1012\n",
      "Proportion in the group: 42.99%\n",
      "\n",
      "Total users in group 248 - 2366\n",
      "total of users who performed the event - 1027\n",
      "Proportion in the group: 43.41%\n",
      "\n",
      "Z-test results:\n",
      "p-value: 0.77301\n",
      "alpha value: 0.003125\n",
      "Failed to reject null hypothesis - there is no reason to consider the proportions different\n",
      "-------------------------------------------------------------------------------------------\n",
      "Compared groups: 249 and 248 . Event in question: MainScreenAppear\n",
      "\n",
      "Total users in group 249 - 4683\n",
      "total of users who performed the event - 4615\n",
      "Proportion in the group: 98.55%\n",
      "\n",
      "Total users in group 248 - 2366\n",
      "total of users who performed the event - 2324\n",
      "Proportion in the group: 98.22%\n",
      "\n",
      "Z-test results:\n",
      "p-value: 0.30137\n",
      "alpha value: 0.003125\n",
      "Failed to reject null hypothesis - there is no reason to consider the proportions different\n",
      "-------------------------------------------------------------------------------------------\n",
      "Compared groups: 249 and 248 . Event in question: OffersScreenAppear\n",
      "\n",
      "Total users in group 249 - 4683\n",
      "total of users who performed the event - 2759\n",
      "Proportion in the group: 58.92%\n",
      "\n",
      "Total users in group 248 - 2366\n",
      "total of users who performed the event - 1369\n",
      "Proportion in the group: 57.86%\n",
      "\n",
      "Z-test results:\n",
      "p-value: 0.39635\n",
      "alpha value: 0.003125\n",
      "Failed to reject null hypothesis - there is no reason to consider the proportions different\n",
      "-------------------------------------------------------------------------------------------\n",
      "Compared groups: 249 and 248 . Event in question: CartScreenAppear\n",
      "\n",
      "Total users in group 249 - 4683\n",
      "total of users who performed the event - 2210\n",
      "Proportion in the group: 47.19%\n",
      "\n",
      "Total users in group 248 - 2366\n",
      "total of users who performed the event - 1073\n",
      "Proportion in the group: 45.35%\n",
      "\n",
      "Z-test results:\n",
      "p-value: 0.14337\n",
      "alpha value: 0.003125\n",
      "Failed to reject null hypothesis - there is no reason to consider the proportions different\n",
      "-------------------------------------------------------------------------------------------\n",
      "Compared groups: 249 and 248 . Event in question: PaymentScreenSuccessful\n",
      "\n",
      "Total users in group 249 - 4683\n",
      "total of users who performed the event - 2068\n",
      "Proportion in the group: 44.16%\n",
      "\n",
      "Total users in group 248 - 2366\n",
      "total of users who performed the event - 1027\n",
      "Proportion in the group: 43.41%\n",
      "\n",
      "Z-test results:\n",
      "p-value: 0.54740\n",
      "alpha value: 0.003125\n",
      "Failed to reject null hypothesis - there is no reason to consider the proportions different\n",
      "-------------------------------------------------------------------------------------------\n"
     ]
    }
   ],
   "source": [
    "for event in event_list:\n",
    "    check_zvalue_filtered(246, 247, event, 0.05/16)\n",
    "for event in event_list:\n",
    "    check_zvalue_filtered(246, 248, event, 0.05/16)\n",
    "for event in event_list:\n",
    "    check_zvalue_filtered(247, 248, event, 0.05/16)\n",
    "for event in event_list:\n",
    "    check_zvalue_filtered(249, 248, event, 0.05/16)"
   ]
  },
  {
   "cell_type": "markdown",
   "metadata": {},
   "source": [
    "Just as expected - we have failed to reject all null hypotheses. This is, again, probably due to the fact that it doesn't matter if we have users with many actions in our data, if our testing methodology only \"cares\" about whether a given user performed any kind of action at least once, and \"doesn't care\" even if they did it 1000 times. \n",
    "\n",
    "In the end, all we did now was just shrink the population of all three tests groups in more or less the same margin, and take out a certain amount of users who surely have performed all four types of events (given the amount of their actions - what's the chance that any of those users only had 3 types of events, or even less? highly unlikely). Of course it affects the p-values of the test a little, but not enough to make any major difference.\n",
    "\n",
    "It is worthy to mention that the same test that yielded a p-value between 0.05 and 0.1 before (groups 246 and 248, test for CartScreenAppear), did so AGAIN with the filtered data, and while it did come closer to 0.05, it still wasn't lower than that. That is to say that even if we would have used `alpha = 0.05` in the filtered data tests, we would still not be able to reject ANY of the null hypotheses.\n",
    "\n",
    "In other words - **with the the outlier users or without them**, the control groups and test groups can be considered similar. The differences between them are very very small, that is to say, not statistically significant."
   ]
  },
  {
   "cell_type": "markdown",
   "metadata": {},
   "source": [
    "# Final Conclusions"
   ]
  },
  {
   "cell_type": "markdown",
   "metadata": {},
   "source": [
    "The startup's desire to boost its revenue by simply changing the font set used in its app has turned down to be ineffective. After conducting a week-long A/A/B test, which involved two control groups and one test group (the latter using the app with the new fonts) it turned out that the user behaviour accross all three groups was statistically similar, with only minor, insignificant differences. That is why the recommendation is for the test to be stopped (if it hasn't already), and either retain the old font set or use the new one - it doesn't make any difference.\n",
    "\n",
    "Studying the event funnels of the entire population of the test, as well as that of each group separately, revealed a similar picture. An important conclusion to be learned from the study - unrelated to which font is used - is that roughly 75% of the users who view and offers page, also make a purchase (this alone could be considered great news). The problem is, however, than only about 62% of users who view the main screen of the app even proceed to viewing an offers page. If anything is to be learned from this experiment, other than the fact that users \"don't give a font\", is that something in the main screen has to be changed, because it is this stage in which the company loses most users - the retention rate going from the main screen to the offers screen is only 62%, whereas it is higher in all subsequent steps. This might be a simple matter of UI/UX design."
   ]
  }
 ],
 "metadata": {
  "ExecuteTimeLog": [
   {
    "duration": 1570,
    "start_time": "2022-05-10T14:44:05.384Z"
   },
   {
    "duration": 301,
    "start_time": "2022-05-10T14:44:06.956Z"
   },
   {
    "duration": 61,
    "start_time": "2022-05-10T14:44:07.262Z"
   },
   {
    "duration": 22,
    "start_time": "2022-05-10T14:44:07.325Z"
   },
   {
    "duration": 10,
    "start_time": "2022-05-10T14:44:07.350Z"
   },
   {
    "duration": 69,
    "start_time": "2022-05-10T14:44:07.363Z"
   },
   {
    "duration": 33,
    "start_time": "2022-05-10T14:44:07.434Z"
   },
   {
    "duration": 207,
    "start_time": "2022-05-10T14:44:07.469Z"
   },
   {
    "duration": 85,
    "start_time": "2022-05-10T14:44:07.678Z"
   },
   {
    "duration": 71,
    "start_time": "2022-05-10T14:44:07.764Z"
   },
   {
    "duration": 7,
    "start_time": "2022-05-10T14:44:07.838Z"
   },
   {
    "duration": 7,
    "start_time": "2022-05-10T14:44:07.847Z"
   },
   {
    "duration": 17,
    "start_time": "2022-05-10T14:44:07.856Z"
   },
   {
    "duration": 7,
    "start_time": "2022-05-10T14:44:07.877Z"
   },
   {
    "duration": 51,
    "start_time": "2022-05-10T14:44:07.886Z"
   },
   {
    "duration": 66,
    "start_time": "2022-05-10T14:44:07.941Z"
   },
   {
    "duration": 136,
    "start_time": "2022-05-10T14:44:08.009Z"
   },
   {
    "duration": 8,
    "start_time": "2022-05-10T14:44:08.147Z"
   },
   {
    "duration": 32,
    "start_time": "2022-05-10T14:44:08.156Z"
   },
   {
    "duration": 40,
    "start_time": "2022-05-10T14:44:08.200Z"
   },
   {
    "duration": 82,
    "start_time": "2022-05-10T14:44:08.241Z"
   },
   {
    "duration": 2389,
    "start_time": "2022-05-10T14:44:08.325Z"
   },
   {
    "duration": 7140,
    "start_time": "2022-05-10T14:44:10.716Z"
   },
   {
    "duration": 54,
    "start_time": "2022-05-10T14:44:17.858Z"
   },
   {
    "duration": 42,
    "start_time": "2022-05-10T14:44:17.914Z"
   },
   {
    "duration": 17,
    "start_time": "2022-05-10T14:44:17.959Z"
   },
   {
    "duration": 19,
    "start_time": "2022-05-10T14:44:17.978Z"
   },
   {
    "duration": 6630,
    "start_time": "2022-05-10T14:44:18.001Z"
   },
   {
    "duration": 15,
    "start_time": "2022-05-10T14:44:24.634Z"
   },
   {
    "duration": 152,
    "start_time": "2022-05-10T14:44:24.651Z"
   },
   {
    "duration": 12,
    "start_time": "2022-05-10T14:44:24.807Z"
   },
   {
    "duration": 24,
    "start_time": "2022-05-10T14:44:24.820Z"
   },
   {
    "duration": 65,
    "start_time": "2022-05-10T14:44:24.846Z"
   },
   {
    "duration": 192,
    "start_time": "2022-05-10T14:44:24.913Z"
   },
   {
    "duration": 8,
    "start_time": "2022-05-10T14:44:25.115Z"
   },
   {
    "duration": 26,
    "start_time": "2022-05-10T14:44:25.125Z"
   },
   {
    "duration": 75,
    "start_time": "2022-05-10T14:44:25.153Z"
   },
   {
    "duration": 10,
    "start_time": "2022-05-10T14:44:25.229Z"
   },
   {
    "duration": 87,
    "start_time": "2022-05-10T14:44:25.240Z"
   },
   {
    "duration": 49,
    "start_time": "2022-05-10T14:44:25.335Z"
   },
   {
    "duration": 29,
    "start_time": "2022-05-10T14:44:25.389Z"
   },
   {
    "duration": 89,
    "start_time": "2022-05-10T14:44:25.420Z"
   },
   {
    "duration": 78,
    "start_time": "2022-05-10T14:44:25.510Z"
   },
   {
    "duration": 77,
    "start_time": "2022-05-10T14:44:25.600Z"
   },
   {
    "duration": 63,
    "start_time": "2022-05-10T14:44:25.678Z"
   },
   {
    "duration": 129,
    "start_time": "2022-05-10T14:44:25.743Z"
   },
   {
    "duration": 86,
    "start_time": "2022-05-10T14:44:25.874Z"
   },
   {
    "duration": 135,
    "start_time": "2022-05-10T14:44:25.961Z"
   },
   {
    "duration": 4,
    "start_time": "2022-05-10T14:44:26.098Z"
   },
   {
    "duration": 43,
    "start_time": "2022-05-10T14:44:26.103Z"
   },
   {
    "duration": 144,
    "start_time": "2022-05-10T14:44:26.148Z"
   },
   {
    "duration": 11303,
    "start_time": "2022-05-10T14:44:26.294Z"
   },
   {
    "duration": 26,
    "start_time": "2022-05-10T14:44:37.598Z"
   },
   {
    "duration": 15,
    "start_time": "2022-05-10T14:44:37.626Z"
   },
   {
    "duration": 33,
    "start_time": "2022-05-10T14:44:37.642Z"
   },
   {
    "duration": 6,
    "start_time": "2022-05-10T14:44:37.677Z"
   },
   {
    "duration": 9,
    "start_time": "2022-05-10T14:44:37.684Z"
   },
   {
    "duration": 63,
    "start_time": "2022-05-10T14:44:37.694Z"
   },
   {
    "duration": 24,
    "start_time": "2022-05-10T14:44:37.759Z"
   },
   {
    "duration": 36,
    "start_time": "2022-05-10T14:44:37.785Z"
   },
   {
    "duration": 363,
    "start_time": "2022-05-10T14:44:37.822Z"
   },
   {
    "duration": 11,
    "start_time": "2022-05-10T14:44:38.186Z"
   },
   {
    "duration": 55,
    "start_time": "2022-05-10T14:44:38.198Z"
   },
   {
    "duration": 9,
    "start_time": "2022-05-10T14:44:38.254Z"
   },
   {
    "duration": 15,
    "start_time": "2022-05-10T14:44:38.265Z"
   },
   {
    "duration": 34,
    "start_time": "2022-05-10T14:44:38.281Z"
   },
   {
    "duration": 98,
    "start_time": "2022-05-10T14:44:38.319Z"
   },
   {
    "duration": 5,
    "start_time": "2022-05-10T14:44:38.419Z"
   },
   {
    "duration": 77,
    "start_time": "2022-05-10T14:44:38.425Z"
   },
   {
    "duration": 9,
    "start_time": "2022-05-10T14:44:38.504Z"
   },
   {
    "duration": 33,
    "start_time": "2022-05-10T14:44:38.516Z"
   },
   {
    "duration": 23,
    "start_time": "2022-05-10T14:44:38.551Z"
   },
   {
    "duration": 23,
    "start_time": "2022-05-10T14:44:38.575Z"
   },
   {
    "duration": 86,
    "start_time": "2022-05-10T14:44:38.599Z"
   },
   {
    "duration": 53,
    "start_time": "2022-05-10T14:44:38.687Z"
   },
   {
    "duration": 46,
    "start_time": "2022-05-10T14:44:38.742Z"
   },
   {
    "duration": 71,
    "start_time": "2022-05-10T14:44:38.790Z"
   },
   {
    "duration": 74,
    "start_time": "2022-05-10T14:44:38.862Z"
   },
   {
    "duration": 26,
    "start_time": "2022-05-10T14:44:38.937Z"
   },
   {
    "duration": 17,
    "start_time": "2022-05-10T14:44:38.965Z"
   },
   {
    "duration": 10,
    "start_time": "2022-05-10T14:44:38.984Z"
   },
   {
    "duration": 37,
    "start_time": "2022-05-10T14:44:38.996Z"
   },
   {
    "duration": 11,
    "start_time": "2022-05-10T14:44:39.035Z"
   },
   {
    "duration": 101,
    "start_time": "2022-05-10T14:44:39.048Z"
   },
   {
    "duration": 223,
    "start_time": "2022-05-10T14:53:37.863Z"
   }
  ],
  "kernelspec": {
   "display_name": "Python 3 (ipykernel)",
   "language": "python",
   "name": "python3"
  },
  "language_info": {
   "codemirror_mode": {
    "name": "ipython",
    "version": 3
   },
   "file_extension": ".py",
   "mimetype": "text/x-python",
   "name": "python",
   "nbconvert_exporter": "python",
   "pygments_lexer": "ipython3",
   "version": "3.9.7"
  },
  "toc": {
   "base_numbering": 1,
   "nav_menu": {},
   "number_sections": true,
   "sideBar": true,
   "skip_h1_title": true,
   "title_cell": "Table of Contents",
   "title_sidebar": "Contents",
   "toc_cell": false,
   "toc_position": {},
   "toc_section_display": true,
   "toc_window_display": false
  }
 },
 "nbformat": 4,
 "nbformat_minor": 2
}
